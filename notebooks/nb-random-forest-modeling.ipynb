{
 "cells": [
  {
   "cell_type": "code",
   "execution_count": 1,
   "id": "copyrighted-auction",
   "metadata": {},
   "outputs": [],
   "source": [
    "import pandas as pd\n",
    "import numpy as np\n",
    "pd.set_option('max.rows',200)\n",
    "import time"
   ]
  },
  {
   "cell_type": "markdown",
   "id": "metric-potato",
   "metadata": {},
   "source": [
    "## Train & Evaluate Model in US"
   ]
  },
  {
   "cell_type": "markdown",
   "id": "complimentary-borough",
   "metadata": {},
   "source": [
    "### Load data"
   ]
  },
  {
   "cell_type": "code",
   "execution_count": null,
   "id": "polish-visitor",
   "metadata": {},
   "outputs": [],
   "source": [
    "np.seed(0)"
   ]
  },
  {
   "cell_type": "code",
   "execution_count": 2,
   "id": "hawaiian-railway",
   "metadata": {},
   "outputs": [],
   "source": [
    "train = pd.read_csv('../data/processed/us-train.csv')\n",
    "val = pd.read_csv('../data/processed/us-val.csv')\n",
    "us = pd.read_csv('../data/processed/us-test.csv')"
   ]
  },
  {
   "cell_type": "code",
   "execution_count": 3,
   "id": "herbal-might",
   "metadata": {},
   "outputs": [],
   "source": [
    "y_train = train.log_price\n",
    "y_val = val.log_price"
   ]
  },
  {
   "cell_type": "code",
   "execution_count": 4,
   "id": "guided-british",
   "metadata": {},
   "outputs": [],
   "source": [
    "X_train = train.drop(columns=['log_price'])\n",
    "X_val = val.drop(columns=['log_price'])"
   ]
  },
  {
   "cell_type": "markdown",
   "id": "occupied-august",
   "metadata": {},
   "source": [
    "### Train Random Forest"
   ]
  },
  {
   "cell_type": "markdown",
   "id": "cheap-continuity",
   "metadata": {},
   "source": [
    "### Default Parameters"
   ]
  },
  {
   "cell_type": "code",
   "execution_count": 19,
   "id": "bored-essay",
   "metadata": {},
   "outputs": [],
   "source": [
    "from sklearn.ensemble import RandomForestRegressor\n",
    "from sklearn.metrics import r2_score\n",
    "from sklearn.metrics import mean_squared_error\n",
    "from sklearn.metrics import mean_absolute_error\n",
    "from sklearn.metrics import median_absolute_error"
   ]
  },
  {
   "cell_type": "code",
   "execution_count": 6,
   "id": "defined-civilian",
   "metadata": {},
   "outputs": [],
   "source": [
    "rf = RandomForestRegressor().fit(X_train, y_train)"
   ]
  },
  {
   "cell_type": "code",
   "execution_count": 7,
   "id": "lined-disease",
   "metadata": {},
   "outputs": [],
   "source": [
    "y_pred_train = rf.predict(X_train)\n",
    "y_pred = rf.predict(X_val)\n",
    "\n",
    "acc_train = rf.score(X_train, y_train)\n",
    "acc = rf.score(X_val, y_val)\n",
    "\n",
    "rmse_train = mean_squared_error(np.exp(y_train), np.exp(y_pred_train), squared=False)\n",
    "rmse = mean_squared_error(np.exp(y_val), np.exp(y_pred), squared=False)\n",
    "\n",
    "mae_train = mean_absolute_error(np.exp(y_train), np.exp(y_pred_train))\n",
    "mae = mean_absolute_error(np.exp(y_val), np.exp(y_pred))\n",
    "\n",
    "medae_train = median_absolute_error(np.exp(y_train), np.exp(y_pred_train))\n",
    "medae = median_absolute_error(np.exp(y_val), np.exp(y_pred))"
   ]
  },
  {
   "cell_type": "code",
   "execution_count": 8,
   "id": "warming-anaheim",
   "metadata": {},
   "outputs": [
    {
     "name": "stdout",
     "output_type": "stream",
     "text": [
      "R^2 (Train): 0.95\n",
      "R^2 (Val): 0.68\n",
      "\n",
      "RMSE (Train): 58.04\n",
      "RMSE (Val): 115.93\n",
      "\n",
      "Mean Abs Error (Train): 21.6\n",
      "Mean Abs Error (Val): 52.11\n",
      "\n",
      "Median Absolute Error (Train): 8.54\n",
      "Median Absolute Error (Val): 23.89\n"
     ]
    }
   ],
   "source": [
    "print('R^2 (Train):', round(acc_train,2)) \n",
    "print('R^2 (Val):', round(acc,2))\n",
    "print('')\n",
    "print('RMSE (Train):', round(rmse_train,2))\n",
    "print('RMSE (Val):', round(rmse,2))\n",
    "print('')\n",
    "print('Mean Abs Error (Train):', round(mae_train,2))\n",
    "print('Mean Abs Error (Val):', round(mae,2))\n",
    "print('')\n",
    "print('Median Absolute Error (Train):', round(medae_train,2))\n",
    "print('Median Absolute Error (Val):', round(medae,2))"
   ]
  },
  {
   "cell_type": "markdown",
   "id": "guilty-mentor",
   "metadata": {},
   "source": [
    "### Random Search Parameters"
   ]
  },
  {
   "cell_type": "code",
   "execution_count": 9,
   "id": "included-wheat",
   "metadata": {},
   "outputs": [],
   "source": [
    "from sklearn.model_selection import RandomizedSearchCV"
   ]
  },
  {
   "cell_type": "code",
   "execution_count": 10,
   "id": "effective-zealand",
   "metadata": {},
   "outputs": [],
   "source": [
    "# rf parameters input into random search\n",
    "n_estimators = [int(x) for x in np.linspace(200, 2000, 10)]\n",
    "max_features = ['auto', 'sqrt']\n",
    "max_depth = [int(x) for x in np.linspace(10, 110, 11)]\n",
    "max_depth.append(None)\n",
    "min_samples_split = [2, 5, 10]\n",
    "min_samples_leaf = [1, 2, 4]\n",
    "bootstrap = [True, False]\n",
    "\n",
    "# produce random grid\n",
    "random_grid = {'n_estimators': n_estimators,\n",
    "               'max_features': max_features,\n",
    "               'max_depth': max_depth,\n",
    "               'min_samples_split': min_samples_split,\n",
    "               'min_samples_leaf': min_samples_leaf,\n",
    "               'bootstrap': bootstrap}"
   ]
  },
  {
   "cell_type": "code",
   "execution_count": 11,
   "id": "changed-terrain",
   "metadata": {},
   "outputs": [],
   "source": [
    "# random search best hyper parameters of model\n",
    "rf_r = RandomForestRegressor()\n",
    "rf_random = RandomizedSearchCV(estimator = rf_r, param_distributions = random_grid, n_iter = 20, cv = 5, \n",
    "                               verbose=2, random_state=0, n_jobs = -1)"
   ]
  },
  {
   "cell_type": "code",
   "execution_count": 12,
   "id": "guilty-bunny",
   "metadata": {},
   "outputs": [
    {
     "name": "stdout",
     "output_type": "stream",
     "text": [
      "Fitting 5 folds for each of 20 candidates, totalling 100 fits\n"
     ]
    },
    {
     "name": "stderr",
     "output_type": "stream",
     "text": [
      "[Parallel(n_jobs=-1)]: Using backend LokyBackend with 4 concurrent workers.\n",
      "[Parallel(n_jobs=-1)]: Done  33 tasks      | elapsed: 122.3min\n",
      "[Parallel(n_jobs=-1)]: Done 100 out of 100 | elapsed: 323.1min finished\n"
     ]
    },
    {
     "data": {
      "text/plain": [
       "RandomizedSearchCV(cv=5, estimator=RandomForestRegressor(), n_iter=20,\n",
       "                   n_jobs=-1,\n",
       "                   param_distributions={'bootstrap': [True, False],\n",
       "                                        'max_depth': [10, 20, 30, 40, 50, 60,\n",
       "                                                      70, 80, 90, 100, 110,\n",
       "                                                      None],\n",
       "                                        'max_features': ['auto', 'sqrt'],\n",
       "                                        'min_samples_leaf': [1, 2, 4],\n",
       "                                        'min_samples_split': [2, 5, 10],\n",
       "                                        'n_estimators': [200, 400, 600, 800,\n",
       "                                                         1000, 1200, 1400, 1600,\n",
       "                                                         1800, 2000]},\n",
       "                   random_state=0, verbose=2)"
      ]
     },
     "execution_count": 12,
     "metadata": {},
     "output_type": "execute_result"
    }
   ],
   "source": [
    "# fit the random search model on 3 cross validations with 20 iters each\n",
    "rf_random.fit(X_train, y_train)"
   ]
  },
  {
   "cell_type": "code",
   "execution_count": 13,
   "id": "ordered-target",
   "metadata": {},
   "outputs": [
    {
     "data": {
      "text/plain": [
       "{'n_estimators': 800,\n",
       " 'min_samples_split': 2,\n",
       " 'min_samples_leaf': 2,\n",
       " 'max_features': 'auto',\n",
       " 'max_depth': 100,\n",
       " 'bootstrap': True}"
      ]
     },
     "execution_count": 13,
     "metadata": {},
     "output_type": "execute_result"
    }
   ],
   "source": [
    "# get best random search parameters\n",
    "rf_random.best_params_"
   ]
  },
  {
   "cell_type": "code",
   "execution_count": 33,
   "id": "expected-department",
   "metadata": {},
   "outputs": [],
   "source": [
    "rf_opt = RandomForestRegressor(n_estimators=800, min_samples_split=2, \n",
    "                                min_samples_leaf=2, max_features='auto',\n",
    "                               max_depth=100, bootstrap=True).fit(X_train, y_train)"
   ]
  },
  {
   "cell_type": "code",
   "execution_count": 61,
   "id": "voluntary-nurse",
   "metadata": {},
   "outputs": [],
   "source": [
    "y_pred_train = rf_opt.predict(X_train)\n",
    "y_pred = rf_opt.predict(X_val)\n",
    "\n",
    "acc_train = rf.score(X_train, y_train)\n",
    "acc = rf.score(X_val, y_val)\n",
    "\n",
    "rmse_train = mean_squared_error(np.exp(y_train), np.exp(y_pred_train), squared=False)\n",
    "rmse = mean_squared_error(np.exp(y_val), np.exp(y_pred), squared=False)\n",
    "\n",
    "mae_train = mean_absolute_error(np.exp(y_train), np.exp(y_pred_train))\n",
    "mae = mean_absolute_error(np.exp(y_val), np.exp(y_pred))\n",
    "\n",
    "medae_train = median_absolute_error(np.exp(y_train), np.exp(y_pred_train))\n",
    "medae = median_absolute_error(np.exp(y_val), np.exp(y_pred))"
   ]
  },
  {
   "cell_type": "code",
   "execution_count": 62,
   "id": "experimental-sculpture",
   "metadata": {},
   "outputs": [],
   "source": [
    "print('R^2 (Train):', round(acc_train,5)) \n",
    "print('R^2 (Val):', round(acc,5))\n",
    "print('')\n",
    "print('RMSE (Train):', round(rmse_train,5))\n",
    "print('RMSE (Val):', round(rmse,5))\n",
    "print('')\n",
    "print('Mean Abs Error (Train):', round(mae_train,5))\n",
    "print('Mean Abs Error (Val):', round(mae,5))\n",
    "print('')\n",
    "print('Median Absolute Error (Train):', round(medae_train,5))\n",
    "print('Median Absolute Error (Val):', round(medae,5))"
   ]
  },
  {
   "cell_type": "markdown",
   "id": "hired-family",
   "metadata": {},
   "source": [
    "## Final Model Training"
   ]
  },
  {
   "cell_type": "code",
   "execution_count": 9,
   "id": "narrow-logging",
   "metadata": {},
   "outputs": [],
   "source": [
    "# create full train set (val + existing train)\n",
    "X = pd.concat([X_train, X_val]).reset_index(drop=True)\n",
    "y = pd.concat([y_train, y_val]).reset_index(drop=True)"
   ]
  },
  {
   "cell_type": "code",
   "execution_count": 10,
   "id": "violent-editing",
   "metadata": {},
   "outputs": [],
   "source": [
    "# create test set\n",
    "y_test = us.log_price\n",
    "X_test = us.drop(columns=['log_price'])"
   ]
  },
  {
   "cell_type": "code",
   "execution_count": 12,
   "id": "eligible-launch",
   "metadata": {},
   "outputs": [],
   "source": [
    "start = time.time()\n",
    "rf_final = RandomForestRegressor(n_estimators=800, min_samples_split=2, \n",
    "                                min_samples_leaf=2, max_features='auto',\n",
    "                               max_depth=100, bootstrap=True).fit(X, y)\n",
    "end = time.time()"
   ]
  },
  {
   "cell_type": "code",
   "execution_count": 13,
   "id": "italic-publisher",
   "metadata": {},
   "outputs": [
    {
     "name": "stdout",
     "output_type": "stream",
     "text": [
      "Train time: 956.38\n"
     ]
    }
   ],
   "source": [
    "print('Train time:', round(end - start,2))"
   ]
  },
  {
   "cell_type": "code",
   "execution_count": 63,
   "id": "rubber-bidding",
   "metadata": {},
   "outputs": [],
   "source": [
    "y_pred_train = rf_final.predict(X)\n",
    "test_start = time.time()\n",
    "y_pred = rf_final.predict(X_test)\n",
    "test_end = time.time()\n",
    "\n",
    "acc_train = rf_final.score(X, y)\n",
    "acc = rf_final.score(X_test, y_test)\n",
    "\n",
    "rmse_train = mean_squared_error(np.exp(y), np.exp(y_pred_train), squared=False)\n",
    "rmse = mean_squared_error(np.exp(y_test), np.exp(y_pred), squared=False)\n",
    "\n",
    "mae_train = mean_absolute_error(np.exp(y), np.exp(y_pred_train))\n",
    "mae = mean_absolute_error(np.exp(y_test), np.exp(y_pred))\n",
    "\n",
    "medae_train = median_absolute_error(np.exp(y), np.exp(y_pred_train))\n",
    "medae = median_absolute_error(np.exp(y_test), np.exp(y_pred))"
   ]
  },
  {
   "cell_type": "code",
   "execution_count": 65,
   "id": "traditional-religious",
   "metadata": {},
   "outputs": [
    {
     "name": "stdout",
     "output_type": "stream",
     "text": [
      "Test time: 4.6498\n"
     ]
    }
   ],
   "source": [
    "print('Test time:', round(test_end - test_start,4))"
   ]
  },
  {
   "cell_type": "code",
   "execution_count": 66,
   "id": "middle-corrections",
   "metadata": {},
   "outputs": [
    {
     "name": "stdout",
     "output_type": "stream",
     "text": [
      "R^2 (Train): 0.932\n",
      "R^2 (Test): 0.678\n",
      "\n",
      "RMSE (Train): 69.44\n",
      "RMSE (Test): 117.08\n",
      "\n",
      "Mean Abs Error (Train): 24.51\n",
      "Mean Abs Error (Test): 51.68\n",
      "\n",
      "Median Absolute Error (Train): 9.2\n",
      "Median Absolute Error (Test): 23.55\n"
     ]
    }
   ],
   "source": [
    "print('R^2 (Train):', round(acc_train,3)) \n",
    "print('R^2 (Test):', round(acc,3))\n",
    "print('')\n",
    "print('RMSE (Train):', round(rmse_train,2))\n",
    "print('RMSE (Test):', round(rmse,2))\n",
    "print('')\n",
    "print('Mean Abs Error (Train):', round(mae_train,2))\n",
    "print('Mean Abs Error (Test):', round(mae,2))\n",
    "print('')\n",
    "print('Median Absolute Error (Train):', round(medae_train,2))\n",
    "print('Median Absolute Error (Test):', round(medae,2))"
   ]
  },
  {
   "cell_type": "markdown",
   "id": "enormous-gathering",
   "metadata": {},
   "source": [
    "## Import international data"
   ]
  },
  {
   "cell_type": "code",
   "execution_count": 156,
   "id": "arranged-ivory",
   "metadata": {},
   "outputs": [],
   "source": [
    "madrid = pd.read_csv('../data/processed/madrid-test.csv')\n",
    "london = pd.read_csv('../data/processed/london-test.csv')\n",
    "paris = pd.read_csv('../data/processed/paris-test.csv')"
   ]
  },
  {
   "cell_type": "code",
   "execution_count": 162,
   "id": "accessory-newfoundland",
   "metadata": {},
   "outputs": [],
   "source": [
    "madrid_y = madrid.log_price\n",
    "madrid_X = madrid.drop(columns=['log_price'])\n",
    "\n",
    "london_y = london.log_price\n",
    "london_X = london.drop(columns=['log_price'])\n",
    "\n",
    "paris_y = paris.log_price\n",
    "paris_X = paris.drop(columns=['log_price'])"
   ]
  },
  {
   "cell_type": "markdown",
   "id": "clinical-sheriff",
   "metadata": {},
   "source": [
    "#### Madrid"
   ]
  },
  {
   "cell_type": "code",
   "execution_count": 163,
   "id": "broadband-incentive",
   "metadata": {},
   "outputs": [],
   "source": [
    "# make predictions & time\n",
    "mad_start = time.time()\n",
    "y_pred_o = rf_final.predict(madrid_X)\n",
    "mad_end = time.time()\n",
    "\n",
    "# adjust predictions for cost of living\n",
    "madrid_col = 100/75.8\n",
    "y_pred = np.log(np.exp(y_pred_o / madrid_col))\n",
    "\n",
    "# calculate metrics\n",
    "acc = r2_score(madrid_y, y_pred)\n",
    "\n",
    "rmse = mean_squared_error(np.exp(madrid_y), np.exp(y_pred), squared=False)\n",
    "\n",
    "mae = mean_absolute_error(np.exp(madrid_y), np.exp(y_pred))\n",
    "\n",
    "medae = median_absolute_error(np.exp(madrid_y), np.exp(y_pred))"
   ]
  },
  {
   "cell_type": "code",
   "execution_count": 164,
   "id": "seven-buddy",
   "metadata": {},
   "outputs": [
    {
     "name": "stdout",
     "output_type": "stream",
     "text": [
      "Test Time (madrid): 9.8915\n",
      "\n",
      "R^2 (Madrid): 0.163\n",
      "\n",
      "RMSE (Madrid): 460.53\n",
      "\n",
      "Mean Abs Error (Madrid): 85.45\n",
      "\n",
      "Median Absolute Error (Madrid): 16.04\n"
     ]
    }
   ],
   "source": [
    "print('Test Time (madrid):', round(mad_end-mad_start,4))\n",
    "print('')\n",
    "print('R^2 (Madrid):', round(acc,3))\n",
    "print('')\n",
    "print('RMSE (Madrid):', round(rmse,2))\n",
    "print('')\n",
    "print('Mean Abs Error (Madrid):', round(mae,2))\n",
    "print('')\n",
    "print('Median Absolute Error (Madrid):', round(medae,2))"
   ]
  },
  {
   "cell_type": "code",
   "execution_count": 165,
   "id": "aquatic-integral",
   "metadata": {},
   "outputs": [
    {
     "data": {
      "image/png": "[encoded data removed]",
      "text/plain": [
       "<Figure size 576x360 with 1 Axes>"
      ]
     },
     "metadata": {
      "needs_background": "light"
     },
     "output_type": "display_data"
    }
   ],
   "source": [
    "import matplotlib.pyplot as plt\n",
    "plt.figure(figsize=(8,5))\n",
    "plt.hist(madrid_y, bins=30, label='Madrid Actual', color='darkgrey', alpha = 0.5)\n",
    "plt.hist(y_pred_o, bins=30, label='Madrid Predictions', color='cornflowerblue',alpha = 0.5)\n",
    "plt.hist(y_pred, bins=30, label='Adjusted Madrid Predictions', color='blue',alpha = 0.5)\n",
    "plt.title('Distribution of Actual Log Price Predictions vs. Actual (Madrid)', fontsize=15)\n",
    "plt.ylabel('Number of Observations', fontsize=13)\n",
    "plt.xlabel('Log Price', fontsize=13)\n",
    "plt.legend(fontsize=11)\n",
    "plt.show()"
   ]
  },
  {
   "cell_type": "markdown",
   "id": "banned-nevada",
   "metadata": {},
   "source": [
    "#### London"
   ]
  },
  {
   "cell_type": "code",
   "execution_count": 166,
   "id": "sharp-heart",
   "metadata": {},
   "outputs": [],
   "source": [
    "# make predictions & time\n",
    "lon_start = time.time()\n",
    "y_pred_o = rf_final.predict(london_X)\n",
    "lon_end = time.time()\n",
    "\n",
    "# adjust predictions for cost of living\n",
    "london_col = 100/95\n",
    "y_pred = np.log(np.exp(y_pred_o / london_col))\n",
    "\n",
    "# calculate metrics\n",
    "acc = r2_score(london_y, y_pred)\n",
    "\n",
    "rmse = mean_squared_error(np.exp(london_y), np.exp(y_pred), squared=False)\n",
    "\n",
    "mae = mean_absolute_error(np.exp(london_y), np.exp(y_pred))\n",
    "\n",
    "medae = median_absolute_error(np.exp(london_y), np.exp(y_pred))"
   ]
  },
  {
   "cell_type": "code",
   "execution_count": 167,
   "id": "native-color",
   "metadata": {},
   "outputs": [
    {
     "name": "stdout",
     "output_type": "stream",
     "text": [
      "Test Time (London): 33.17\n",
      "\n",
      "R^2 (London): 0.455\n",
      "\n",
      "RMSE (London): 304.68\n",
      "\n",
      "Mean Abs Error (London): 55.43\n",
      "\n",
      "Median Absolute Error (London): 27.33\n"
     ]
    }
   ],
   "source": [
    "print('Test Time (London):', round(lon_end-lon_start,2))\n",
    "print('')\n",
    "print('R^2 (London):', round(acc,3))\n",
    "print('')\n",
    "print('RMSE (London):', round(rmse,2))\n",
    "print('')\n",
    "print('Mean Abs Error (London):', round(mae,2))\n",
    "print('')\n",
    "print('Median Absolute Error (London):', round(medae,2))"
   ]
  },
  {
   "cell_type": "code",
   "execution_count": 168,
   "id": "white-insulation",
   "metadata": {},
   "outputs": [
    {
     "data": {
      "image/png": "[encoded data removed]",
      "text/plain": [
       "<Figure size 576x360 with 1 Axes>"
      ]
     },
     "metadata": {
      "needs_background": "light"
     },
     "output_type": "display_data"
    }
   ],
   "source": [
    "plt.figure(figsize=(8,5))\n",
    "plt.hist(london_y, bins=30, label='London Actual', color='lightgrey', alpha = 0.5)\n",
    "plt.hist(y_pred_o, bins=30, label='London Predictions', color='cornflowerblue',alpha = 0.5)\n",
    "plt.hist(y_pred, bins=30, label='Adjusted London Predictions', color='blue',alpha = 0.5)\n",
    "plt.title('Distribution of Actual Log Price Predictions vs. Actual (London)', fontsize=15)\n",
    "plt.ylabel('Number of Observations', fontsize=13)\n",
    "plt.xlabel('Log Price', fontsize=13)\n",
    "plt.legend(fontsize=11)\n",
    "plt.show()"
   ]
  },
  {
   "cell_type": "markdown",
   "id": "together-glory",
   "metadata": {},
   "source": [
    "#### Paris"
   ]
  },
  {
   "cell_type": "code",
   "execution_count": 142,
   "id": "framed-austria",
   "metadata": {},
   "outputs": [],
   "source": [
    "# make predictions & time\n",
    "paris_start = time.time()\n",
    "y_pred_o = rf_final.predict(paris_X)\n",
    "paris_end = time.time()\n",
    "\n",
    "# adjust predictions for cost of living\n",
    "paris_col = 100/89.3\n",
    "y_pred = np.log(np.exp(y_pred_o / paris_col))\n",
    "\n",
    "# calculate metrics\n",
    "acc = r2_score(paris_y, y_pred)\n",
    "\n",
    "rmse = mean_squared_error(np.exp(paris_y), np.exp(y_pred), squared=False)\n",
    "\n",
    "mae = mean_absolute_error(np.exp(paris_y), np.exp(y_pred))\n",
    "\n",
    "medae = median_absolute_error(np.exp(paris_y), np.exp(y_pred))"
   ]
  },
  {
   "cell_type": "code",
   "execution_count": 143,
   "id": "primary-course",
   "metadata": {},
   "outputs": [
    {
     "name": "stdout",
     "output_type": "stream",
     "text": [
      "Test Time (Paris): 14.37\n",
      "\n",
      "R^2 (Paris): 0.176\n",
      "\n",
      "RMSE (Paris): 208.31\n",
      "\n",
      "Mean Abs Error (Paris): 54.03\n",
      "\n",
      "Median Absolute Error (Paris): 32.1\n"
     ]
    }
   ],
   "source": [
    "print('Test Time (Paris):', round(paris_end-paris_start,2))\n",
    "print('')\n",
    "print('R^2 (Paris):', round(acc,3))\n",
    "print('')\n",
    "print('RMSE (Paris):', round(rmse,2))\n",
    "print('')\n",
    "print('Mean Abs Error (Paris):', round(mae,2))\n",
    "print('')\n",
    "print('Median Absolute Error (Paris):', round(medae,2))"
   ]
  },
  {
   "cell_type": "code",
   "execution_count": 144,
   "id": "matched-bibliography",
   "metadata": {},
   "outputs": [
    {
     "data": {
      "image/png": "[encoded data removed]",
      "text/plain": [
       "<Figure size 576x360 with 1 Axes>"
      ]
     },
     "metadata": {
      "needs_background": "light"
     },
     "output_type": "display_data"
    }
   ],
   "source": [
    "plt.figure(figsize=(8,5))\n",
    "plt.hist(paris_y, bins=30, label='Paris Actual', color='lightgrey', alpha = 0.5)\n",
    "plt.hist(y_pred_o, bins=30, label='Paris Predictions', color='cornflowerblue',alpha = 0.5)\n",
    "plt.hist(y_pred, bins=30, label='Adjusted Paris Predictions', color='blue',alpha = 0.5)\n",
    "plt.title('Distribution of Actual Log Price Predictions vs. Actual (Paris)', fontsize=15)\n",
    "plt.ylabel('Number of Observations', fontsize=13)\n",
    "plt.xlabel('Log Price', fontsize=13)\n",
    "plt.legend(fontsize=11)\n",
    "plt.show()"
   ]
  },
  {
   "cell_type": "markdown",
   "id": "emotional-civilization",
   "metadata": {},
   "source": [
    "#### International"
   ]
  },
  {
   "cell_type": "code",
   "execution_count": 145,
   "id": "agreed-alcohol",
   "metadata": {},
   "outputs": [],
   "source": [
    "international_X = pd.concat([madrid_X, london_X, paris_X])\n",
    "international_y = pd.concat([madrid_y, london_y, paris_y])"
   ]
  },
  {
   "cell_type": "code",
   "execution_count": 146,
   "id": "current-flesh",
   "metadata": {},
   "outputs": [],
   "source": [
    "# make predictions & time\n",
    "int_start = time.time()\n",
    "y_pred_o = rf_final.predict(international_X)\n",
    "int_end = time.time()\n",
    "\n",
    "# adjust predictions for cost of living\n",
    "int_col = 100/90.317413\n",
    "y_pred = np.log(np.exp(y_pred_o / int_col))\n",
    "\n",
    "# calculate metrics\n",
    "acc = r2_score(international_y, y_pred)\n",
    "\n",
    "rmse = mean_squared_error(np.exp(international_y), np.exp(y_pred), squared=False)\n",
    "\n",
    "mae = mean_absolute_error(np.exp(international_y), np.exp(y_pred))\n",
    "\n",
    "medae = median_absolute_error(np.exp(international_y), np.exp(y_pred))"
   ]
  },
  {
   "cell_type": "code",
   "execution_count": 147,
   "id": "champion-zoning",
   "metadata": {},
   "outputs": [
    {
     "name": "stdout",
     "output_type": "stream",
     "text": [
      "Test Time (Int): 37.53\n",
      "\n",
      "R^2 (Int): 0.337\n",
      "\n",
      "RMSE (Int): 295.93\n",
      "\n",
      "Mean Abs Error (Int): 59.25\n",
      "\n",
      "Median Absolute Error (Int): 28.29\n"
     ]
    }
   ],
   "source": [
    "print('Test Time (Int):', round(int_end-int_start,2))\n",
    "print('')\n",
    "print('R^2 (Int):', round(acc,3))\n",
    "print('')\n",
    "print('RMSE (Int):', round(rmse,2))\n",
    "print('')\n",
    "print('Mean Abs Error (Int):', round(mae,2))\n",
    "print('')\n",
    "print('Median Absolute Error (Int):', round(medae,2))"
   ]
  },
  {
   "cell_type": "code",
   "execution_count": 148,
   "id": "compatible-courage",
   "metadata": {},
   "outputs": [
    {
     "data": {
      "image/png": "[encoded data removed]",
      "text/plain": [
       "<Figure size 576x360 with 1 Axes>"
      ]
     },
     "metadata": {
      "needs_background": "light"
     },
     "output_type": "display_data"
    }
   ],
   "source": [
    "plt.figure(figsize=(8,5))\n",
    "plt.hist(paris_y, bins=30, label='International Actual', color='lightgrey', alpha = 0.5)\n",
    "plt.hist(y_pred_o, bins=30, label='International Predictions', color='cornflowerblue',alpha = 0.5)\n",
    "plt.hist(y_pred, bins=30, label='Adjusted International Predictions', color='blue',alpha = 0.5)\n",
    "plt.title('Distribution of Actual Log Price Predictions vs. Actual (International)', fontsize=15)\n",
    "plt.ylabel('Number of Observations', fontsize=13)\n",
    "plt.xlabel('Log Price', fontsize=13)\n",
    "plt.legend(fontsize=11)\n",
    "plt.show()"
   ]
  },
  {
   "cell_type": "markdown",
   "id": "nearby-confidentiality",
   "metadata": {},
   "source": [
    "## Feature Importance\n",
    "\n",
    "The impurity-based feature importances.\n",
    "\n",
    "The higher, the more important the feature. The importance of a feature is computed as the (normalized) total reduction of the criterion brought by that feature. It is also known as the Gini importance.\n",
    "\n",
    "https://scikit-learn.org/stable/auto_examples/inspection/plot_permutation_importance.html"
   ]
  },
  {
   "cell_type": "code",
   "execution_count": 117,
   "id": "crucial-chart",
   "metadata": {},
   "outputs": [],
   "source": [
    "importance = rf_final.feature_importances_\n",
    "\n",
    "cols = list(X.columns)\n",
    "imp_list = []\n",
    "\n",
    "# summarize feature importance\n",
    "for i,v in enumerate(importance):\n",
    "    imp_list.append(v)\n",
    "    \n",
    "feature_imp = pd.DataFrame()\n",
    "feature_imp['Feature'] = cols\n",
    "feature_imp['Importance'] = imp_list\n",
    "top5 = feature_imp.sort_values(by='Importance', ascending=False).head(5).reset_index(drop=True)\n",
    "top10 = feature_imp.sort_values(by='Importance', ascending=False).head(10).reset_index(drop=True)"
   ]
  },
  {
   "cell_type": "code",
   "execution_count": 153,
   "id": "featured-journal",
   "metadata": {},
   "outputs": [
    {
     "data": {
      "image/png": "[encoded data removed]",
      "text/plain": [
       "<Figure size 432x288 with 1 Axes>"
      ]
     },
     "metadata": {
      "needs_background": "light"
     },
     "output_type": "display_data"
    }
   ],
   "source": [
    "# plot feature importance\n",
    "plt.bar('Feature', 'Importance', data=top5)\n",
    "plt.xticks(rotation = 45)\n",
    "plt.title('Top 5 Important Features (Impurity-Based)', fontsize=15)\n",
    "plt.ylabel('Importance Score', fontsize=13)\n",
    "plt.xlabel('Features', fontsize=13)\n",
    "plt.show()"
   ]
  },
  {
   "cell_type": "code",
   "execution_count": 119,
   "id": "centered-principle",
   "metadata": {},
   "outputs": [
    {
     "data": {
      "image/png": "[encoded data removed]",
      "text/plain": [
       "<Figure size 432x288 with 1 Axes>"
      ]
     },
     "metadata": {
      "needs_background": "light"
     },
     "output_type": "display_data"
    }
   ],
   "source": [
    "# plot feature importance\n",
    "plt.bar('Feature', 'Importance', data=top10)\n",
    "plt.xticks(rotation = 90)\n",
    "plt.title('Top 10 Important Features (Impurity-Based)', fontsize=15)\n",
    "plt.ylabel('Importance Score', fontsize=13)\n",
    "plt.xlabel('Features', fontsize=13)\n",
    "plt.show()"
   ]
  },
  {
   "cell_type": "code",
   "execution_count": null,
   "id": "yellow-passport",
   "metadata": {},
   "outputs": [],
   "source": []
  }
 ],
 "metadata": {
  "kernelspec": {
   "display_name": "Python 3",
   "language": "python",
   "name": "python3"
  },
  "language_info": {
   "codemirror_mode": {
    "name": "ipython",
    "version": 3
   },
   "file_extension": ".py",
   "mimetype": "text/x-python",
   "name": "python",
   "nbconvert_exporter": "python",
   "pygments_lexer": "ipython3",
   "version": "3.7.7"
  }
 },
 "nbformat": 4,
 "nbformat_minor": 5
}
