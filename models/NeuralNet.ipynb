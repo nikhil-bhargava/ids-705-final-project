{
 "cells": [
  {
   "cell_type": "code",
   "execution_count": 1,
   "metadata": {},
   "outputs": [],
   "source": [
    "import pandas as pd\n",
    "import numpy as np\n",
    "\n",
    "from sklearn.neural_network import MLPRegressor\n",
    "from sklearn.model_selection import GridSearchCV, RandomizedSearchCV\n",
    "from sklearn.metrics import mean_squared_error, mean_absolute_error, median_absolute_error"
   ]
  },
  {
   "cell_type": "markdown",
   "metadata": {},
   "source": [
    "#### load data"
   ]
  },
  {
   "cell_type": "code",
   "execution_count": 2,
   "metadata": {},
   "outputs": [],
   "source": [
    "df_train = pd.read_csv(\"../data/processed/ultimate_train.csv\")\n",
    "df_val = pd.read_csv(\"../data/processed/ultimate_val.csv\")\n",
    "df_test = pd.read_csv(\"../data/processed/ultimate_test_us.csv\")"
   ]
  },
  {
   "cell_type": "code",
   "execution_count": 3,
   "metadata": {},
   "outputs": [],
   "source": [
    "df_train = df_train.fillna(method='ffill')\n",
    "df_val = df_val.fillna(method='ffill')\n",
    "df_test = df_test.fillna(method='ffill')"
   ]
  },
  {
   "cell_type": "code",
   "execution_count": 4,
   "metadata": {},
   "outputs": [
    {
     "name": "stdout",
     "output_type": "stream",
     "text": [
      "(47430, 105)\n",
      "(11858, 105)\n",
      "(14823, 105)\n"
     ]
    }
   ],
   "source": [
    "print(df_train.shape)\n",
    "print(df_val.shape)\n",
    "print(df_test.shape)"
   ]
  },
  {
   "cell_type": "markdown",
   "metadata": {},
   "source": [
    "#### train-test split"
   ]
  },
  {
   "cell_type": "code",
   "execution_count": 5,
   "metadata": {},
   "outputs": [],
   "source": [
    "y_train = df_train.log_price\n",
    "X_train = df_train.drop('log_price', axis=1)\n",
    "\n",
    "y_val = df_val.log_price\n",
    "X_val = df_val.drop('log_price', axis=1)\n",
    "\n",
    "y_test = df_test.log_price\n",
    "X_test = df_test.drop('log_price', axis=1)\n",
    "\n",
    "y_train_final = pd.concat([y_train, y_val], axis=0)\n",
    "X_train_final = pd.concat([X_train, X_val], axis=0)\n",
    "\n",
    "y_val_exp = np.exp(y_val)\n",
    "y_test_exp = np.exp(y_test)"
   ]
  },
  {
   "cell_type": "code",
   "execution_count": 6,
   "metadata": {},
   "outputs": [
    {
     "data": {
      "text/plain": [
       "(59288, 104)"
      ]
     },
     "execution_count": 6,
     "metadata": {},
     "output_type": "execute_result"
    }
   ],
   "source": [
    "X_train_final.shape"
   ]
  },
  {
   "cell_type": "markdown",
   "metadata": {},
   "source": [
    "### Neural Network\n",
    "\n",
    "**response: original price**\n",
    "\n",
    "#### default model:"
   ]
  },
  {
   "cell_type": "code",
   "execution_count": 7,
   "metadata": {},
   "outputs": [],
   "source": [
    "# defualt hyperparameters\n",
    "default_mlp = MLPRegressor().fit(X_train, y_train)"
   ]
  },
  {
   "cell_type": "code",
   "execution_count": 8,
   "metadata": {},
   "outputs": [
    {
     "name": "stdout",
     "output_type": "stream",
     "text": [
      "43.698565070930535\n",
      "80.78545837770523\n"
     ]
    }
   ],
   "source": [
    "print(median_absolute_error(y_val_exp, np.exp(default_mlp.predict(X_val))))\n",
    "print(mean_absolute_error(y_val_exp, np.exp(default_mlp.predict(X_val))))"
   ]
  },
  {
   "cell_type": "markdown",
   "metadata": {},
   "source": [
    "#### Random Search"
   ]
  },
  {
   "cell_type": "code",
   "execution_count": 9,
   "metadata": {},
   "outputs": [],
   "source": [
    "mlp = MLPRegressor(max_iter=200, early_stopping=True, n_iter_no_change=5)\n",
    "# parameter\n",
    "layers = [(200,), (220,), (300,), (200, 200), (120, 120)]\n",
    "\n",
    "param_dist_mlp = dict(hidden_layer_sizes=layers, \n",
    "                      learning_rate=['constant','adaptive'],\n",
    "                      learning_rate_init = [0.001, 0.0001, 0.01],\n",
    "                      alpha=[0.0001, 0.002 ,0.05])\n",
    "\n",
    "# randomized search\n",
    "rand_mlp = RandomizedSearchCV(mlp, param_dist_mlp, random_state=0, \n",
    "                              n_iter=10, cv=3, verbose=0, n_jobs=-1)"
   ]
  },
  {
   "cell_type": "code",
   "execution_count": 20,
   "metadata": {},
   "outputs": [],
   "source": [
    "best_model_mlp = rand_mlp.fit(X_train, y_train)"
   ]
  },
  {
   "cell_type": "code",
   "execution_count": 21,
   "metadata": {},
   "outputs": [
    {
     "name": "stdout",
     "output_type": "stream",
     "text": [
      "Best hidden_layer_sizes: (200, 200)\n",
      "Best learning_rate: adaptive\n",
      "Best alpha: 0.002\n",
      "Best learning_rate_init: 0.01\n"
     ]
    }
   ],
   "source": [
    "print('Best hidden_layer_sizes:', best_model_mlp.best_estimator_.get_params()['hidden_layer_sizes'])\n",
    "print('Best learning_rate:', best_model_mlp.best_estimator_.get_params()['learning_rate'])\n",
    "print('Best alpha:', best_model_mlp.best_estimator_.get_params()['alpha'])\n",
    "print('Best learning_rate_init:', best_model_mlp.best_estimator_.get_params()['learning_rate_init'])"
   ]
  },
  {
   "cell_type": "code",
   "execution_count": 22,
   "metadata": {},
   "outputs": [],
   "source": [
    "best_mlp_exp = MLPRegressor(hidden_layer_sizes=(200, 200), \n",
    "                         learning_rate='adaptive', learning_rate_init=0.01, alpha=0.002, \n",
    "                         max_iter=200, early_stopping=True, \n",
    "                         n_iter_no_change=5).fit(X_train, y_train)"
   ]
  },
  {
   "cell_type": "code",
   "execution_count": 23,
   "metadata": {},
   "outputs": [
    {
     "name": "stdout",
     "output_type": "stream",
     "text": [
      "30.93008569635821\n",
      "61.26414189451064\n"
     ]
    }
   ],
   "source": [
    "print(median_absolute_error(y_val_exp, np.exp(best_mlp_exp.predict(X_val))))\n",
    "print(mean_absolute_error(y_val_exp, np.exp(best_mlp_exp.predict(X_val))))"
   ]
  },
  {
   "cell_type": "markdown",
   "metadata": {},
   "source": [
    "### Training neural net using the best model"
   ]
  },
  {
   "cell_type": "code",
   "execution_count": 26,
   "metadata": {},
   "outputs": [],
   "source": [
    "final_mlp = MLPRegressor(hidden_layer_sizes=(200, 200), \n",
    "                         learning_rate='adaptive', learning_rate_init=0.0001, alpha=0.02, \n",
    "                         max_iter=200, early_stopping=True, \n",
    "                         n_iter_no_change=5).fit(X_train_final, y_train_final)"
   ]
  },
  {
   "cell_type": "code",
   "execution_count": 27,
   "metadata": {},
   "outputs": [
    {
     "name": "stdout",
     "output_type": "stream",
     "text": [
      "36.55989785399066\n",
      "74.95400539113488\n"
     ]
    }
   ],
   "source": [
    "print(median_absolute_error(y_test_exp, np.exp(final_mlp.predict(X_test))))\n",
    "print(mean_absolute_error(y_test_exp, np.exp(final_mlp.predict(X_test))))"
   ]
  },
  {
   "cell_type": "markdown",
   "metadata": {},
   "source": [
    "**defualt model**"
   ]
  },
  {
   "cell_type": "code",
   "execution_count": 28,
   "metadata": {},
   "outputs": [],
   "source": [
    "default_final_mlp = MLPRegressor().fit(X_train_final, y_train_final)"
   ]
  },
  {
   "cell_type": "code",
   "execution_count": 29,
   "metadata": {},
   "outputs": [
    {
     "name": "stdout",
     "output_type": "stream",
     "text": [
      "36.04768793734371\n",
      "69.88167184133258\n"
     ]
    }
   ],
   "source": [
    "print(median_absolute_error(y_test_exp, np.exp(default_final_mlp.predict(X_test))))\n",
    "print(mean_absolute_error(y_test_exp, np.exp(default_final_mlp.predict(X_test))))"
   ]
  }
 ],
 "metadata": {
  "kernelspec": {
   "display_name": "Python 3",
   "language": "python",
   "name": "python3"
  },
  "language_info": {
   "codemirror_mode": {
    "name": "ipython",
    "version": 3
   },
   "file_extension": ".py",
   "mimetype": "text/x-python",
   "name": "python",
   "nbconvert_exporter": "python",
   "pygments_lexer": "ipython3",
   "version": "3.7.6"
  }
 },
 "nbformat": 4,
 "nbformat_minor": 4
}
