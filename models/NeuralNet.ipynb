{
 "cells": [
  {
   "cell_type": "code",
   "execution_count": 21,
   "metadata": {},
   "outputs": [],
   "source": [
    "import pandas as pd\n",
    "import numpy as np\n",
    "\n",
    "from sklearn.neural_network import MLPRegressor\n",
    "from sklearn.model_selection import GridSearchCV, RandomizedSearchCV\n",
    "from sklearn.metrics import mean_squared_error"
   ]
  },
  {
   "cell_type": "markdown",
   "metadata": {},
   "source": [
    "#### load data"
   ]
  },
  {
   "cell_type": "code",
   "execution_count": 6,
   "metadata": {},
   "outputs": [],
   "source": [
    "df = pd.read_csv(\"../data/processed/cleaned_train.csv\")"
   ]
  },
  {
   "cell_type": "code",
   "execution_count": 7,
   "metadata": {},
   "outputs": [],
   "source": [
    "df = df.drop(\"Unnamed: 0\", axis=1)"
   ]
  },
  {
   "cell_type": "code",
   "execution_count": 10,
   "metadata": {},
   "outputs": [
    {
     "data": {
      "text/plain": [
       "(74111, 108)"
      ]
     },
     "execution_count": 10,
     "metadata": {},
     "output_type": "execute_result"
    }
   ],
   "source": [
    "df.shape"
   ]
  },
  {
   "cell_type": "markdown",
   "metadata": {},
   "source": [
    "#### train-test split"
   ]
  },
  {
   "cell_type": "code",
   "execution_count": 36,
   "metadata": {},
   "outputs": [],
   "source": [
    "from sklearn.model_selection import train_test_split\n",
    "\n",
    "y = df.log_price\n",
    "X = df.drop('log_price', axis=1)\n",
    "\n",
    "r_state = 2021\n",
    "X_train, X_test, y_train, y_test = train_test_split(X, y, test_size=0.2, random_state=r_state)"
   ]
  },
  {
   "cell_type": "markdown",
   "metadata": {},
   "source": [
    "### Neural Network"
   ]
  },
  {
   "cell_type": "code",
   "execution_count": 14,
   "metadata": {},
   "outputs": [],
   "source": [
    "mlp = MLPRegressor(max_iter=200, early_stopping=True, n_iter_no_change=5)\n",
    "# parameter\n",
    "layers = [(200,), (220,), (300,), (200, 200), (120, 120)]\n",
    "\n",
    "param_dist_mlp = dict(hidden_layer_sizes=layers, \n",
    "                      learning_rate=['constant','adaptive'], \n",
    "                      alpha=[0.0001, 0.002 ,0.05])\n",
    "\n",
    "# randomized search\n",
    "rand_mlp = RandomizedSearchCV(mlp, param_dist_mlp, random_state=0, \n",
    "                              n_iter=10, cv=3, verbose=0, n_jobs=-1)"
   ]
  },
  {
   "cell_type": "code",
   "execution_count": 15,
   "metadata": {},
   "outputs": [],
   "source": [
    "best_model_mlp = rand_mlp.fit(X_train, y_train)"
   ]
  },
  {
   "cell_type": "code",
   "execution_count": 16,
   "metadata": {},
   "outputs": [
    {
     "name": "stdout",
     "output_type": "stream",
     "text": [
      "Best hidden_layer_sizes: (220,)\n",
      "Best learning_rate: constant\n",
      "Best alpha: 0.05\n"
     ]
    }
   ],
   "source": [
    "print('Best hidden_layer_sizes:', best_model_mlp.best_estimator_.get_params()['hidden_layer_sizes'])\n",
    "print('Best learning_rate:', best_model_mlp.best_estimator_.get_params()['learning_rate'])\n",
    "print('Best alpha:', best_model_mlp.best_estimator_.get_params()['alpha'])"
   ]
  },
  {
   "cell_type": "code",
   "execution_count": 19,
   "metadata": {},
   "outputs": [],
   "source": [
    "best_mlp = MLPRegressor(hidden_layer_sizes=(220,), \n",
    "                         learning_rate='constant', alpha=0.05, \n",
    "                         max_iter=200, early_stopping=True, \n",
    "                         n_iter_no_change=5).fit(X_train, y_train)"
   ]
  },
  {
   "cell_type": "code",
   "execution_count": 22,
   "metadata": {},
   "outputs": [
    {
     "data": {
      "text/plain": [
       "0.3247441717438138"
      ]
     },
     "execution_count": 22,
     "metadata": {},
     "output_type": "execute_result"
    }
   ],
   "source": [
    "mean_squared_error(y_train, best_mlp.predict(X_train))"
   ]
  },
  {
   "cell_type": "markdown",
   "metadata": {},
   "source": [
    "#### original price"
   ]
  },
  {
   "cell_type": "code",
   "execution_count": 37,
   "metadata": {},
   "outputs": [],
   "source": [
    "y_train_exp = np.exp(y_train)"
   ]
  },
  {
   "cell_type": "code",
   "execution_count": 38,
   "metadata": {},
   "outputs": [],
   "source": [
    "best_model_mlp = rand_mlp.fit(X_train, y_train_exp)"
   ]
  },
  {
   "cell_type": "code",
   "execution_count": 39,
   "metadata": {},
   "outputs": [
    {
     "name": "stdout",
     "output_type": "stream",
     "text": [
      "Best hidden_layer_sizes: (120, 120)\n",
      "Best learning_rate: constant\n",
      "Best alpha: 0.05\n"
     ]
    }
   ],
   "source": [
    "print('Best hidden_layer_sizes:', best_model_mlp.best_estimator_.get_params()['hidden_layer_sizes'])\n",
    "print('Best learning_rate:', best_model_mlp.best_estimator_.get_params()['learning_rate'])\n",
    "print('Best alpha:', best_model_mlp.best_estimator_.get_params()['alpha'])"
   ]
  },
  {
   "cell_type": "code",
   "execution_count": 40,
   "metadata": {},
   "outputs": [],
   "source": [
    "best_mlp_exp = MLPRegressor(hidden_layer_sizes=(120, 120), \n",
    "                         learning_rate='constant', alpha=0.05, \n",
    "                         max_iter=200, early_stopping=True, \n",
    "                         n_iter_no_change=5).fit(X_train, y_train_exp)"
   ]
  },
  {
   "cell_type": "code",
   "execution_count": 41,
   "metadata": {},
   "outputs": [
    {
     "data": {
      "text/plain": [
       "52413.31628472358"
      ]
     },
     "execution_count": 41,
     "metadata": {},
     "output_type": "execute_result"
    }
   ],
   "source": [
    "mean_squared_error(y_train_exp, best_mlp.predict(X_train))"
   ]
  },
  {
   "cell_type": "code",
   "execution_count": null,
   "metadata": {},
   "outputs": [],
   "source": []
  }
 ],
 "metadata": {
  "kernelspec": {
   "display_name": "Python 3",
   "language": "python",
   "name": "python3"
  },
  "language_info": {
   "codemirror_mode": {
    "name": "ipython",
    "version": 3
   },
   "file_extension": ".py",
   "mimetype": "text/x-python",
   "name": "python",
   "nbconvert_exporter": "python",
   "pygments_lexer": "ipython3",
   "version": "3.7.6"
  }
 },
 "nbformat": 4,
 "nbformat_minor": 4
}
