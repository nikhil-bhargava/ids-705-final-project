{
 "cells": [
  {
   "cell_type": "code",
   "execution_count": 23,
   "id": "occasional-atlanta",
   "metadata": {},
   "outputs": [],
   "source": [
    "import pandas as pd\n",
    "import numpy as np\n",
    "pd.set_option('max.rows',200)"
   ]
  },
  {
   "cell_type": "markdown",
   "id": "valuable-projector",
   "metadata": {},
   "source": [
    "## Train & Evaluate Model in US"
   ]
  },
  {
   "cell_type": "markdown",
   "id": "outstanding-allergy",
   "metadata": {},
   "source": [
    "### Load data"
   ]
  },
  {
   "cell_type": "code",
   "execution_count": 2,
   "id": "parental-group",
   "metadata": {},
   "outputs": [],
   "source": [
    "train = pd.read_csv('../data/processed/ultimate_train.csv')\n",
    "val = pd.read_csv('../data/processed/ultimate_val.csv')\n",
    "us = pd.read_csv('../data/processed/ultimate_test_us.csv')"
   ]
  },
  {
   "cell_type": "code",
   "execution_count": 39,
   "id": "miniature-spice",
   "metadata": {},
   "outputs": [],
   "source": [
    "y_train = train.log_price\n",
    "y_val = val.log_price"
   ]
  },
  {
   "cell_type": "code",
   "execution_count": 41,
   "id": "waiting-mountain",
   "metadata": {},
   "outputs": [],
   "source": [
    "X_train = train.drop(columns=['log_price'])\n",
    "X_train['review_scores_rating'] = X_train['review_scores_rating'].fillna(np.mean(X_train['review_scores_rating']))\n",
    "X_train['years_since_lastreview'] = X_train['years_since_lastreview'].fillna(np.mean(X_train['years_since_lastreview']))\n",
    "\n",
    "X_val = val.drop(columns=['log_price'])"
   ]
  },
  {
   "cell_type": "markdown",
   "id": "accompanied-armstrong",
   "metadata": {},
   "source": [
    "### Train Random Forest"
   ]
  },
  {
   "cell_type": "markdown",
   "id": "ongoing-asset",
   "metadata": {},
   "source": [
    "### Default Parameters"
   ]
  },
  {
   "cell_type": "code",
   "execution_count": 45,
   "id": "square-familiar",
   "metadata": {},
   "outputs": [],
   "source": [
    "from sklearn.ensemble import RandomForestRegressor\n",
    "from sklearn.metrics import mean_squared_error\n",
    "from sklearn.metrics import mean_absolute_error\n",
    "from sklearn.metrics import median_absolute_error"
   ]
  },
  {
   "cell_type": "code",
   "execution_count": 38,
   "id": "inappropriate-adult",
   "metadata": {},
   "outputs": [],
   "source": [
    "rf = RandomForestRegressor().fit(X_train, y_train)"
   ]
  },
  {
   "cell_type": "code",
   "execution_count": 52,
   "id": "retained-dividend",
   "metadata": {},
   "outputs": [],
   "source": [
    "y_pred_train = rf.predict(X_train)\n",
    "y_pred = rf.predict(X_val)\n",
    "\n",
    "acc_train = rf.score(X_train, y_train)\n",
    "acc = rf.score(X_val, y_val)\n",
    "\n",
    "rmse_train = mean_squared_error(np.exp(y_train), np.exp(y_pred_train), squared=False)\n",
    "rmse = mean_squared_error(np.exp(y_val), np.exp(y_pred), squared=False)\n",
    "\n",
    "mae_train = mean_absolute_error(np.exp(y_train), np.exp(y_pred_train))\n",
    "mae = mean_absolute_error(np.exp(y_val), np.exp(y_pred))\n",
    "\n",
    "medae_train = median_absolute_error(np.exp(y_train), np.exp(y_pred_train))\n",
    "medae = median_absolute_error(np.exp(y_val), np.exp(y_pred))"
   ]
  },
  {
   "cell_type": "code",
   "execution_count": 54,
   "id": "brazilian-coaching",
   "metadata": {},
   "outputs": [
    {
     "name": "stdout",
     "output_type": "stream",
     "text": [
      "Accuracy (Train): 0.95\n",
      "Accuracy (Val): 0.66\n",
      "\n",
      "RMSE (Train): 59.82\n",
      "RMSE (Val): 118.8\n",
      "\n",
      "Mean Abs Error (Train): 22.01\n",
      "Mean Abs Error (Val): 53.44\n",
      "\n",
      "Median Absolute Error (Train): 8.72\n",
      "Median Absolute Error (Val): 24.46\n"
     ]
    }
   ],
   "source": [
    "print('Accuracy (Train):', round(acc_train,2)) \n",
    "print('Accuracy (Val):', round(acc,2))\n",
    "print('')\n",
    "print('RMSE (Train):', round(rmse_train,2))\n",
    "print('RMSE (Val):', round(rmse,2))\n",
    "print('')\n",
    "print('Mean Abs Error (Train):', round(mae_train,2))\n",
    "print('Mean Abs Error (Val):', round(mae,2))\n",
    "print('')\n",
    "print('Median Absolute Error (Train):', round(medae_train,2))\n",
    "print('Median Absolute Error (Val):', round(medae,2))"
   ]
  },
  {
   "cell_type": "markdown",
   "id": "preceding-running",
   "metadata": {},
   "source": [
    "### Random Search Parameters"
   ]
  },
  {
   "cell_type": "code",
   "execution_count": 55,
   "id": "isolated-procedure",
   "metadata": {},
   "outputs": [],
   "source": [
    "from sklearn.model_selection import RandomizedSearchCV"
   ]
  },
  {
   "cell_type": "code",
   "execution_count": 56,
   "id": "traditional-century",
   "metadata": {},
   "outputs": [],
   "source": [
    "# rf parameters input into random search\n",
    "n_estimators = [int(x) for x in np.linspace(200, 2000, 10)]\n",
    "max_features = ['auto', 'sqrt']\n",
    "max_depth = [int(x) for x in np.linspace(10, 110, 11)]\n",
    "max_depth.append(None)\n",
    "min_samples_split = [2, 5, 10]\n",
    "min_samples_leaf = [1, 2, 4]\n",
    "bootstrap = [True, False]\n",
    "\n",
    "# produce random grid\n",
    "random_grid = {'n_estimators': n_estimators,\n",
    "               'max_features': max_features,\n",
    "               'max_depth': max_depth,\n",
    "               'min_samples_split': min_samples_split,\n",
    "               'min_samples_leaf': min_samples_leaf,\n",
    "               'bootstrap': bootstrap}"
   ]
  },
  {
   "cell_type": "code",
   "execution_count": 59,
   "id": "noble-constraint",
   "metadata": {},
   "outputs": [],
   "source": [
    "# random search best hyper parameters of model\n",
    "rf_r = RandomForestRegressor()\n",
    "rf_random = RandomizedSearchCV(estimator = rf_r, param_distributions = random_grid, n_iter = 20, cv = 3, \n",
    "                               verbose=2, random_state=0, n_jobs = -1)"
   ]
  },
  {
   "cell_type": "code",
   "execution_count": 60,
   "id": "inner-piece",
   "metadata": {},
   "outputs": [
    {
     "name": "stdout",
     "output_type": "stream",
     "text": [
      "Fitting 3 folds for each of 20 candidates, totalling 60 fits\n"
     ]
    },
    {
     "name": "stderr",
     "output_type": "stream",
     "text": [
      "[Parallel(n_jobs=-1)]: Using backend LokyBackend with 4 concurrent workers.\n",
      "[Parallel(n_jobs=-1)]: Done  33 tasks      | elapsed: 142.1min\n",
      "[Parallel(n_jobs=-1)]: Done  60 out of  60 | elapsed: 196.2min finished\n"
     ]
    },
    {
     "data": {
      "text/plain": [
       "RandomizedSearchCV(cv=3, estimator=RandomForestRegressor(), n_iter=20,\n",
       "                   n_jobs=-1,\n",
       "                   param_distributions={'bootstrap': [True, False],\n",
       "                                        'max_depth': [10, 20, 30, 40, 50, 60,\n",
       "                                                      70, 80, 90, 100, 110,\n",
       "                                                      None],\n",
       "                                        'max_features': ['auto', 'sqrt'],\n",
       "                                        'min_samples_leaf': [1, 2, 4],\n",
       "                                        'min_samples_split': [2, 5, 10],\n",
       "                                        'n_estimators': [200, 400, 600, 800,\n",
       "                                                         1000, 1200, 1400, 1600,\n",
       "                                                         1800, 2000]},\n",
       "                   random_state=0, verbose=2)"
      ]
     },
     "execution_count": 60,
     "metadata": {},
     "output_type": "execute_result"
    }
   ],
   "source": [
    "# fit the random search model on 3 cross validations with 20 iters each\n",
    "rf_random.fit(X_train, y_train)"
   ]
  },
  {
   "cell_type": "code",
   "execution_count": 61,
   "id": "graduate-malta",
   "metadata": {},
   "outputs": [
    {
     "data": {
      "text/plain": [
       "{'n_estimators': 800,\n",
       " 'min_samples_split': 2,\n",
       " 'min_samples_leaf': 2,\n",
       " 'max_features': 'auto',\n",
       " 'max_depth': 100,\n",
       " 'bootstrap': True}"
      ]
     },
     "execution_count": 61,
     "metadata": {},
     "output_type": "execute_result"
    }
   ],
   "source": [
    "# get best random search parameters\n",
    "rf_random.best_params_"
   ]
  },
  {
   "cell_type": "code",
   "execution_count": 63,
   "id": "sporting-crossing",
   "metadata": {},
   "outputs": [],
   "source": [
    "rf_opt = RandomForestRegressor(n_estimators=800, min_samples_split=2, \n",
    "                                min_samples_leaf=2, max_features='auto',\n",
    "                               max_depth=100, bootstrap=True).fit(X_train, y_train)"
   ]
  },
  {
   "cell_type": "code",
   "execution_count": 64,
   "id": "copyrighted-america",
   "metadata": {},
   "outputs": [],
   "source": [
    "y_pred_train = rf_opt.predict(X_train)\n",
    "y_pred = rf_opt.predict(X_val)\n",
    "\n",
    "acc_train = rf_opt.score(X_train, y_train)\n",
    "acc = rf_opt.score(X_val, y_val)\n",
    "\n",
    "rmse_train = mean_squared_error(np.exp(y_train), np.exp(y_pred_train), squared=False)\n",
    "rmse = mean_squared_error(np.exp(y_val), np.exp(y_pred), squared=False)\n",
    "\n",
    "mae_train = mean_absolute_error(np.exp(y_train), np.exp(y_pred_train))\n",
    "mae = mean_absolute_error(np.exp(y_val), np.exp(y_pred))\n",
    "\n",
    "medae_train = median_absolute_error(np.exp(y_train), np.exp(y_pred_train))\n",
    "medae = median_absolute_error(np.exp(y_val), np.exp(y_pred))"
   ]
  },
  {
   "cell_type": "code",
   "execution_count": 65,
   "id": "lightweight-instruction",
   "metadata": {},
   "outputs": [
    {
     "name": "stdout",
     "output_type": "stream",
     "text": [
      "Accuracy (Train): 0.93\n",
      "Accuracy (Val): 0.67\n",
      "\n",
      "RMSE (Train): 71.98\n",
      "RMSE (Val): 118.69\n",
      "\n",
      "Mean Abs Error (Train): 25.18\n",
      "Mean Abs Error (Val): 53.05\n",
      "\n",
      "Median Absolute Error (Train): 9.59\n",
      "Median Absolute Error (Val): 24.24\n"
     ]
    }
   ],
   "source": [
    "print('Accuracy (Train):', round(acc_train,2)) \n",
    "print('Accuracy (Val):', round(acc,2))\n",
    "print('')\n",
    "print('RMSE (Train):', round(rmse_train,2))\n",
    "print('RMSE (Val):', round(rmse,2))\n",
    "print('')\n",
    "print('Mean Abs Error (Train):', round(mae_train,2))\n",
    "print('Mean Abs Error (Val):', round(mae,2))\n",
    "print('')\n",
    "print('Median Absolute Error (Train):', round(medae_train,2))\n",
    "print('Median Absolute Error (Val):', round(medae,2))"
   ]
  },
  {
   "cell_type": "markdown",
   "id": "funky-study",
   "metadata": {},
   "source": [
    "## Plotting & Interpretting Results"
   ]
  },
  {
   "cell_type": "code",
   "execution_count": 69,
   "id": "unlikely-knife",
   "metadata": {},
   "outputs": [],
   "source": [
    "import matplotlib.pyplot as plt"
   ]
  },
  {
   "cell_type": "code",
   "execution_count": 89,
   "id": "recovered-spine",
   "metadata": {},
   "outputs": [],
   "source": [
    "diff_train = np.exp(y_train) - np.exp(y_pred_train)\n",
    "diff_val = np.exp(y_val) - np.exp(y_pred)"
   ]
  },
  {
   "cell_type": "code",
   "execution_count": 91,
   "id": "confused-router",
   "metadata": {},
   "outputs": [
    {
     "data": {
      "image/png": "[encoded data removed]",
      "text/plain": [
       "<Figure size 432x288 with 1 Axes>"
      ]
     },
     "metadata": {
      "needs_background": "light"
     },
     "output_type": "display_data"
    }
   ],
   "source": [
    "plt.hist(diff_train, bins=40, label='train')\n",
    "plt.hist(diff_val, bins=40, label='val')\n",
    "plt.title('Distribution of model errors')\n",
    "plt.ylabel('Number of observations')\n",
    "plt.xlabel('Price')\n",
    "plt.legend()\n",
    "plt.show()"
   ]
  },
  {
   "cell_type": "code",
   "execution_count": null,
   "id": "italian-recommendation",
   "metadata": {},
   "outputs": [],
   "source": []
  }
 ],
 "metadata": {
  "kernelspec": {
   "display_name": "Python 3",
   "language": "python",
   "name": "python3"
  },
  "language_info": {
   "codemirror_mode": {
    "name": "ipython",
    "version": 3
   },
   "file_extension": ".py",
   "mimetype": "text/x-python",
   "name": "python",
   "nbconvert_exporter": "python",
   "pygments_lexer": "ipython3",
   "version": "3.7.7"
  }
 },
 "nbformat": 4,
 "nbformat_minor": 5
}
