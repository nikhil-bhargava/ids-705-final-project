{
 "cells": [
  {
   "cell_type": "code",
   "execution_count": 1,
   "metadata": {},
   "outputs": [],
   "source": [
    "import pandas as pd\n",
    "import numpy as np\n"
   ]
  },
  {
   "cell_type": "code",
   "execution_count": 3,
   "metadata": {},
   "outputs": [],
   "source": [
    "# load data\n",
    "url = \"https://raw.githubusercontent.com/nikhil-bhargava/ids-705-final-project/main/data/raw/worldcities.csv\"\n",
    "city = pd.read_csv(url)\n",
    "df = pd.read_csv('/Users/guanlxy/Documents/github/ids-705-final-project/data/raw/train.csv')"
   ]
  },
  {
   "cell_type": "code",
   "execution_count": 4,
   "metadata": {},
   "outputs": [],
   "source": [
    "# select relevant cities\n",
    "city_df = city[city['id'].astype('str').isin(['1840034016', '1840020491', '1840000494', \n",
    "                                '1840006060', '1840000455', '1840021543'])]\n",
    "city_df = city_df.rename(columns={'id':'city_id', 'city':'city_name'})\n",
    "city_df['city_id'] = city_df['city_id'].astype('str')"
   ]
  },
  {
   "cell_type": "code",
   "execution_count": 5,
   "metadata": {},
   "outputs": [],
   "source": [
    "bnb_city_id = {'NYC':'1840034016', 'SF':'1840021543', 'DC':'1840006060', 'LA':'1840020491', 'Chicago':'1840000494', \n",
    "               'Boston':'1840000455'}\n",
    "\n",
    "df['city_id'] = df['city'].map(bnb_city_id)"
   ]
  },
  {
   "cell_type": "code",
   "execution_count": 6,
   "metadata": {},
   "outputs": [],
   "source": [
    "#city_df= city_df[['city_id', 'lat', 'lng']]"
   ]
  },
  {
   "cell_type": "code",
   "execution_count": 7,
   "metadata": {},
   "outputs": [],
   "source": [
    "new_df = pd.merge(df, city_df, how='left', on='city_id')"
   ]
  },
  {
   "cell_type": "code",
   "execution_count": 8,
   "metadata": {},
   "outputs": [
    {
     "data": {
      "text/html": [
       "<div>\n",
       "<style scoped>\n",
       "    .dataframe tbody tr th:only-of-type {\n",
       "        vertical-align: middle;\n",
       "    }\n",
       "\n",
       "    .dataframe tbody tr th {\n",
       "        vertical-align: top;\n",
       "    }\n",
       "\n",
       "    .dataframe thead th {\n",
       "        text-align: right;\n",
       "    }\n",
       "</style>\n",
       "<table border=\"1\" class=\"dataframe\">\n",
       "  <thead>\n",
       "    <tr style=\"text-align: right;\">\n",
       "      <th></th>\n",
       "      <th>id</th>\n",
       "      <th>log_price</th>\n",
       "      <th>property_type</th>\n",
       "      <th>room_type</th>\n",
       "      <th>amenities</th>\n",
       "      <th>accommodates</th>\n",
       "      <th>bathrooms</th>\n",
       "      <th>bed_type</th>\n",
       "      <th>cancellation_policy</th>\n",
       "      <th>cleaning_fee</th>\n",
       "      <th>...</th>\n",
       "      <th>city_name</th>\n",
       "      <th>city_ascii</th>\n",
       "      <th>lat</th>\n",
       "      <th>lng</th>\n",
       "      <th>country</th>\n",
       "      <th>iso2</th>\n",
       "      <th>iso3</th>\n",
       "      <th>admin_name</th>\n",
       "      <th>capital</th>\n",
       "      <th>population</th>\n",
       "    </tr>\n",
       "  </thead>\n",
       "  <tbody>\n",
       "    <tr>\n",
       "      <th>0</th>\n",
       "      <td>6901257</td>\n",
       "      <td>5.010635</td>\n",
       "      <td>Apartment</td>\n",
       "      <td>Entire home/apt</td>\n",
       "      <td>{\"Wireless Internet\",\"Air conditioning\",Kitche...</td>\n",
       "      <td>3</td>\n",
       "      <td>1.0</td>\n",
       "      <td>Real Bed</td>\n",
       "      <td>strict</td>\n",
       "      <td>True</td>\n",
       "      <td>...</td>\n",
       "      <td>New York</td>\n",
       "      <td>New York</td>\n",
       "      <td>40.6943</td>\n",
       "      <td>-73.9249</td>\n",
       "      <td>United States</td>\n",
       "      <td>US</td>\n",
       "      <td>USA</td>\n",
       "      <td>New York</td>\n",
       "      <td>NaN</td>\n",
       "      <td>18713220.0</td>\n",
       "    </tr>\n",
       "    <tr>\n",
       "      <th>1</th>\n",
       "      <td>6304928</td>\n",
       "      <td>5.129899</td>\n",
       "      <td>Apartment</td>\n",
       "      <td>Entire home/apt</td>\n",
       "      <td>{\"Wireless Internet\",\"Air conditioning\",Kitche...</td>\n",
       "      <td>7</td>\n",
       "      <td>1.0</td>\n",
       "      <td>Real Bed</td>\n",
       "      <td>strict</td>\n",
       "      <td>True</td>\n",
       "      <td>...</td>\n",
       "      <td>New York</td>\n",
       "      <td>New York</td>\n",
       "      <td>40.6943</td>\n",
       "      <td>-73.9249</td>\n",
       "      <td>United States</td>\n",
       "      <td>US</td>\n",
       "      <td>USA</td>\n",
       "      <td>New York</td>\n",
       "      <td>NaN</td>\n",
       "      <td>18713220.0</td>\n",
       "    </tr>\n",
       "    <tr>\n",
       "      <th>2</th>\n",
       "      <td>7919400</td>\n",
       "      <td>4.976734</td>\n",
       "      <td>Apartment</td>\n",
       "      <td>Entire home/apt</td>\n",
       "      <td>{TV,\"Cable TV\",\"Wireless Internet\",\"Air condit...</td>\n",
       "      <td>5</td>\n",
       "      <td>1.0</td>\n",
       "      <td>Real Bed</td>\n",
       "      <td>moderate</td>\n",
       "      <td>True</td>\n",
       "      <td>...</td>\n",
       "      <td>New York</td>\n",
       "      <td>New York</td>\n",
       "      <td>40.6943</td>\n",
       "      <td>-73.9249</td>\n",
       "      <td>United States</td>\n",
       "      <td>US</td>\n",
       "      <td>USA</td>\n",
       "      <td>New York</td>\n",
       "      <td>NaN</td>\n",
       "      <td>18713220.0</td>\n",
       "    </tr>\n",
       "    <tr>\n",
       "      <th>3</th>\n",
       "      <td>13418779</td>\n",
       "      <td>6.620073</td>\n",
       "      <td>House</td>\n",
       "      <td>Entire home/apt</td>\n",
       "      <td>{TV,\"Cable TV\",Internet,\"Wireless Internet\",Ki...</td>\n",
       "      <td>4</td>\n",
       "      <td>1.0</td>\n",
       "      <td>Real Bed</td>\n",
       "      <td>flexible</td>\n",
       "      <td>True</td>\n",
       "      <td>...</td>\n",
       "      <td>San Francisco</td>\n",
       "      <td>San Francisco</td>\n",
       "      <td>37.7562</td>\n",
       "      <td>-122.4430</td>\n",
       "      <td>United States</td>\n",
       "      <td>US</td>\n",
       "      <td>USA</td>\n",
       "      <td>California</td>\n",
       "      <td>NaN</td>\n",
       "      <td>3592294.0</td>\n",
       "    </tr>\n",
       "    <tr>\n",
       "      <th>4</th>\n",
       "      <td>3808709</td>\n",
       "      <td>4.744932</td>\n",
       "      <td>Apartment</td>\n",
       "      <td>Entire home/apt</td>\n",
       "      <td>{TV,Internet,\"Wireless Internet\",\"Air conditio...</td>\n",
       "      <td>2</td>\n",
       "      <td>1.0</td>\n",
       "      <td>Real Bed</td>\n",
       "      <td>moderate</td>\n",
       "      <td>True</td>\n",
       "      <td>...</td>\n",
       "      <td>Washington</td>\n",
       "      <td>Washington</td>\n",
       "      <td>38.9047</td>\n",
       "      <td>-77.0163</td>\n",
       "      <td>United States</td>\n",
       "      <td>US</td>\n",
       "      <td>USA</td>\n",
       "      <td>District of Columbia</td>\n",
       "      <td>primary</td>\n",
       "      <td>5379184.0</td>\n",
       "    </tr>\n",
       "  </tbody>\n",
       "</table>\n",
       "<p>5 rows × 40 columns</p>\n",
       "</div>"
      ],
      "text/plain": [
       "         id  log_price property_type        room_type  \\\n",
       "0   6901257   5.010635     Apartment  Entire home/apt   \n",
       "1   6304928   5.129899     Apartment  Entire home/apt   \n",
       "2   7919400   4.976734     Apartment  Entire home/apt   \n",
       "3  13418779   6.620073         House  Entire home/apt   \n",
       "4   3808709   4.744932     Apartment  Entire home/apt   \n",
       "\n",
       "                                           amenities  accommodates  bathrooms  \\\n",
       "0  {\"Wireless Internet\",\"Air conditioning\",Kitche...             3        1.0   \n",
       "1  {\"Wireless Internet\",\"Air conditioning\",Kitche...             7        1.0   \n",
       "2  {TV,\"Cable TV\",\"Wireless Internet\",\"Air condit...             5        1.0   \n",
       "3  {TV,\"Cable TV\",Internet,\"Wireless Internet\",Ki...             4        1.0   \n",
       "4  {TV,Internet,\"Wireless Internet\",\"Air conditio...             2        1.0   \n",
       "\n",
       "   bed_type cancellation_policy  cleaning_fee  ...      city_name  \\\n",
       "0  Real Bed              strict          True  ...       New York   \n",
       "1  Real Bed              strict          True  ...       New York   \n",
       "2  Real Bed            moderate          True  ...       New York   \n",
       "3  Real Bed            flexible          True  ...  San Francisco   \n",
       "4  Real Bed            moderate          True  ...     Washington   \n",
       "\n",
       "      city_ascii      lat       lng        country iso2 iso3  \\\n",
       "0       New York  40.6943  -73.9249  United States   US  USA   \n",
       "1       New York  40.6943  -73.9249  United States   US  USA   \n",
       "2       New York  40.6943  -73.9249  United States   US  USA   \n",
       "3  San Francisco  37.7562 -122.4430  United States   US  USA   \n",
       "4     Washington  38.9047  -77.0163  United States   US  USA   \n",
       "\n",
       "             admin_name  capital  population  \n",
       "0              New York      NaN  18713220.0  \n",
       "1              New York      NaN  18713220.0  \n",
       "2              New York      NaN  18713220.0  \n",
       "3            California      NaN   3592294.0  \n",
       "4  District of Columbia  primary   5379184.0  \n",
       "\n",
       "[5 rows x 40 columns]"
      ]
     },
     "execution_count": 8,
     "metadata": {},
     "output_type": "execute_result"
    }
   ],
   "source": [
    "new_df.head()"
   ]
  },
  {
   "cell_type": "code",
   "execution_count": 9,
   "metadata": {},
   "outputs": [
    {
     "data": {
      "text/html": [
       "<div>\n",
       "<style scoped>\n",
       "    .dataframe tbody tr th:only-of-type {\n",
       "        vertical-align: middle;\n",
       "    }\n",
       "\n",
       "    .dataframe tbody tr th {\n",
       "        vertical-align: top;\n",
       "    }\n",
       "\n",
       "    .dataframe thead th {\n",
       "        text-align: right;\n",
       "    }\n",
       "</style>\n",
       "<table border=\"1\" class=\"dataframe\">\n",
       "  <thead>\n",
       "    <tr style=\"text-align: right;\">\n",
       "      <th></th>\n",
       "      <th>id</th>\n",
       "      <th>log_price</th>\n",
       "      <th>property_type</th>\n",
       "      <th>room_type</th>\n",
       "      <th>amenities</th>\n",
       "      <th>accommodates</th>\n",
       "      <th>bathrooms</th>\n",
       "      <th>bed_type</th>\n",
       "      <th>cancellation_policy</th>\n",
       "      <th>cleaning_fee</th>\n",
       "      <th>...</th>\n",
       "      <th>city_name</th>\n",
       "      <th>city_ascii</th>\n",
       "      <th>lat</th>\n",
       "      <th>lng</th>\n",
       "      <th>country</th>\n",
       "      <th>iso2</th>\n",
       "      <th>iso3</th>\n",
       "      <th>admin_name</th>\n",
       "      <th>capital</th>\n",
       "      <th>population</th>\n",
       "    </tr>\n",
       "  </thead>\n",
       "  <tbody>\n",
       "    <tr>\n",
       "      <th>0</th>\n",
       "      <td>6901257</td>\n",
       "      <td>5.010635</td>\n",
       "      <td>Apartment</td>\n",
       "      <td>Entire home/apt</td>\n",
       "      <td>{\"Wireless Internet\",\"Air conditioning\",Kitche...</td>\n",
       "      <td>3</td>\n",
       "      <td>1.0</td>\n",
       "      <td>Real Bed</td>\n",
       "      <td>strict</td>\n",
       "      <td>True</td>\n",
       "      <td>...</td>\n",
       "      <td>New York</td>\n",
       "      <td>New York</td>\n",
       "      <td>40.6943</td>\n",
       "      <td>-73.9249</td>\n",
       "      <td>United States</td>\n",
       "      <td>US</td>\n",
       "      <td>USA</td>\n",
       "      <td>New York</td>\n",
       "      <td>NaN</td>\n",
       "      <td>18713220.0</td>\n",
       "    </tr>\n",
       "    <tr>\n",
       "      <th>1</th>\n",
       "      <td>6304928</td>\n",
       "      <td>5.129899</td>\n",
       "      <td>Apartment</td>\n",
       "      <td>Entire home/apt</td>\n",
       "      <td>{\"Wireless Internet\",\"Air conditioning\",Kitche...</td>\n",
       "      <td>7</td>\n",
       "      <td>1.0</td>\n",
       "      <td>Real Bed</td>\n",
       "      <td>strict</td>\n",
       "      <td>True</td>\n",
       "      <td>...</td>\n",
       "      <td>New York</td>\n",
       "      <td>New York</td>\n",
       "      <td>40.6943</td>\n",
       "      <td>-73.9249</td>\n",
       "      <td>United States</td>\n",
       "      <td>US</td>\n",
       "      <td>USA</td>\n",
       "      <td>New York</td>\n",
       "      <td>NaN</td>\n",
       "      <td>18713220.0</td>\n",
       "    </tr>\n",
       "    <tr>\n",
       "      <th>2</th>\n",
       "      <td>7919400</td>\n",
       "      <td>4.976734</td>\n",
       "      <td>Apartment</td>\n",
       "      <td>Entire home/apt</td>\n",
       "      <td>{TV,\"Cable TV\",\"Wireless Internet\",\"Air condit...</td>\n",
       "      <td>5</td>\n",
       "      <td>1.0</td>\n",
       "      <td>Real Bed</td>\n",
       "      <td>moderate</td>\n",
       "      <td>True</td>\n",
       "      <td>...</td>\n",
       "      <td>New York</td>\n",
       "      <td>New York</td>\n",
       "      <td>40.6943</td>\n",
       "      <td>-73.9249</td>\n",
       "      <td>United States</td>\n",
       "      <td>US</td>\n",
       "      <td>USA</td>\n",
       "      <td>New York</td>\n",
       "      <td>NaN</td>\n",
       "      <td>18713220.0</td>\n",
       "    </tr>\n",
       "    <tr>\n",
       "      <th>3</th>\n",
       "      <td>13418779</td>\n",
       "      <td>6.620073</td>\n",
       "      <td>House</td>\n",
       "      <td>Entire home/apt</td>\n",
       "      <td>{TV,\"Cable TV\",Internet,\"Wireless Internet\",Ki...</td>\n",
       "      <td>4</td>\n",
       "      <td>1.0</td>\n",
       "      <td>Real Bed</td>\n",
       "      <td>flexible</td>\n",
       "      <td>True</td>\n",
       "      <td>...</td>\n",
       "      <td>San Francisco</td>\n",
       "      <td>San Francisco</td>\n",
       "      <td>37.7562</td>\n",
       "      <td>-122.4430</td>\n",
       "      <td>United States</td>\n",
       "      <td>US</td>\n",
       "      <td>USA</td>\n",
       "      <td>California</td>\n",
       "      <td>NaN</td>\n",
       "      <td>3592294.0</td>\n",
       "    </tr>\n",
       "    <tr>\n",
       "      <th>4</th>\n",
       "      <td>3808709</td>\n",
       "      <td>4.744932</td>\n",
       "      <td>Apartment</td>\n",
       "      <td>Entire home/apt</td>\n",
       "      <td>{TV,Internet,\"Wireless Internet\",\"Air conditio...</td>\n",
       "      <td>2</td>\n",
       "      <td>1.0</td>\n",
       "      <td>Real Bed</td>\n",
       "      <td>moderate</td>\n",
       "      <td>True</td>\n",
       "      <td>...</td>\n",
       "      <td>Washington</td>\n",
       "      <td>Washington</td>\n",
       "      <td>38.9047</td>\n",
       "      <td>-77.0163</td>\n",
       "      <td>United States</td>\n",
       "      <td>US</td>\n",
       "      <td>USA</td>\n",
       "      <td>District of Columbia</td>\n",
       "      <td>primary</td>\n",
       "      <td>5379184.0</td>\n",
       "    </tr>\n",
       "  </tbody>\n",
       "</table>\n",
       "<p>5 rows × 40 columns</p>\n",
       "</div>"
      ],
      "text/plain": [
       "         id  log_price property_type        room_type  \\\n",
       "0   6901257   5.010635     Apartment  Entire home/apt   \n",
       "1   6304928   5.129899     Apartment  Entire home/apt   \n",
       "2   7919400   4.976734     Apartment  Entire home/apt   \n",
       "3  13418779   6.620073         House  Entire home/apt   \n",
       "4   3808709   4.744932     Apartment  Entire home/apt   \n",
       "\n",
       "                                           amenities  accommodates  bathrooms  \\\n",
       "0  {\"Wireless Internet\",\"Air conditioning\",Kitche...             3        1.0   \n",
       "1  {\"Wireless Internet\",\"Air conditioning\",Kitche...             7        1.0   \n",
       "2  {TV,\"Cable TV\",\"Wireless Internet\",\"Air condit...             5        1.0   \n",
       "3  {TV,\"Cable TV\",Internet,\"Wireless Internet\",Ki...             4        1.0   \n",
       "4  {TV,Internet,\"Wireless Internet\",\"Air conditio...             2        1.0   \n",
       "\n",
       "   bed_type cancellation_policy  cleaning_fee  ...      city_name  \\\n",
       "0  Real Bed              strict          True  ...       New York   \n",
       "1  Real Bed              strict          True  ...       New York   \n",
       "2  Real Bed            moderate          True  ...       New York   \n",
       "3  Real Bed            flexible          True  ...  San Francisco   \n",
       "4  Real Bed            moderate          True  ...     Washington   \n",
       "\n",
       "      city_ascii      lat       lng        country iso2 iso3  \\\n",
       "0       New York  40.6943  -73.9249  United States   US  USA   \n",
       "1       New York  40.6943  -73.9249  United States   US  USA   \n",
       "2       New York  40.6943  -73.9249  United States   US  USA   \n",
       "3  San Francisco  37.7562 -122.4430  United States   US  USA   \n",
       "4     Washington  38.9047  -77.0163  United States   US  USA   \n",
       "\n",
       "             admin_name  capital  population  \n",
       "0              New York      NaN  18713220.0  \n",
       "1              New York      NaN  18713220.0  \n",
       "2              New York      NaN  18713220.0  \n",
       "3            California      NaN   3592294.0  \n",
       "4  District of Columbia  primary   5379184.0  \n",
       "\n",
       "[5 rows x 40 columns]"
      ]
     },
     "execution_count": 9,
     "metadata": {},
     "output_type": "execute_result"
    }
   ],
   "source": [
    "new_df.head()"
   ]
  },
  {
   "cell_type": "code",
   "execution_count": 10,
   "metadata": {},
   "outputs": [],
   "source": [
    "new_df.drop('iso3', axis=1, inplace=True)"
   ]
  },
  {
   "cell_type": "code",
   "execution_count": 11,
   "metadata": {},
   "outputs": [],
   "source": [
    "new_df.drop('iso2', axis=1, inplace=True)"
   ]
  },
  {
   "cell_type": "code",
   "execution_count": 12,
   "metadata": {},
   "outputs": [],
   "source": [
    "new_df.drop('city_ascii', axis=1, inplace=True)"
   ]
  },
  {
   "cell_type": "markdown",
   "metadata": {},
   "source": [
    "## Feature Engineering"
   ]
  },
  {
   "cell_type": "markdown",
   "metadata": {},
   "source": [
    "#### Distance of Airbnb to city center\n"
   ]
  },
  {
   "cell_type": "code",
   "execution_count": 13,
   "metadata": {},
   "outputs": [],
   "source": [
    "from geopy import distance\n",
    "\n",
    "def dist_city_center(prop_lat, prop_lon, city_lat, city_lon):\n",
    "    prop_coords = (prop_lat, prop_lon)\n",
    "    city_coords = (city_lat, city_lon)\n",
    "    dist = distance.great_circle(prop_coords, city_coords).miles\n",
    "    return dist\n"
   ]
  },
  {
   "cell_type": "code",
   "execution_count": 14,
   "metadata": {},
   "outputs": [],
   "source": [
    "new_df['cc_dist'] = new_df.apply(lambda x: dist_city_center(x.latitude, x.longitude, x.lat, x.lng), axis=1)\n"
   ]
  },
  {
   "cell_type": "code",
   "execution_count": 15,
   "metadata": {},
   "outputs": [],
   "source": [
    "\n",
    "def haversine_np(lon1, lat1, lon2, lat2):\n",
    "    \"\"\"\n",
    "    Calculate the great circle distance between two points\n",
    "    on the earth (specified in decimal degrees)\n",
    "\n",
    "    All args must be of equal length.    \n",
    "\n",
    "    \"\"\"\n",
    "    lon1, lat1, lon2, lat2 = map(np.radians, [lon1, lat1, lon2, lat2])\n",
    "\n",
    "    dlon = lon2 - lon1\n",
    "    dlat = lat2 - lat1\n",
    "\n",
    "    a = np.sin(dlat/2.0)**2 + np.cos(lat1) * np.cos(lat2) * np.sin(dlon/2.0)**2\n",
    "\n",
    "    c = 2 * np.arcsin(np.sqrt(a))\n",
    "    km = 6367 * c\n",
    "#     m = km * 0.621371\n",
    "    \n",
    "    return km\n"
   ]
  },
  {
   "cell_type": "code",
   "execution_count": 16,
   "metadata": {},
   "outputs": [],
   "source": [
    "def num_close_airbnbs(y, df, dist_thresh):\n",
    "    df['cur_lat'] = y.latitude\n",
    "    df['cur_lon'] = y.longitude\n",
    "    df['rel_dist'] = haversine_np(df['cur_lon'], df['cur_lat'], df['longitude'], df['latitude'])\n",
    "    num_close = df[df['rel_dist']<=dist_thresh]\n",
    "    return len(num_close)-1"
   ]
  },
  {
   "cell_type": "code",
   "execution_count": 17,
   "metadata": {},
   "outputs": [],
   "source": [
    "# takes ~10 mins to run\n",
    "df = new_df.copy()\n",
    "new_df['num_bnb_1km'] = new_df.apply(lambda y: num_close_airbnbs(y, df, 1), axis=1)"
   ]
  },
  {
   "cell_type": "markdown",
   "metadata": {},
   "source": [
    "#### Description Length"
   ]
  },
  {
   "cell_type": "code",
   "execution_count": 18,
   "metadata": {},
   "outputs": [],
   "source": [
    "new_df['desc_len'] = new_df['description'].str.len()\n",
    "new_df['name_len'] = new_df['name'].str.len()"
   ]
  },
  {
   "cell_type": "markdown",
   "metadata": {},
   "source": [
    "#### Ratio of Bedrooms to bathrooms"
   ]
  },
  {
   "cell_type": "code",
   "execution_count": 19,
   "metadata": {},
   "outputs": [],
   "source": [
    "new_df['bed_bath_ratio'] = round(new_df.bedrooms/new_df.bathrooms,2)"
   ]
  },
  {
   "cell_type": "markdown",
   "metadata": {},
   "source": [
    "#### How long has the host been hosting"
   ]
  },
  {
   "cell_type": "code",
   "execution_count": 20,
   "metadata": {
    "scrolled": true
   },
   "outputs": [],
   "source": [
    "new_df['today'] = '2021-04-01'"
   ]
  },
  {
   "cell_type": "code",
   "execution_count": 21,
   "metadata": {
    "scrolled": true
   },
   "outputs": [],
   "source": [
    "new_df['host_since'] = pd.to_datetime(new_df['host_since'])\n",
    "new_df['today'] = pd.to_datetime(new_df['today'])\n",
    "new_df['years_of_hosting'] = round(((new_df['today'] - new_df['host_since']).dt.days)/365,1)"
   ]
  },
  {
   "cell_type": "markdown",
   "metadata": {},
   "source": [
    "#### Years since last review (benchmark date = 2021-04-01)"
   ]
  },
  {
   "cell_type": "code",
   "execution_count": 22,
   "metadata": {},
   "outputs": [],
   "source": [
    "new_df['last_review'] = pd.to_datetime(new_df['last_review'])\n",
    "new_df['years_since_lastreview'] = round(((new_df['today'] - new_df['last_review']).dt.days)/365,1)"
   ]
  },
  {
   "cell_type": "code",
   "execution_count": 23,
   "metadata": {},
   "outputs": [],
   "source": [
    "# Dropping the column I made to get the dates\n",
    "new_df.drop('today', axis=1, inplace=True)"
   ]
  },
  {
   "cell_type": "code",
   "execution_count": 25,
   "metadata": {},
   "outputs": [
    {
     "data": {
      "text/plain": [
       "15827"
      ]
     },
     "execution_count": 25,
     "metadata": {},
     "output_type": "execute_result"
    }
   ],
   "source": [
    "# null values generated because there is no 'last_review'\n",
    "new_df.years_since_lastreview.isnull().sum()"
   ]
  },
  {
   "cell_type": "markdown",
   "metadata": {},
   "source": [
    "#### Change % to float for column 'host_response_rate'"
   ]
  },
  {
   "cell_type": "code",
   "execution_count": 26,
   "metadata": {},
   "outputs": [],
   "source": [
    "new_df['host_response_rate'] = new_df['host_response_rate'].str.rstrip('%').astype('float')\n"
   ]
  },
  {
   "cell_type": "code",
   "execution_count": 27,
   "metadata": {},
   "outputs": [
    {
     "data": {
      "text/plain": [
       "(74111, 44)"
      ]
     },
     "execution_count": 27,
     "metadata": {},
     "output_type": "execute_result"
    }
   ],
   "source": [
    "new_df.shape"
   ]
  },
  {
   "cell_type": "markdown",
   "metadata": {},
   "source": [
    "#### Column 'host_has_profile_pic', 'host_since', 'host_identity_verified' all has 203 missing values"
   ]
  },
  {
   "cell_type": "code",
   "execution_count": 28,
   "metadata": {},
   "outputs": [],
   "source": [
    "# Let's change all nan values to 'f' (no profile pic, identity not verified)\n",
    "new_df.loc[new_df['host_has_profile_pic'].isnull(), 'host_has_profile_pic'] = 'f'\n",
    "new_df.loc[new_df['host_identity_verified'].isnull(), 'host_identity_verified'] = 'f'\n"
   ]
  },
  {
   "cell_type": "markdown",
   "metadata": {},
   "source": [
    "#### Encode 'thumbnail_url' column to 1 or 0 (if you have thumbnail then 1 else 0)"
   ]
  },
  {
   "cell_type": "code",
   "execution_count": 29,
   "metadata": {},
   "outputs": [
    {
     "data": {
      "text/plain": [
       "65883"
      ]
     },
     "execution_count": 29,
     "metadata": {},
     "output_type": "execute_result"
    }
   ],
   "source": [
    "# we won't using this as dummy variable\n",
    "new_df.thumbnail_url.nunique()\n"
   ]
  },
  {
   "cell_type": "code",
   "execution_count": 30,
   "metadata": {},
   "outputs": [],
   "source": [
    "# If the value is not null, then we assign 1, else 0\n",
    "new_df.loc[new_df['thumbnail_url'].notnull(), 'thumbnail_url'] = 1\n"
   ]
  },
  {
   "cell_type": "code",
   "execution_count": 31,
   "metadata": {},
   "outputs": [],
   "source": [
    "new_df.loc[new_df['thumbnail_url'].isnull(), 'thumbnail_url'] = 0\n"
   ]
  },
  {
   "cell_type": "code",
   "execution_count": 32,
   "metadata": {},
   "outputs": [
    {
     "data": {
      "text/plain": [
       "array([1, 0], dtype=object)"
      ]
     },
     "execution_count": 32,
     "metadata": {},
     "output_type": "execute_result"
    }
   ],
   "source": [
    "# Now we have either 1 or 0\n",
    "new_df.thumbnail_url.unique()\n"
   ]
  },
  {
   "cell_type": "markdown",
   "metadata": {},
   "source": [
    "#### Drop duplicate rows"
   ]
  },
  {
   "cell_type": "code",
   "execution_count": 33,
   "metadata": {},
   "outputs": [
    {
     "name": "stdout",
     "output_type": "stream",
     "text": [
      "number of duplicate rows: (0, 44)\n"
     ]
    }
   ],
   "source": [
    "duplicate_rows_new_df = new_df[new_df.duplicated()]\n",
    "print('number of duplicate rows:', duplicate_rows_new_df.shape)\n",
    "\n",
    "#drop the duplicate rows\n",
    "new_df = new_df.drop_duplicates()\n",
    "\n"
   ]
  },
  {
   "cell_type": "markdown",
   "metadata": {},
   "source": [
    "#### Missing values for bedrooms and bathrooms"
   ]
  },
  {
   "cell_type": "code",
   "execution_count": 34,
   "metadata": {},
   "outputs": [
    {
     "data": {
      "text/plain": [
       "1.0     49784\n",
       "2.0     11351\n",
       "0.0      6715\n",
       "3.0      4309\n",
       "4.0      1330\n",
       "5.0       355\n",
       "6.0       106\n",
       "7.0        38\n",
       "8.0        14\n",
       "10.0       10\n",
       "9.0         8\n",
       "Name: bedrooms, dtype: int64"
      ]
     },
     "execution_count": 34,
     "metadata": {},
     "output_type": "execute_result"
    }
   ],
   "source": [
    "# Since most of the airbnbs have 1 bedroom, i will impute the missing values with 1\n",
    "new_df.bedrooms.value_counts()\n"
   ]
  },
  {
   "cell_type": "code",
   "execution_count": 35,
   "metadata": {},
   "outputs": [
    {
     "data": {
      "text/plain": [
       "1.0    58099\n",
       "2.0     7936\n",
       "1.5     3801\n",
       "2.5     1567\n",
       "3.0     1066\n",
       "3.5      429\n",
       "4.0      286\n",
       "0.5      209\n",
       "0.0      198\n",
       "4.5      116\n",
       "5.0       72\n",
       "8.0       41\n",
       "5.5       39\n",
       "6.0       24\n",
       "6.5       12\n",
       "7.0       10\n",
       "7.5        6\n",
       "Name: bathrooms, dtype: int64"
      ]
     },
     "execution_count": 35,
     "metadata": {},
     "output_type": "execute_result"
    }
   ],
   "source": [
    "# Since most of the airbnbs have 1 bathroom, i will impute the missing values with 1\n",
    "new_df.bathrooms.value_counts()\n"
   ]
  },
  {
   "cell_type": "code",
   "execution_count": 36,
   "metadata": {},
   "outputs": [
    {
     "data": {
      "text/plain": [
       "1.0     45144\n",
       "2.0     16704\n",
       "3.0      6442\n",
       "4.0      3065\n",
       "5.0      1287\n",
       "6.0       661\n",
       "7.0       216\n",
       "8.0       186\n",
       "10.0       88\n",
       "9.0        72\n",
       "16.0       38\n",
       "12.0       29\n",
       "11.0       23\n",
       "13.0       10\n",
       "15.0        6\n",
       "14.0        4\n",
       "0.0         4\n",
       "18.0        1\n",
       "Name: beds, dtype: int64"
      ]
     },
     "execution_count": 36,
     "metadata": {},
     "output_type": "execute_result"
    }
   ],
   "source": [
    "new_df.beds.value_counts()\n"
   ]
  },
  {
   "cell_type": "code",
   "execution_count": 37,
   "metadata": {},
   "outputs": [],
   "source": [
    "new_df['bathrooms'].fillna(new_df['bathrooms'].mode()[0], inplace=True)\n",
    "new_df['bedrooms'].fillna(new_df['bedrooms'].mode()[0], inplace=True)\n",
    "new_df['beds'].fillna(new_df['beds'].mode()[0], inplace=True)\n"
   ]
  },
  {
   "cell_type": "markdown",
   "metadata": {},
   "source": [
    "#### Number of Beds to bedroom ratio"
   ]
  },
  {
   "cell_type": "code",
   "execution_count": 38,
   "metadata": {},
   "outputs": [],
   "source": [
    "new_df['bed_bath_ratio'] = round(new_df.bedrooms/new_df.bathrooms,2)\n"
   ]
  },
  {
   "cell_type": "code",
   "execution_count": 39,
   "metadata": {},
   "outputs": [],
   "source": [
    "# There are null values in 'bed_bath_ratio' because there are houses with no bathrooms (campers, private rooms..)\n",
    "# Replace null values in 'bed_bath_ratio' with 0\n",
    "new_df.loc[new_df['bed_bath_ratio'].isnull(), 'bed_bath_ratio'] = 0.00\n"
   ]
  },
  {
   "cell_type": "code",
   "execution_count": 40,
   "metadata": {},
   "outputs": [],
   "source": [
    "new_df.loc[new_df['bed_bath_ratio']==np.inf, 'bed_bath_ratio'] = 0.00"
   ]
  },
  {
   "cell_type": "markdown",
   "metadata": {},
   "source": [
    "#### Drop 'neighborhood', 'zipcode', 'lat', 'lng', 'description' and 'name'"
   ]
  },
  {
   "cell_type": "code",
   "execution_count": 41,
   "metadata": {},
   "outputs": [],
   "source": [
    "new_df.drop('zipcode', axis=1, inplace=True)\n",
    "new_df.drop('neighbourhood', axis=1, inplace=True)"
   ]
  },
  {
   "cell_type": "code",
   "execution_count": 42,
   "metadata": {},
   "outputs": [],
   "source": [
    "new_df.drop('lat', axis=1, inplace=True)\n",
    "new_df.drop('lng', axis=1, inplace=True)"
   ]
  },
  {
   "cell_type": "code",
   "execution_count": 43,
   "metadata": {},
   "outputs": [],
   "source": [
    "new_df.drop('name', axis=1, inplace=True)"
   ]
  },
  {
   "cell_type": "code",
   "execution_count": 44,
   "metadata": {},
   "outputs": [],
   "source": [
    "new_df.drop('description', axis=1, inplace=True)"
   ]
  },
  {
   "cell_type": "markdown",
   "metadata": {},
   "source": [
    "#### Drop bed_type, cancellation_policy, cleaning_fee (not in test)\n"
   ]
  },
  {
   "cell_type": "code",
   "execution_count": 45,
   "metadata": {},
   "outputs": [],
   "source": [
    "new_df.drop('bed_type', axis=1, inplace=True)"
   ]
  },
  {
   "cell_type": "code",
   "execution_count": 46,
   "metadata": {},
   "outputs": [],
   "source": [
    "new_df.drop('cancellation_policy', axis=1, inplace=True)"
   ]
  },
  {
   "cell_type": "code",
   "execution_count": 47,
   "metadata": {},
   "outputs": [],
   "source": [
    "new_df.drop('cleaning_fee', axis=1, inplace=True)"
   ]
  },
  {
   "cell_type": "code",
   "execution_count": 48,
   "metadata": {},
   "outputs": [],
   "source": [
    "new_df.drop('capital', axis=1, inplace=True)"
   ]
  },
  {
   "cell_type": "code",
   "execution_count": 49,
   "metadata": {},
   "outputs": [],
   "source": [
    "new_df.drop('admin_name', axis=1, inplace=True)"
   ]
  },
  {
   "cell_type": "code",
   "execution_count": 50,
   "metadata": {},
   "outputs": [],
   "source": [
    "new_df.drop('population', axis=1, inplace=True)"
   ]
  },
  {
   "cell_type": "code",
   "execution_count": 51,
   "metadata": {},
   "outputs": [],
   "source": [
    "new_df.drop('city_id', axis=1, inplace=True)"
   ]
  },
  {
   "cell_type": "code",
   "execution_count": 52,
   "metadata": {},
   "outputs": [],
   "source": [
    "new_df.drop('latitude', axis=1, inplace=True)"
   ]
  },
  {
   "cell_type": "code",
   "execution_count": 53,
   "metadata": {},
   "outputs": [],
   "source": [
    "new_df.drop('longitude', axis=1, inplace=True)"
   ]
  },
  {
   "cell_type": "code",
   "execution_count": 54,
   "metadata": {},
   "outputs": [],
   "source": [
    "new_df.drop('country', axis=1, inplace=True)"
   ]
  },
  {
   "cell_type": "code",
   "execution_count": 55,
   "metadata": {},
   "outputs": [],
   "source": [
    "new_df.drop('city', axis=1, inplace=True)"
   ]
  },
  {
   "cell_type": "code",
   "execution_count": 56,
   "metadata": {},
   "outputs": [],
   "source": [
    "new_df.drop('city_name', axis=1, inplace=True)"
   ]
  },
  {
   "cell_type": "markdown",
   "metadata": {},
   "source": [
    "#### Amenities"
   ]
  },
  {
   "cell_type": "code",
   "execution_count": 57,
   "metadata": {},
   "outputs": [],
   "source": [
    "def handle_entry(s):\n",
    "    # remove curly brace\n",
    "    s = s.strip('{').strip('}')\n",
    "    s = s.lower()\n",
    "    # split\n",
    "    s_list = s.split(\",\")\n",
    "    # remove extra quote\n",
    "    for i, curr_s in enumerate(s_list):\n",
    "        s_list[i] = s_list[i].strip('\"')\n",
    "    return s_list"
   ]
  },
  {
   "cell_type": "code",
   "execution_count": 58,
   "metadata": {},
   "outputs": [],
   "source": [
    "new_df['amenities'] = new_df['amenities'].apply(lambda x: handle_entry(x))"
   ]
  },
  {
   "cell_type": "code",
   "execution_count": 59,
   "metadata": {},
   "outputs": [],
   "source": [
    "amenity_dict = {'amenity_tv': ['cable tv','tv'], \n",
    " 'amenity_baby': ['baby bath','baby monitor', 'babysitter recommendations', 'changing table', \n",
    "                  \"children’s books and toys\", \"children’s dinnerware\", 'family/kid friendly',\n",
    "                  'fireplace guards', 'crib', 'high chair', \"pack ’n play/travel crib\", 'table corner guards',\n",
    "                  'outlet covers', 'stair gates'],\n",
    "'amenity_bed': ['bed linens', \"extra pillows and blankets\",'firm mattress','firm matress','firm mattress'],\n",
    "'amenity_accessibility': [' smooth pathway to front door','accessible-height bed','accessible-height toilet',\n",
    "                          'disabled parking spot','fixed grab bars for shower & toilet','flat smooth pathway to front door',\n",
    "                          'grab-rails for shower and toilet','ground floor access','handheld shower head',\n",
    "                          'path to entrance lit at night','roll-in shower with chair','step-free access',\n",
    "                          'well-lit path to entrance','wheelchair accessible','wide clearance to bed',\n",
    "                          'wide clearance to shower & toilet','wide clearance to shower and toilet','wide doorway',\n",
    "                          'wide entryway','wide hallway clearance'],\n",
    "'amenity_aircondition': ['air conditioning'],\n",
    "'amenity_bbqgrill': ['bbq grill'], \n",
    "'amenity_breakfast': ['breakfast'],\n",
    "'amenity_buzzer_wireless_intercom':['buzzer/wireless intercom'],\n",
    "'amenity_cleaning_bf_checkout': ['cleaning before checkout'],\n",
    "'amenity_pets': ['cat(s)', 'dog(s)', 'other pet(s)', 'pets allowed', 'pets live on this property'],\n",
    "'amenity_washer_dryer':['dryer','washer','washer / dryer'],\n",
    "'amenity_ev_charger':['ev charger'],\n",
    "'amenity_elevator':['elevator','elevator in building'],\n",
    "'amenity_free_park':['free parking on premises','free parking on street'],\n",
    "'amenity_game':['game console'],\n",
    "'amenity_indoor_fireplace': ['indoor fireplace'],\n",
    "'amenity_gym':['gym'],\n",
    "'amenity_clothes':['iron', 'hangers'],\n",
    "'amenity_essential':['essentials'],\n",
    "'amenity_hot_water': ['hot water'],\n",
    "'amenity_garden_backyard':['garden or backyard'],\n",
    "'amenity_bathroom':['bath towel', 'hand or paper towel', 'toilet paper', 'hand soap', 'body soap', \n",
    "                    'bathtub', 'shampoo', 'bathtub with shower chair', 'hot tub', 'shampoo', 'hair dryer'],\n",
    "'amenity_host_greet': ['host greets you'], \n",
    "'amenity_heating': ['heating'],\n",
    "'amenity_kitchen': ['refrigerator', 'dishes and silverware', 'microwave', 'hot water kettle', \n",
    "                    'dishwasher', 'coffee maker', 'stove', 'oven', 'cooking basics'],\n",
    "'amenity_lake': ['lake access'],\n",
    "'amenity_work': ['laptop friendly workspace'],\n",
    "'amenity_bedroom_lock': ['lock on bedroom door'],\n",
    "'amenity_lockbox': ['lockbox', 'keypad'],\n",
    "'amenity_longterm_stays': ['long term stays allowed'],\n",
    "'amenity_luggage_dropoff': ['luggage dropoff allowed'],\n",
    "'amenity_other': ['other'],\n",
    "'amenity_paid_parking': ['paid parking off premises'],\n",
    "'amenity_patio_balcony': ['patio or balcony'],\n",
    "'amenity_wifi': ['pocket wifi', 'wireless internet', 'internet', 'ethernet connection', 'internet'],\n",
    "'amenity_pool': ['pool'],\n",
    "'amenity_privacy': ['private bathroom', 'private entrance', 'private living room', 'room-darkening shades'],\n",
    "'amenity_safety': ['safety card', 'smart lock', 'smartlock', 'smoke detector', \n",
    "                   'fire extinguisher', 'first aid kit', 'window guards'],\n",
    "'amenity_self_checkin': ['self check-in'],\n",
    "'amenity_single_level_home': ['single level home'],\n",
    "'amenity_smoking_allowed': ['smoking allowed'],\n",
    "'amenity_suitable_for_events': ['suitable for events'],\n",
    "'amenity_waterfront': ['waterfront'],\n",
    "'amenity_window_guards': ['window guards'],\n",
    "'amenity_self_checkin':['self check-in'],\n",
    "'amenity_beach_essentials':['beach essentials'],\n",
    "'amenity_beach_front':['beachfront'],\n",
    "'amenity_doorman':['doorman','doorman entry'],\n",
    "'amenity_24hour_checkin':['24-hour check-in']}"
   ]
  },
  {
   "cell_type": "code",
   "execution_count": 60,
   "metadata": {},
   "outputs": [],
   "source": [
    "def ohe_amenities(amenity, x):\n",
    "    if amenity in x:\n",
    "        return 1\n",
    "    else:\n",
    "        return 0"
   ]
  },
  {
   "cell_type": "code",
   "execution_count": 61,
   "metadata": {},
   "outputs": [],
   "source": [
    "for agroup in amenity_dict.keys():\n",
    "    amenity_cols = amenity_dict[agroup]\n",
    "    for amenity in amenity_cols:\n",
    "        new_df[amenity] = new_df['amenities'].apply(lambda x: ohe_amenities(amenity, x))\n",
    "    new_df[agroup] = new_df[amenity_cols].sum(axis=1)\n",
    "    new_df = new_df.drop(columns=amenity_cols)\n",
    "    new_df[agroup] = np.where(new_df[agroup] >= 1, 1, 0)"
   ]
  },
  {
   "cell_type": "code",
   "execution_count": 62,
   "metadata": {},
   "outputs": [],
   "source": [
    "new_df = new_df.fillna(method='bfill')"
   ]
  },
  {
   "cell_type": "code",
   "execution_count": 63,
   "metadata": {},
   "outputs": [
    {
     "data": {
      "text/plain": [
       "0"
      ]
     },
     "execution_count": 63,
     "metadata": {},
     "output_type": "execute_result"
    }
   ],
   "source": [
    "new_df.first_review.isnull().sum()"
   ]
  },
  {
   "cell_type": "code",
   "execution_count": 64,
   "metadata": {},
   "outputs": [
    {
     "data": {
      "text/plain": [
       "0"
      ]
     },
     "execution_count": 64,
     "metadata": {},
     "output_type": "execute_result"
    }
   ],
   "source": [
    "new_df.last_review.isnull().sum()"
   ]
  },
  {
   "cell_type": "code",
   "execution_count": 65,
   "metadata": {
    "scrolled": true
   },
   "outputs": [
    {
     "data": {
      "text/plain": [
       "0"
      ]
     },
     "execution_count": 65,
     "metadata": {},
     "output_type": "execute_result"
    }
   ],
   "source": [
    "new_df.host_since.isnull().sum()"
   ]
  },
  {
   "cell_type": "code",
   "execution_count": 66,
   "metadata": {},
   "outputs": [
    {
     "data": {
      "text/plain": [
       "0"
      ]
     },
     "execution_count": 66,
     "metadata": {},
     "output_type": "execute_result"
    }
   ],
   "source": [
    "new_df.host_response_rate.isnull().sum()"
   ]
  },
  {
   "cell_type": "markdown",
   "metadata": {},
   "source": [
    "#### One-hot-encoding"
   ]
  },
  {
   "cell_type": "code",
   "execution_count": 67,
   "metadata": {},
   "outputs": [],
   "source": [
    "cate_vari = ['property_type','room_type',\n",
    "             'host_has_profile_pic','host_identity_verified','instant_bookable']\n",
    "for i in cate_vari:\n",
    "    #train[i]=train[i].astype(str)\n",
    "    new_df[i]=pd.Categorical(new_df[i])"
   ]
  },
  {
   "cell_type": "code",
   "execution_count": 68,
   "metadata": {},
   "outputs": [],
   "source": [
    "#one hot encoding for categorical variables\n",
    "from sklearn.preprocessing import OneHotEncoder\n",
    "\n",
    "# creating instance of one-hot-encoder\n",
    "enc = OneHotEncoder(handle_unknown='ignore')\n",
    "\n",
    "# passing column (label encoded values)\n",
    "df_ohe = pd.DataFrame(enc.fit_transform(new_df[cate_vari]).toarray())\n",
    "\n",
    "df_ohe.columns = enc.get_feature_names()\n",
    "\n",
    "# merge with main df bridge_df on key values\n",
    "merged_df = new_df.join(df_ohe)\n",
    "\n",
    "\n",
    "merged_df.drop(columns=cate_vari, inplace=True)\n"
   ]
  },
  {
   "cell_type": "code",
   "execution_count": 69,
   "metadata": {},
   "outputs": [],
   "source": [
    "merged_df.drop('id', axis=1, inplace=True)"
   ]
  },
  {
   "cell_type": "code",
   "execution_count": 70,
   "metadata": {},
   "outputs": [],
   "source": [
    "merged_df.drop('amenities', axis=1, inplace=True)"
   ]
  },
  {
   "cell_type": "code",
   "execution_count": 71,
   "metadata": {},
   "outputs": [],
   "source": [
    "merged_df.drop('first_review', axis=1, inplace=True)"
   ]
  },
  {
   "cell_type": "code",
   "execution_count": 72,
   "metadata": {},
   "outputs": [],
   "source": [
    "merged_df.drop('last_review', axis=1, inplace=True)"
   ]
  },
  {
   "cell_type": "code",
   "execution_count": 73,
   "metadata": {},
   "outputs": [],
   "source": [
    "merged_df.drop('host_since', axis=1, inplace=True)"
   ]
  },
  {
   "cell_type": "code",
   "execution_count": 74,
   "metadata": {},
   "outputs": [
    {
     "data": {
      "text/html": [
       "<div>\n",
       "<style scoped>\n",
       "    .dataframe tbody tr th:only-of-type {\n",
       "        vertical-align: middle;\n",
       "    }\n",
       "\n",
       "    .dataframe tbody tr th {\n",
       "        vertical-align: top;\n",
       "    }\n",
       "\n",
       "    .dataframe thead th {\n",
       "        text-align: right;\n",
       "    }\n",
       "</style>\n",
       "<table border=\"1\" class=\"dataframe\">\n",
       "  <thead>\n",
       "    <tr style=\"text-align: right;\">\n",
       "      <th></th>\n",
       "      <th>log_price</th>\n",
       "      <th>accommodates</th>\n",
       "      <th>bathrooms</th>\n",
       "      <th>host_response_rate</th>\n",
       "      <th>number_of_reviews</th>\n",
       "      <th>review_scores_rating</th>\n",
       "      <th>thumbnail_url</th>\n",
       "      <th>bedrooms</th>\n",
       "      <th>beds</th>\n",
       "      <th>cc_dist</th>\n",
       "      <th>...</th>\n",
       "      <th>x0_Yurt</th>\n",
       "      <th>x1_Entire home/apt</th>\n",
       "      <th>x1_Private room</th>\n",
       "      <th>x1_Shared room</th>\n",
       "      <th>x2_f</th>\n",
       "      <th>x2_t</th>\n",
       "      <th>x3_f</th>\n",
       "      <th>x3_t</th>\n",
       "      <th>x4_f</th>\n",
       "      <th>x4_t</th>\n",
       "    </tr>\n",
       "  </thead>\n",
       "  <tbody>\n",
       "    <tr>\n",
       "      <th>0</th>\n",
       "      <td>5.010635</td>\n",
       "      <td>3</td>\n",
       "      <td>1.0</td>\n",
       "      <td>100.0</td>\n",
       "      <td>2</td>\n",
       "      <td>100.0</td>\n",
       "      <td>1</td>\n",
       "      <td>1.0</td>\n",
       "      <td>1.0</td>\n",
       "      <td>3.498384</td>\n",
       "      <td>...</td>\n",
       "      <td>0.0</td>\n",
       "      <td>1.0</td>\n",
       "      <td>0.0</td>\n",
       "      <td>0.0</td>\n",
       "      <td>0.0</td>\n",
       "      <td>1.0</td>\n",
       "      <td>0.0</td>\n",
       "      <td>1.0</td>\n",
       "      <td>1.0</td>\n",
       "      <td>0.0</td>\n",
       "    </tr>\n",
       "    <tr>\n",
       "      <th>1</th>\n",
       "      <td>5.129899</td>\n",
       "      <td>7</td>\n",
       "      <td>1.0</td>\n",
       "      <td>100.0</td>\n",
       "      <td>6</td>\n",
       "      <td>93.0</td>\n",
       "      <td>1</td>\n",
       "      <td>3.0</td>\n",
       "      <td>3.0</td>\n",
       "      <td>5.991584</td>\n",
       "      <td>...</td>\n",
       "      <td>0.0</td>\n",
       "      <td>1.0</td>\n",
       "      <td>0.0</td>\n",
       "      <td>0.0</td>\n",
       "      <td>0.0</td>\n",
       "      <td>1.0</td>\n",
       "      <td>1.0</td>\n",
       "      <td>0.0</td>\n",
       "      <td>0.0</td>\n",
       "      <td>1.0</td>\n",
       "    </tr>\n",
       "    <tr>\n",
       "      <th>2</th>\n",
       "      <td>4.976734</td>\n",
       "      <td>5</td>\n",
       "      <td>1.0</td>\n",
       "      <td>100.0</td>\n",
       "      <td>10</td>\n",
       "      <td>92.0</td>\n",
       "      <td>1</td>\n",
       "      <td>1.0</td>\n",
       "      <td>3.0</td>\n",
       "      <td>7.925215</td>\n",
       "      <td>...</td>\n",
       "      <td>0.0</td>\n",
       "      <td>1.0</td>\n",
       "      <td>0.0</td>\n",
       "      <td>0.0</td>\n",
       "      <td>0.0</td>\n",
       "      <td>1.0</td>\n",
       "      <td>0.0</td>\n",
       "      <td>1.0</td>\n",
       "      <td>0.0</td>\n",
       "      <td>1.0</td>\n",
       "    </tr>\n",
       "    <tr>\n",
       "      <th>3</th>\n",
       "      <td>6.620073</td>\n",
       "      <td>4</td>\n",
       "      <td>1.0</td>\n",
       "      <td>100.0</td>\n",
       "      <td>0</td>\n",
       "      <td>40.0</td>\n",
       "      <td>1</td>\n",
       "      <td>2.0</td>\n",
       "      <td>2.0</td>\n",
       "      <td>1.256540</td>\n",
       "      <td>...</td>\n",
       "      <td>0.0</td>\n",
       "      <td>1.0</td>\n",
       "      <td>0.0</td>\n",
       "      <td>0.0</td>\n",
       "      <td>0.0</td>\n",
       "      <td>1.0</td>\n",
       "      <td>0.0</td>\n",
       "      <td>1.0</td>\n",
       "      <td>1.0</td>\n",
       "      <td>0.0</td>\n",
       "    </tr>\n",
       "    <tr>\n",
       "      <th>4</th>\n",
       "      <td>4.744932</td>\n",
       "      <td>2</td>\n",
       "      <td>1.0</td>\n",
       "      <td>100.0</td>\n",
       "      <td>4</td>\n",
       "      <td>40.0</td>\n",
       "      <td>0</td>\n",
       "      <td>0.0</td>\n",
       "      <td>1.0</td>\n",
       "      <td>1.748733</td>\n",
       "      <td>...</td>\n",
       "      <td>0.0</td>\n",
       "      <td>1.0</td>\n",
       "      <td>0.0</td>\n",
       "      <td>0.0</td>\n",
       "      <td>0.0</td>\n",
       "      <td>1.0</td>\n",
       "      <td>0.0</td>\n",
       "      <td>1.0</td>\n",
       "      <td>0.0</td>\n",
       "      <td>1.0</td>\n",
       "    </tr>\n",
       "  </tbody>\n",
       "</table>\n",
       "<p>5 rows × 108 columns</p>\n",
       "</div>"
      ],
      "text/plain": [
       "   log_price  accommodates  bathrooms  host_response_rate  number_of_reviews  \\\n",
       "0   5.010635             3        1.0               100.0                  2   \n",
       "1   5.129899             7        1.0               100.0                  6   \n",
       "2   4.976734             5        1.0               100.0                 10   \n",
       "3   6.620073             4        1.0               100.0                  0   \n",
       "4   4.744932             2        1.0               100.0                  4   \n",
       "\n",
       "   review_scores_rating  thumbnail_url  bedrooms  beds   cc_dist  ...  \\\n",
       "0                 100.0              1       1.0   1.0  3.498384  ...   \n",
       "1                  93.0              1       3.0   3.0  5.991584  ...   \n",
       "2                  92.0              1       1.0   3.0  7.925215  ...   \n",
       "3                  40.0              1       2.0   2.0  1.256540  ...   \n",
       "4                  40.0              0       0.0   1.0  1.748733  ...   \n",
       "\n",
       "   x0_Yurt  x1_Entire home/apt  x1_Private room  x1_Shared room  x2_f  x2_t  \\\n",
       "0      0.0                 1.0              0.0             0.0   0.0   1.0   \n",
       "1      0.0                 1.0              0.0             0.0   0.0   1.0   \n",
       "2      0.0                 1.0              0.0             0.0   0.0   1.0   \n",
       "3      0.0                 1.0              0.0             0.0   0.0   1.0   \n",
       "4      0.0                 1.0              0.0             0.0   0.0   1.0   \n",
       "\n",
       "   x3_f  x3_t  x4_f  x4_t  \n",
       "0   0.0   1.0   1.0   0.0  \n",
       "1   1.0   0.0   0.0   1.0  \n",
       "2   0.0   1.0   0.0   1.0  \n",
       "3   0.0   1.0   1.0   0.0  \n",
       "4   0.0   1.0   0.0   1.0  \n",
       "\n",
       "[5 rows x 108 columns]"
      ]
     },
     "execution_count": 74,
     "metadata": {},
     "output_type": "execute_result"
    }
   ],
   "source": [
    "merged_df.head()"
   ]
  },
  {
   "cell_type": "code",
   "execution_count": 83,
   "metadata": {},
   "outputs": [],
   "source": [
    "from sklearn.model_selection import train_test_split\n",
    "\n",
    "y = merged_df.log_price\n",
    "X = merged_df.drop(columns=['log_price'])\n"
   ]
  },
  {
   "cell_type": "code",
   "execution_count": 84,
   "metadata": {},
   "outputs": [
    {
     "data": {
      "text/plain": [
       "accommodates              int64\n",
       "bathrooms               float64\n",
       "host_response_rate      float64\n",
       "number_of_reviews         int64\n",
       "review_scores_rating    float64\n",
       "                         ...   \n",
       "x2_t                    float64\n",
       "x3_f                    float64\n",
       "x3_t                    float64\n",
       "x4_f                    float64\n",
       "x4_t                    float64\n",
       "Length: 107, dtype: object"
      ]
     },
     "execution_count": 84,
     "metadata": {},
     "output_type": "execute_result"
    }
   ],
   "source": [
    "X.dtypes"
   ]
  },
  {
   "cell_type": "code",
   "execution_count": 85,
   "metadata": {},
   "outputs": [
    {
     "data": {
      "text/plain": [
       "0"
      ]
     },
     "execution_count": 85,
     "metadata": {},
     "output_type": "execute_result"
    }
   ],
   "source": [
    "X.isnull().any().sum()"
   ]
  },
  {
   "cell_type": "code",
   "execution_count": 87,
   "metadata": {},
   "outputs": [],
   "source": [
    "#Standardization\n",
    "X = (X - X.mean())/X.std()"
   ]
  },
  {
   "cell_type": "code",
   "execution_count": 88,
   "metadata": {},
   "outputs": [
    {
     "data": {
      "text/html": [
       "<div>\n",
       "<style scoped>\n",
       "    .dataframe tbody tr th:only-of-type {\n",
       "        vertical-align: middle;\n",
       "    }\n",
       "\n",
       "    .dataframe tbody tr th {\n",
       "        vertical-align: top;\n",
       "    }\n",
       "\n",
       "    .dataframe thead th {\n",
       "        text-align: right;\n",
       "    }\n",
       "</style>\n",
       "<table border=\"1\" class=\"dataframe\">\n",
       "  <thead>\n",
       "    <tr style=\"text-align: right;\">\n",
       "      <th></th>\n",
       "      <th>accommodates</th>\n",
       "      <th>bathrooms</th>\n",
       "      <th>host_response_rate</th>\n",
       "      <th>number_of_reviews</th>\n",
       "      <th>review_scores_rating</th>\n",
       "      <th>thumbnail_url</th>\n",
       "      <th>bedrooms</th>\n",
       "      <th>beds</th>\n",
       "      <th>cc_dist</th>\n",
       "      <th>num_bnb_1km</th>\n",
       "      <th>...</th>\n",
       "      <th>x0_Yurt</th>\n",
       "      <th>x1_Entire home/apt</th>\n",
       "      <th>x1_Private room</th>\n",
       "      <th>x1_Shared room</th>\n",
       "      <th>x2_f</th>\n",
       "      <th>x2_t</th>\n",
       "      <th>x3_f</th>\n",
       "      <th>x3_t</th>\n",
       "      <th>x4_f</th>\n",
       "      <th>x4_t</th>\n",
       "    </tr>\n",
       "  </thead>\n",
       "  <tbody>\n",
       "    <tr>\n",
       "      <th>0</th>\n",
       "      <td>-0.072041</td>\n",
       "      <td>-0.403566</td>\n",
       "      <td>0.346211</td>\n",
       "      <td>-0.499636</td>\n",
       "      <td>0.754639</td>\n",
       "      <td>0.353103</td>\n",
       "      <td>-0.311701</td>\n",
       "      <td>-0.566154</td>\n",
       "      <td>-0.418038</td>\n",
       "      <td>-0.456388</td>\n",
       "      <td>...</td>\n",
       "      <td>-0.011021</td>\n",
       "      <td>0.891072</td>\n",
       "      <td>-0.839494</td>\n",
       "      <td>-0.173387</td>\n",
       "      <td>-0.07495</td>\n",
       "      <td>0.07495</td>\n",
       "      <td>-0.699801</td>\n",
       "      <td>0.699801</td>\n",
       "      <td>0.596531</td>\n",
       "      <td>-0.596531</td>\n",
       "    </tr>\n",
       "    <tr>\n",
       "      <th>1</th>\n",
       "      <td>1.785324</td>\n",
       "      <td>-0.403566</td>\n",
       "      <td>0.346211</td>\n",
       "      <td>-0.393896</td>\n",
       "      <td>-0.135978</td>\n",
       "      <td>0.353103</td>\n",
       "      <td>2.036624</td>\n",
       "      <td>1.029520</td>\n",
       "      <td>0.034623</td>\n",
       "      <td>1.796943</td>\n",
       "      <td>...</td>\n",
       "      <td>-0.011021</td>\n",
       "      <td>0.891072</td>\n",
       "      <td>-0.839494</td>\n",
       "      <td>-0.173387</td>\n",
       "      <td>-0.07495</td>\n",
       "      <td>0.07495</td>\n",
       "      <td>1.428958</td>\n",
       "      <td>-1.428958</td>\n",
       "      <td>-1.676335</td>\n",
       "      <td>1.676335</td>\n",
       "    </tr>\n",
       "    <tr>\n",
       "      <th>2</th>\n",
       "      <td>0.856642</td>\n",
       "      <td>-0.403566</td>\n",
       "      <td>0.346211</td>\n",
       "      <td>-0.288156</td>\n",
       "      <td>-0.263209</td>\n",
       "      <td>0.353103</td>\n",
       "      <td>-0.311701</td>\n",
       "      <td>1.029520</td>\n",
       "      <td>0.385689</td>\n",
       "      <td>0.780148</td>\n",
       "      <td>...</td>\n",
       "      <td>-0.011021</td>\n",
       "      <td>0.891072</td>\n",
       "      <td>-0.839494</td>\n",
       "      <td>-0.173387</td>\n",
       "      <td>-0.07495</td>\n",
       "      <td>0.07495</td>\n",
       "      <td>-0.699801</td>\n",
       "      <td>0.699801</td>\n",
       "      <td>-1.676335</td>\n",
       "      <td>1.676335</td>\n",
       "    </tr>\n",
       "    <tr>\n",
       "      <th>3</th>\n",
       "      <td>0.392301</td>\n",
       "      <td>-0.403566</td>\n",
       "      <td>0.346211</td>\n",
       "      <td>-0.552506</td>\n",
       "      <td>-6.879225</td>\n",
       "      <td>0.353103</td>\n",
       "      <td>0.862461</td>\n",
       "      <td>0.231683</td>\n",
       "      <td>-0.825062</td>\n",
       "      <td>0.330680</td>\n",
       "      <td>...</td>\n",
       "      <td>-0.011021</td>\n",
       "      <td>0.891072</td>\n",
       "      <td>-0.839494</td>\n",
       "      <td>-0.173387</td>\n",
       "      <td>-0.07495</td>\n",
       "      <td>0.07495</td>\n",
       "      <td>-0.699801</td>\n",
       "      <td>0.699801</td>\n",
       "      <td>0.596531</td>\n",
       "      <td>-0.596531</td>\n",
       "    </tr>\n",
       "    <tr>\n",
       "      <th>4</th>\n",
       "      <td>-0.536382</td>\n",
       "      <td>-0.403566</td>\n",
       "      <td>0.346211</td>\n",
       "      <td>-0.446766</td>\n",
       "      <td>-6.879225</td>\n",
       "      <td>-2.831999</td>\n",
       "      <td>-1.485863</td>\n",
       "      <td>-0.566154</td>\n",
       "      <td>-0.735701</td>\n",
       "      <td>0.452536</td>\n",
       "      <td>...</td>\n",
       "      <td>-0.011021</td>\n",
       "      <td>0.891072</td>\n",
       "      <td>-0.839494</td>\n",
       "      <td>-0.173387</td>\n",
       "      <td>-0.07495</td>\n",
       "      <td>0.07495</td>\n",
       "      <td>-0.699801</td>\n",
       "      <td>0.699801</td>\n",
       "      <td>-1.676335</td>\n",
       "      <td>1.676335</td>\n",
       "    </tr>\n",
       "    <tr>\n",
       "      <th>...</th>\n",
       "      <td>...</td>\n",
       "      <td>...</td>\n",
       "      <td>...</td>\n",
       "      <td>...</td>\n",
       "      <td>...</td>\n",
       "      <td>...</td>\n",
       "      <td>...</td>\n",
       "      <td>...</td>\n",
       "      <td>...</td>\n",
       "      <td>...</td>\n",
       "      <td>...</td>\n",
       "      <td>...</td>\n",
       "      <td>...</td>\n",
       "      <td>...</td>\n",
       "      <td>...</td>\n",
       "      <td>...</td>\n",
       "      <td>...</td>\n",
       "      <td>...</td>\n",
       "      <td>...</td>\n",
       "      <td>...</td>\n",
       "      <td>...</td>\n",
       "    </tr>\n",
       "    <tr>\n",
       "      <th>74106</th>\n",
       "      <td>-1.000723</td>\n",
       "      <td>-0.403566</td>\n",
       "      <td>0.346211</td>\n",
       "      <td>-0.552506</td>\n",
       "      <td>-0.135978</td>\n",
       "      <td>0.353103</td>\n",
       "      <td>-0.311701</td>\n",
       "      <td>-0.566154</td>\n",
       "      <td>-0.822654</td>\n",
       "      <td>1.203646</td>\n",
       "      <td>...</td>\n",
       "      <td>-0.011021</td>\n",
       "      <td>-1.122228</td>\n",
       "      <td>1.191178</td>\n",
       "      <td>-0.173387</td>\n",
       "      <td>-0.07495</td>\n",
       "      <td>0.07495</td>\n",
       "      <td>-0.699801</td>\n",
       "      <td>0.699801</td>\n",
       "      <td>0.596531</td>\n",
       "      <td>-0.596531</td>\n",
       "    </tr>\n",
       "    <tr>\n",
       "      <th>74107</th>\n",
       "      <td>0.392301</td>\n",
       "      <td>1.316461</td>\n",
       "      <td>0.346211</td>\n",
       "      <td>-0.129546</td>\n",
       "      <td>-0.135978</td>\n",
       "      <td>0.353103</td>\n",
       "      <td>0.862461</td>\n",
       "      <td>1.827357</td>\n",
       "      <td>1.989022</td>\n",
       "      <td>-0.907853</td>\n",
       "      <td>...</td>\n",
       "      <td>-0.011021</td>\n",
       "      <td>0.891072</td>\n",
       "      <td>-0.839494</td>\n",
       "      <td>-0.173387</td>\n",
       "      <td>-0.07495</td>\n",
       "      <td>0.07495</td>\n",
       "      <td>1.428958</td>\n",
       "      <td>-1.428958</td>\n",
       "      <td>0.596531</td>\n",
       "      <td>-0.596531</td>\n",
       "    </tr>\n",
       "    <tr>\n",
       "      <th>74108</th>\n",
       "      <td>0.856642</td>\n",
       "      <td>-0.403566</td>\n",
       "      <td>0.346211</td>\n",
       "      <td>0.584198</td>\n",
       "      <td>-0.008747</td>\n",
       "      <td>0.353103</td>\n",
       "      <td>0.862461</td>\n",
       "      <td>0.231683</td>\n",
       "      <td>-0.825130</td>\n",
       "      <td>1.317511</td>\n",
       "      <td>...</td>\n",
       "      <td>-0.011021</td>\n",
       "      <td>0.891072</td>\n",
       "      <td>-0.839494</td>\n",
       "      <td>-0.173387</td>\n",
       "      <td>-0.07495</td>\n",
       "      <td>0.07495</td>\n",
       "      <td>-0.699801</td>\n",
       "      <td>0.699801</td>\n",
       "      <td>-1.676335</td>\n",
       "      <td>1.676335</td>\n",
       "    </tr>\n",
       "    <tr>\n",
       "      <th>74109</th>\n",
       "      <td>-0.536382</td>\n",
       "      <td>-0.403566</td>\n",
       "      <td>0.346211</td>\n",
       "      <td>-0.552506</td>\n",
       "      <td>0.245715</td>\n",
       "      <td>0.353103</td>\n",
       "      <td>-1.485863</td>\n",
       "      <td>0.231683</td>\n",
       "      <td>-0.147699</td>\n",
       "      <td>1.677085</td>\n",
       "      <td>...</td>\n",
       "      <td>-0.011021</td>\n",
       "      <td>0.891072</td>\n",
       "      <td>-0.839494</td>\n",
       "      <td>-0.173387</td>\n",
       "      <td>-0.07495</td>\n",
       "      <td>0.07495</td>\n",
       "      <td>1.428958</td>\n",
       "      <td>-1.428958</td>\n",
       "      <td>-1.676335</td>\n",
       "      <td>1.676335</td>\n",
       "    </tr>\n",
       "    <tr>\n",
       "      <th>74110</th>\n",
       "      <td>0.392301</td>\n",
       "      <td>-0.403566</td>\n",
       "      <td>0.346211</td>\n",
       "      <td>4.866668</td>\n",
       "      <td>0.245715</td>\n",
       "      <td>0.353103</td>\n",
       "      <td>-0.311701</td>\n",
       "      <td>0.231683</td>\n",
       "      <td>3.903174</td>\n",
       "      <td>-0.899862</td>\n",
       "      <td>...</td>\n",
       "      <td>-0.011021</td>\n",
       "      <td>0.891072</td>\n",
       "      <td>-0.839494</td>\n",
       "      <td>-0.173387</td>\n",
       "      <td>-0.07495</td>\n",
       "      <td>0.07495</td>\n",
       "      <td>-0.699801</td>\n",
       "      <td>0.699801</td>\n",
       "      <td>0.596531</td>\n",
       "      <td>-0.596531</td>\n",
       "    </tr>\n",
       "  </tbody>\n",
       "</table>\n",
       "<p>74111 rows × 107 columns</p>\n",
       "</div>"
      ],
      "text/plain": [
       "       accommodates  bathrooms  host_response_rate  number_of_reviews  \\\n",
       "0         -0.072041  -0.403566            0.346211          -0.499636   \n",
       "1          1.785324  -0.403566            0.346211          -0.393896   \n",
       "2          0.856642  -0.403566            0.346211          -0.288156   \n",
       "3          0.392301  -0.403566            0.346211          -0.552506   \n",
       "4         -0.536382  -0.403566            0.346211          -0.446766   \n",
       "...             ...        ...                 ...                ...   \n",
       "74106     -1.000723  -0.403566            0.346211          -0.552506   \n",
       "74107      0.392301   1.316461            0.346211          -0.129546   \n",
       "74108      0.856642  -0.403566            0.346211           0.584198   \n",
       "74109     -0.536382  -0.403566            0.346211          -0.552506   \n",
       "74110      0.392301  -0.403566            0.346211           4.866668   \n",
       "\n",
       "       review_scores_rating  thumbnail_url  bedrooms      beds   cc_dist  \\\n",
       "0                  0.754639       0.353103 -0.311701 -0.566154 -0.418038   \n",
       "1                 -0.135978       0.353103  2.036624  1.029520  0.034623   \n",
       "2                 -0.263209       0.353103 -0.311701  1.029520  0.385689   \n",
       "3                 -6.879225       0.353103  0.862461  0.231683 -0.825062   \n",
       "4                 -6.879225      -2.831999 -1.485863 -0.566154 -0.735701   \n",
       "...                     ...            ...       ...       ...       ...   \n",
       "74106             -0.135978       0.353103 -0.311701 -0.566154 -0.822654   \n",
       "74107             -0.135978       0.353103  0.862461  1.827357  1.989022   \n",
       "74108             -0.008747       0.353103  0.862461  0.231683 -0.825130   \n",
       "74109              0.245715       0.353103 -1.485863  0.231683 -0.147699   \n",
       "74110              0.245715       0.353103 -0.311701  0.231683  3.903174   \n",
       "\n",
       "       num_bnb_1km  ...   x0_Yurt  x1_Entire home/apt  x1_Private room  \\\n",
       "0        -0.456388  ... -0.011021            0.891072        -0.839494   \n",
       "1         1.796943  ... -0.011021            0.891072        -0.839494   \n",
       "2         0.780148  ... -0.011021            0.891072        -0.839494   \n",
       "3         0.330680  ... -0.011021            0.891072        -0.839494   \n",
       "4         0.452536  ... -0.011021            0.891072        -0.839494   \n",
       "...            ...  ...       ...                 ...              ...   \n",
       "74106     1.203646  ... -0.011021           -1.122228         1.191178   \n",
       "74107    -0.907853  ... -0.011021            0.891072        -0.839494   \n",
       "74108     1.317511  ... -0.011021            0.891072        -0.839494   \n",
       "74109     1.677085  ... -0.011021            0.891072        -0.839494   \n",
       "74110    -0.899862  ... -0.011021            0.891072        -0.839494   \n",
       "\n",
       "       x1_Shared room     x2_f     x2_t      x3_f      x3_t      x4_f  \\\n",
       "0           -0.173387 -0.07495  0.07495 -0.699801  0.699801  0.596531   \n",
       "1           -0.173387 -0.07495  0.07495  1.428958 -1.428958 -1.676335   \n",
       "2           -0.173387 -0.07495  0.07495 -0.699801  0.699801 -1.676335   \n",
       "3           -0.173387 -0.07495  0.07495 -0.699801  0.699801  0.596531   \n",
       "4           -0.173387 -0.07495  0.07495 -0.699801  0.699801 -1.676335   \n",
       "...               ...      ...      ...       ...       ...       ...   \n",
       "74106       -0.173387 -0.07495  0.07495 -0.699801  0.699801  0.596531   \n",
       "74107       -0.173387 -0.07495  0.07495  1.428958 -1.428958  0.596531   \n",
       "74108       -0.173387 -0.07495  0.07495 -0.699801  0.699801 -1.676335   \n",
       "74109       -0.173387 -0.07495  0.07495  1.428958 -1.428958 -1.676335   \n",
       "74110       -0.173387 -0.07495  0.07495 -0.699801  0.699801  0.596531   \n",
       "\n",
       "           x4_t  \n",
       "0     -0.596531  \n",
       "1      1.676335  \n",
       "2      1.676335  \n",
       "3     -0.596531  \n",
       "4      1.676335  \n",
       "...         ...  \n",
       "74106 -0.596531  \n",
       "74107 -0.596531  \n",
       "74108  1.676335  \n",
       "74109  1.676335  \n",
       "74110 -0.596531  \n",
       "\n",
       "[74111 rows x 107 columns]"
      ]
     },
     "execution_count": 88,
     "metadata": {},
     "output_type": "execute_result"
    }
   ],
   "source": [
    "X"
   ]
  },
  {
   "cell_type": "code",
   "execution_count": 92,
   "metadata": {},
   "outputs": [
    {
     "data": {
      "text/html": [
       "<div>\n",
       "<style scoped>\n",
       "    .dataframe tbody tr th:only-of-type {\n",
       "        vertical-align: middle;\n",
       "    }\n",
       "\n",
       "    .dataframe tbody tr th {\n",
       "        vertical-align: top;\n",
       "    }\n",
       "\n",
       "    .dataframe thead th {\n",
       "        text-align: right;\n",
       "    }\n",
       "</style>\n",
       "<table border=\"1\" class=\"dataframe\">\n",
       "  <thead>\n",
       "    <tr style=\"text-align: right;\">\n",
       "      <th></th>\n",
       "      <th>accommodates</th>\n",
       "      <th>bathrooms</th>\n",
       "      <th>host_response_rate</th>\n",
       "      <th>number_of_reviews</th>\n",
       "      <th>review_scores_rating</th>\n",
       "      <th>thumbnail_url</th>\n",
       "      <th>bedrooms</th>\n",
       "      <th>beds</th>\n",
       "      <th>cc_dist</th>\n",
       "      <th>num_bnb_1km</th>\n",
       "      <th>...</th>\n",
       "      <th>x0_Yurt</th>\n",
       "      <th>x1_Entire home/apt</th>\n",
       "      <th>x1_Private room</th>\n",
       "      <th>x1_Shared room</th>\n",
       "      <th>x2_f</th>\n",
       "      <th>x2_t</th>\n",
       "      <th>x3_f</th>\n",
       "      <th>x3_t</th>\n",
       "      <th>x4_f</th>\n",
       "      <th>x4_t</th>\n",
       "    </tr>\n",
       "  </thead>\n",
       "  <tbody>\n",
       "  </tbody>\n",
       "</table>\n",
       "<p>0 rows × 107 columns</p>\n",
       "</div>"
      ],
      "text/plain": [
       "Empty DataFrame\n",
       "Columns: [accommodates, bathrooms, host_response_rate, number_of_reviews, review_scores_rating, thumbnail_url, bedrooms, beds, cc_dist, num_bnb_1km, desc_len, name_len, bed_bath_ratio, years_of_hosting, years_since_lastreview, amenity_tv, amenity_baby, amenity_bed, amenity_accessibility, amenity_aircondition, amenity_bbqgrill, amenity_breakfast, amenity_buzzer_wireless_intercom, amenity_cleaning_bf_checkout, amenity_pets, amenity_washer_dryer, amenity_ev_charger, amenity_elevator, amenity_free_park, amenity_game, amenity_indoor_fireplace, amenity_gym, amenity_clothes, amenity_essential, amenity_hot_water, amenity_garden_backyard, amenity_bathroom, amenity_host_greet, amenity_heating, amenity_kitchen, amenity_lake, amenity_work, amenity_bedroom_lock, amenity_lockbox, amenity_longterm_stays, amenity_luggage_dropoff, amenity_other, amenity_paid_parking, amenity_patio_balcony, amenity_wifi, amenity_pool, amenity_privacy, amenity_safety, amenity_self_checkin, amenity_single_level_home, amenity_smoking_allowed, amenity_suitable_for_events, amenity_waterfront, amenity_window_guards, amenity_beach_essentials, amenity_beach_front, amenity_doorman, amenity_24hour_checkin, x0_Apartment, x0_Bed & Breakfast, x0_Boat, x0_Boutique hotel, x0_Bungalow, x0_Cabin, x0_Camper/RV, x0_Casa particular, x0_Castle, x0_Cave, x0_Chalet, x0_Condominium, x0_Dorm, x0_Earth House, x0_Guest suite, x0_Guesthouse, x0_Hostel, x0_House, x0_Hut, x0_In-law, x0_Island, x0_Lighthouse, x0_Loft, x0_Other, x0_Parking Space, x0_Serviced apartment, x0_Tent, x0_Timeshare, x0_Tipi, x0_Townhouse, x0_Train, x0_Treehouse, x0_Vacation home, x0_Villa, x0_Yurt, x1_Entire home/apt, x1_Private room, ...]\n",
       "Index: []\n",
       "\n",
       "[0 rows x 107 columns]"
      ]
     },
     "execution_count": 92,
     "metadata": {},
     "output_type": "execute_result"
    }
   ],
   "source": [
    "X.iloc[X.values==np.inf]"
   ]
  },
  {
   "cell_type": "code",
   "execution_count": 93,
   "metadata": {},
   "outputs": [],
   "source": [
    "r_state = 2021\n",
    "\n",
    "# Split into train/test\n",
    "X_train, X_test, y_train, y_test = train_test_split(X, y, test_size=0.2, random_state=r_state)"
   ]
  },
  {
   "cell_type": "markdown",
   "metadata": {},
   "source": [
    "#### PCA"
   ]
  },
  {
   "cell_type": "code",
   "execution_count": 95,
   "metadata": {},
   "outputs": [
    {
     "data": {
      "text/plain": [
       "array([0.05325337, 0.09554764, 0.12653232, 0.15444118, 0.1800435 ,\n",
       "       0.20355608, 0.22245739, 0.24004449, 0.25614551, 0.27002333,\n",
       "       0.28361438, 0.29670233, 0.3094992 , 0.32204446, 0.33425764,\n",
       "       0.3461383 , 0.35799483, 0.36982585, 0.38164703, 0.3934635 ,\n",
       "       0.40526606, 0.41702912, 0.42866411, 0.44003354, 0.45122046,\n",
       "       0.46191743, 0.47234267, 0.48264299, 0.49282573, 0.50291791,\n",
       "       0.51298678, 0.52297979, 0.53292713, 0.54280691, 0.55262299,\n",
       "       0.56236368, 0.57207144, 0.58170967, 0.59129897, 0.60084997,\n",
       "       0.61030235, 0.61968806, 0.629047  , 0.63831706, 0.64752123,\n",
       "       0.65668431, 0.66569363, 0.67458443, 0.68338083, 0.69213373,\n",
       "       0.70082971, 0.70936731, 0.71786653, 0.72631785, 0.73468696,\n",
       "       0.74300059, 0.75121012, 0.75935672, 0.76744388, 0.77546662,\n",
       "       0.78336137, 0.79115811, 0.79892052, 0.8065229 , 0.81412387,\n",
       "       0.82162002, 0.8290078 , 0.83634403, 0.84366116, 0.85091685,\n",
       "       0.85812032, 0.86527729, 0.87224619, 0.87904745, 0.88575132,\n",
       "       0.89243043, 0.89893498, 0.90531444, 0.91163972, 0.91780987,\n",
       "       0.92389757, 0.92990143, 0.93580148, 0.94160351, 0.94712464,\n",
       "       0.95249782, 0.95758152, 0.96259613, 0.96752584, 0.97220172,\n",
       "       0.97667305, 0.98093317, 0.98506919, 0.98886116, 0.99239084,\n",
       "       0.9954708 , 0.99704944, 0.99843965, 0.99953088, 1.        ,\n",
       "       1.        , 1.        , 1.        , 1.        , 1.        ,\n",
       "       1.        , 1.        ])"
      ]
     },
     "execution_count": 95,
     "metadata": {},
     "output_type": "execute_result"
    },
    {
     "data": {
      "image/png": "[encoded data removed]",
      "text/plain": [
       "<Figure size 432x288 with 1 Axes>"
      ]
     },
     "metadata": {
      "needs_background": "light"
     },
     "output_type": "display_data"
    }
   ],
   "source": [
    "from sklearn.decomposition import PCA\n",
    "from sklearn.discriminant_analysis import LinearDiscriminantAnalysis\n",
    "from sklearn.neighbors import (KNeighborsClassifier, NeighborhoodComponentsAnalysis)\n",
    "from sklearn.pipeline import make_pipeline\n",
    "from sklearn.preprocessing import StandardScaler\n",
    "import matplotlib.pyplot as plt\n",
    "\n",
    "\n",
    "#figure out how much dimension we need after pca\n",
    "pca = PCA(n_components=X_train.shape[1])\n",
    "pca_transform = pca.fit_transform(X_train,y_train)\n",
    "var_values = pca.explained_variance_ratio_\n",
    "\n",
    "\n",
    "cum_exp_variance = np.cumsum(var_values)\n",
    "plt.plot(cum_exp_variance)\n",
    "plt.xlabel('principal components of the data')\n",
    "plt.ylabel('fraction of variance explained')\n",
    "plt.title('PCA cumulative fraction of variance explained')\n",
    "\n",
    "cum_exp_variance"
   ]
  },
  {
   "cell_type": "markdown",
   "metadata": {},
   "source": [
    "#### Save it as csv "
   ]
  },
  {
   "cell_type": "code",
   "execution_count": 96,
   "metadata": {},
   "outputs": [],
   "source": [
    "df.to_csv('/Users/guanlxy/Documents/github/ids-705-final-project/data/processed/cleaned.csv')"
   ]
  },
  {
   "cell_type": "markdown",
   "metadata": {},
   "source": [
    "## Model"
   ]
  },
  {
   "cell_type": "code",
   "execution_count": 97,
   "metadata": {},
   "outputs": [],
   "source": [
    "from sklearn.metrics import mean_squared_error\n",
    "from sklearn.linear_model import LinearRegression\n",
    "from sklearn.ensemble import RandomForestRegressor\n",
    "from sklearn.neural_network import MLPRegressor\n"
   ]
  },
  {
   "cell_type": "markdown",
   "metadata": {},
   "source": [
    "## 1. Linear Regression"
   ]
  },
  {
   "cell_type": "code",
   "execution_count": null,
   "metadata": {},
   "outputs": [],
   "source": [
    "\n",
    "lr = LinearRegression()\n",
    "lr.fit(X_train, y_train)\n",
    "\n",
    "\n",
    "print('Train R^2', lr.score(X_train,y_train))\n",
    "print('Val R^2', lr.score(X_val,y_val))"
   ]
  },
  {
   "cell_type": "code",
   "execution_count": null,
   "metadata": {},
   "outputs": [],
   "source": [
    "mean_squared_error(y_train, lr.predict(X_train))"
   ]
  },
  {
   "cell_type": "code",
   "execution_count": null,
   "metadata": {},
   "outputs": [],
   "source": [
    "y_pred_lr = lr.predict(X_val)\n",
    "mean_squared_error(y_val, y_pred_lr)"
   ]
  },
  {
   "cell_type": "markdown",
   "metadata": {},
   "source": [
    "## 2. KNN"
   ]
  },
  {
   "cell_type": "code",
   "execution_count": 99,
   "metadata": {},
   "outputs": [],
   "source": [
    "# Reduce dimension to 2/5/15 with PCA\n",
    "pca_2 = make_pipeline(StandardScaler(), PCA(n_components=2, random_state=r_state))\n",
    "pca_15 = make_pipeline(StandardScaler(), PCA(n_components=15, random_state=r_state))\n",
    "pca_40 = make_pipeline(StandardScaler(), PCA(n_components=40, random_state=r_state))\n"
   ]
  },
  {
   "cell_type": "code",
   "execution_count": 100,
   "metadata": {},
   "outputs": [],
   "source": [
    "# Make a list of the methods to be compared\n",
    "dim_reduction_methods = [('PCA2', pca_2),('PCA15', pca_15),('PCA40', pca_40)]"
   ]
  },
  {
   "cell_type": "code",
   "execution_count": 105,
   "metadata": {},
   "outputs": [
    {
     "name": "stdout",
     "output_type": "stream",
     "text": [
      "PCA2, KNN (k=5)\n",
      "Test score = 0.18\n",
      "MSE: 0.4183084201265457\n",
      "KNN (PCA2) training time = 0.4421577453613281, prediction time =0.10977911949157715\n",
      "\n",
      "PCA15, KNN (k=5)\n",
      "Test score = 0.50\n",
      "MSE: 0.2531915153662074\n",
      "KNN (PCA15) training time = 0.5450291633605957, prediction time =16.891111850738525\n",
      "\n",
      "PCA40, KNN (k=5)\n",
      "Test score = 0.52\n",
      "MSE: 0.2457889309784781\n",
      "KNN (PCA40) training time = 0.7535438537597656, prediction time =28.84421396255493\n",
      "\n"
     ]
    }
   ],
   "source": [
    "from sklearn.metrics import mean_squared_error\n",
    "import time\n",
    "from sklearn.neighbors import KNeighborsRegressor\n",
    "n_neighbors=5\n",
    "knn = KNeighborsRegressor(n_neighbors=n_neighbors)\n",
    "\n",
    "for i, (name, model) in enumerate(dim_reduction_methods):\n",
    "    \n",
    "    #start timer\n",
    "    time0 = time.time()\n",
    "    # Fit the method's model\n",
    "    model.fit(X_train, y_train)\n",
    "\n",
    "    # Fit a nearest neighbor classifier on the embedded training set\n",
    "    knn.fit(model.transform(X_train), y_train)\n",
    "    #time for training\n",
    "    time1 = time.time()\n",
    "    \n",
    "    # Compute the nearest neighbor accuracy on the embedded test set\n",
    "    acc_knn = knn.score(model.transform(X_test), y_test)\n",
    "    mse = mean_squared_error(y_test, knn.predict(model.transform(X_test)))\n",
    "    #time for test\n",
    "    time2 = time.time()\n",
    "    \n",
    "    print(\"{}, KNN (k={})\\nTest score = {:.2f}\".format(name,n_neighbors,acc_knn))\n",
    "    print('MSE:',mse)\n",
    "    print('KNN ({}) training time = {}, prediction time ={}\\n'.format(name,time1-time0,time2-time1))"
   ]
  },
  {
   "cell_type": "code",
   "execution_count": 107,
   "metadata": {},
   "outputs": [
    {
     "name": "stdout",
     "output_type": "stream",
     "text": [
      "PCA15, KNN (k=1)\n",
      "Test score = 0.19\n",
      "MSE: 0.4117216918665421\n",
      "KNN (k=1) training time = 0.1585710048675537, prediction time =10.4082190990448\n",
      "\n",
      "PCA15, KNN (k=3)\n",
      "Test score = 0.46\n",
      "MSE: 0.2765138376601819\n",
      "KNN (k=3) training time = 0.10442185401916504, prediction time =14.683688879013062\n",
      "\n",
      "PCA15, KNN (k=5)\n",
      "Test score = 0.50\n",
      "MSE: 0.2531915153662074\n",
      "KNN (k=5) training time = 0.11755180358886719, prediction time =17.025432109832764\n",
      "\n",
      "PCA15, KNN (k=7)\n",
      "Test score = 0.52\n",
      "MSE: 0.24479799616536455\n",
      "KNN (k=7) training time = 0.1182401180267334, prediction time =18.76262879371643\n",
      "\n",
      "PCA15, KNN (k=9)\n",
      "Test score = 0.53\n",
      "MSE: 0.24065547188645608\n",
      "KNN (k=9) training time = 0.13667821884155273, prediction time =20.36148190498352\n",
      "\n"
     ]
    }
   ],
   "source": [
    "for i in (1,3,5,7,9):\n",
    "    knn = KNeighborsRegressor(n_neighbors=i)\n",
    "    #start timer\n",
    "    time0 = time.time()\n",
    "\n",
    "    # Fit a nearest neighbor classifier on the embedded training set\n",
    "    knn.fit(pca_15.transform(X_train), y_train)\n",
    "    #time for training\n",
    "    time1 = time.time()\n",
    "    \n",
    "    # Compute the nearest neighbor accuracy on the embedded test set\n",
    "    acc_knn = knn.score(pca_15.transform(X_test), y_test)\n",
    "    mse = mean_squared_error(y_test, knn.predict(pca_15.transform(X_test)))\n",
    "    #time for test\n",
    "    time2 = time.time()\n",
    "    \n",
    "    print(\"{}, KNN (k={})\\nTest score = {:.2f}\".format('PCA15',i,acc_knn))\n",
    "    print('MSE:',mse)\n",
    "    print('KNN (k={}) training time = {}, prediction time ={}\\n'.format(i,time1-time0,time2-time1))"
   ]
  },
  {
   "cell_type": "markdown",
   "metadata": {},
   "source": [
    "## 3. Random Forest"
   ]
  },
  {
   "cell_type": "code",
   "execution_count": null,
   "metadata": {},
   "outputs": [],
   "source": [
    "rf = RandomForestRegressor(max_depth=5)\n",
    "rf.fit(X_train, y_train)\n",
    "\n",
    "print('Train R^2', rf.score(X_train,y_train))\n",
    "print('Val R^2', rf.score(X_val,y_val))"
   ]
  },
  {
   "cell_type": "code",
   "execution_count": null,
   "metadata": {},
   "outputs": [],
   "source": [
    "mean_squared_error(y_train, rf.predict(X_train))"
   ]
  },
  {
   "cell_type": "code",
   "execution_count": null,
   "metadata": {},
   "outputs": [],
   "source": [
    "y_pred_rf = rf.predict(X_val)\n",
    "mean_squared_error(y_val, y_pred_rf)"
   ]
  },
  {
   "cell_type": "code",
   "execution_count": null,
   "metadata": {},
   "outputs": [],
   "source": [
    "\n",
    "nn = MLPRegressor(learning_rate_init=0.05)\n",
    "nn.fit(X_train, y_train)\n",
    "\n",
    "print('Train R^2', nn.score(X_train,y_train))\n",
    "print('Val R^2', nn.score(X_val,y_val))"
   ]
  },
  {
   "cell_type": "code",
   "execution_count": null,
   "metadata": {},
   "outputs": [],
   "source": [
    "mean_squared_error(y_train, nn.predict(X_train))\n"
   ]
  },
  {
   "cell_type": "code",
   "execution_count": null,
   "metadata": {},
   "outputs": [],
   "source": [
    "y_pred_nn = nn.predict(X_val)\n",
    "mean_squared_error(y_val, y_pred_nn)"
   ]
  },
  {
   "cell_type": "markdown",
   "metadata": {},
   "source": [
    "## 4. Neural Net"
   ]
  },
  {
   "cell_type": "code",
   "execution_count": null,
   "metadata": {},
   "outputs": [],
   "source": []
  },
  {
   "cell_type": "markdown",
   "metadata": {},
   "source": [
    "## 5. XGBoost"
   ]
  },
  {
   "cell_type": "code",
   "execution_count": null,
   "metadata": {},
   "outputs": [],
   "source": []
  },
  {
   "cell_type": "markdown",
   "metadata": {},
   "source": [
    "## 6. LightGBM"
   ]
  },
  {
   "cell_type": "code",
   "execution_count": null,
   "metadata": {},
   "outputs": [],
   "source": []
  }
 ],
 "metadata": {
  "kernelspec": {
   "display_name": "Python 3",
   "language": "python",
   "name": "python3"
  },
  "language_info": {
   "codemirror_mode": {
    "name": "ipython",
    "version": 3
   },
   "file_extension": ".py",
   "mimetype": "text/x-python",
   "name": "python",
   "nbconvert_exporter": "python",
   "pygments_lexer": "ipython3",
   "version": "3.8.3"
  },
  "toc": {
   "base_numbering": 1,
   "nav_menu": {},
   "number_sections": true,
   "sideBar": true,
   "skip_h1_title": false,
   "title_cell": "Table of Contents",
   "title_sidebar": "Contents",
   "toc_cell": false,
   "toc_position": {},
   "toc_section_display": true,
   "toc_window_display": false
  },
  "varInspector": {
   "cols": {
    "lenName": 16,
    "lenType": 16,
    "lenVar": 40
   },
   "kernels_config": {
    "python": {
     "delete_cmd_postfix": "",
     "delete_cmd_prefix": "del ",
     "library": "var_list.py",
     "varRefreshCmd": "print(var_dic_list())"
    },
    "r": {
     "delete_cmd_postfix": ") ",
     "delete_cmd_prefix": "rm(",
     "library": "var_list.r",
     "varRefreshCmd": "cat(var_dic_list()) "
    }
   },
   "oldHeight": 122,
   "position": {
    "height": "40px",
    "left": "1030px",
    "right": "20px",
    "top": "120px",
    "width": "250px"
   },
   "types_to_exclude": [
    "module",
    "function",
    "builtin_function_or_method",
    "instance",
    "_Feature"
   ],
   "varInspector_section_display": "none",
   "window_display": true
  }
 },
 "nbformat": 4,
 "nbformat_minor": 2
}
