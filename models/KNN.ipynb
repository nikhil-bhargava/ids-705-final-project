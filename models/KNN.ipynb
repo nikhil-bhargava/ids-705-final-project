{
 "cells": [
  {
   "cell_type": "code",
   "execution_count": 1,
   "metadata": {},
   "outputs": [],
   "source": [
    "import pandas as pd\n",
    "import numpy as np"
   ]
  },
  {
   "cell_type": "markdown",
   "metadata": {},
   "source": [
    "## Load Data"
   ]
  },
  {
   "cell_type": "code",
   "execution_count": 65,
   "metadata": {},
   "outputs": [],
   "source": [
    "#load data\n",
    "us_train = pd.read_csv('/Users/guanlxy/Documents/github/ids-705-final-project/data/processed/us-train.csv')\n",
    "us_val = pd.read_csv('/Users/guanlxy/Documents/github/ids-705-final-project/data/processed/us-val.csv')\n",
    "us_test = pd.read_csv('/Users/guanlxy/Documents/github/ids-705-final-project/data/processed/us-test.csv')\n",
    "\n",
    "london_test = pd.read_csv('/Users/guanlxy/Documents/github/ids-705-final-project/data/processed/london-test.csv')\n",
    "madrid_test = pd.read_csv('/Users/guanlxy/Documents/github/ids-705-final-project/data/processed/madrid-test.csv')\n",
    "paris_test = pd.read_csv('/Users/guanlxy/Documents/github/ids-705-final-project/data/processed/paris-test.csv')"
   ]
  },
  {
   "cell_type": "code",
   "execution_count": 66,
   "metadata": {},
   "outputs": [],
   "source": [
    "y_us_train = us_train.log_price\n",
    "y_us_val = us_val.log_price\n",
    "y_us_test = us_test.log_price\n",
    "\n",
    "y_london_test = london_test.log_price\n",
    "y_madrid_test = madrid_test.log_price\n",
    "y_paris_test = paris_test.log_price"
   ]
  },
  {
   "cell_type": "code",
   "execution_count": 67,
   "metadata": {},
   "outputs": [],
   "source": [
    "X_us_train = us_train.drop(columns=['log_price'])\n",
    "X_us_val = us_val.drop(columns=['log_price'])\n",
    "X_us_test = us_test.drop(columns=['log_price'])\n",
    "\n",
    "X_london_test = london_test.drop(columns=['log_price'])\n",
    "X_madrid_test = madrid_test.drop(columns=['log_price'])\n",
    "X_paris_test = paris_test.drop(columns=['log_price'])"
   ]
  },
  {
   "cell_type": "code",
   "execution_count": 68,
   "metadata": {},
   "outputs": [],
   "source": [
    "# create full train set (val + existing train)\n",
    "X = pd.concat([X_us_train, X_us_val]).reset_index(drop=True)\n",
    "y = pd.concat([y_us_train, y_us_val]).reset_index(drop=True)"
   ]
  },
  {
   "cell_type": "code",
   "execution_count": 96,
   "metadata": {},
   "outputs": [],
   "source": [
    "X_eur = pd.concat([X_london_test, X_paris_test, X_madrid_test]).reset_index(drop=True)\n",
    "y_eur = pd.concat([y_london_test, y_paris_test, y_madrid_test]).reset_index(drop=True)"
   ]
  },
  {
   "cell_type": "markdown",
   "metadata": {},
   "source": [
    "## Standardize data"
   ]
  },
  {
   "cell_type": "code",
   "execution_count": 69,
   "metadata": {},
   "outputs": [],
   "source": [
    "X_mean = X.mean()\n",
    "X_std = X.std()"
   ]
  },
  {
   "cell_type": "code",
   "execution_count": 70,
   "metadata": {},
   "outputs": [],
   "source": [
    "X_us_train = (X_us_train - X_mean) / X_std\n",
    "X_us_val = (X_us_val - X_mean) / X_std\n",
    "X_us_test = (X_us_test - X_mean) / X_std\n",
    "X = (X - X_mean) / X_std\n",
    "\n",
    "X_london_test = (X_london_test - X_mean) / X_std\n",
    "X_madrid_test = (X_madrid_test - X_mean) / X_std\n",
    "X_paris_test = (X_paris_test - X_mean) / X_std"
   ]
  },
  {
   "cell_type": "markdown",
   "metadata": {},
   "source": [
    "## PCA"
   ]
  },
  {
   "cell_type": "code",
   "execution_count": 15,
   "metadata": {},
   "outputs": [
    {
     "data": {
      "text/plain": [
       "array([0.05376836, 0.0962778 , 0.12795131, 0.15565539, 0.17992859,\n",
       "       0.19953286, 0.21652475, 0.23129406, 0.24572301, 0.25941669,\n",
       "       0.2721341 , 0.28467122, 0.29683117, 0.30856681, 0.32014572,\n",
       "       0.33151027, 0.34246716, 0.3532077 , 0.36366473, 0.37402051,\n",
       "       0.38428871, 0.39450053, 0.40448859, 0.41441442, 0.42425482,\n",
       "       0.43408558, 0.4438756 , 0.45365036, 0.46338789, 0.47310453,\n",
       "       0.48279428, 0.49246491, 0.50213012, 0.51178246, 0.52142757,\n",
       "       0.53106756, 0.54070016, 0.55033057, 0.55995598, 0.56957884,\n",
       "       0.57919864, 0.5888169 , 0.59843224, 0.60804676, 0.6176505 ,\n",
       "       0.62723466, 0.63681077, 0.64636386, 0.65587696, 0.66535122,\n",
       "       0.6747777 , 0.68409454, 0.69334832, 0.70257459, 0.7116386 ,\n",
       "       0.72063956, 0.72946075, 0.73818836, 0.74682534, 0.75512868,\n",
       "       0.76339738, 0.77161875, 0.77977441, 0.78787164, 0.79589059,\n",
       "       0.80383948, 0.81171716, 0.81957809, 0.82738962, 0.83513008,\n",
       "       0.84266671, 0.85004693, 0.85740155, 0.86460892, 0.87165895,\n",
       "       0.87868082, 0.88561681, 0.89233614, 0.89902852, 0.90541581,\n",
       "       0.91176812, 0.91807307, 0.92430667, 0.93035957, 0.93629645,\n",
       "       0.94204232, 0.94763362, 0.95291465, 0.95797938, 0.96296701,\n",
       "       0.96779314, 0.97239589, 0.97680696, 0.98099882, 0.98491415,\n",
       "       0.98876162, 0.99230995, 0.99538578, 0.99699439, 0.99842088,\n",
       "       0.99952518, 1.        , 1.        , 1.        ])"
      ]
     },
     "execution_count": 15,
     "metadata": {},
     "output_type": "execute_result"
    },
    {
     "data": {
      "image/png": "[encoded data removed]",
      "text/plain": [
       "<Figure size 432x288 with 1 Axes>"
      ]
     },
     "metadata": {
      "needs_background": "light"
     },
     "output_type": "display_data"
    }
   ],
   "source": [
    "from sklearn.decomposition import PCA\n",
    "from sklearn.discriminant_analysis import LinearDiscriminantAnalysis\n",
    "from sklearn.neighbors import (KNeighborsClassifier, NeighborhoodComponentsAnalysis)\n",
    "from sklearn.pipeline import make_pipeline\n",
    "from sklearn.preprocessing import StandardScaler\n",
    "import matplotlib.pyplot as plt\n",
    "\n",
    "\n",
    "#figure out how much dimension we need after pca\n",
    "pca = PCA(n_components=X.shape[1])\n",
    "pca_transform = pca.fit_transform(X,y)\n",
    "var_values = pca.explained_variance_ratio_\n",
    "\n",
    "\n",
    "cum_exp_variance = np.cumsum(var_values)\n",
    "plt.plot(cum_exp_variance)\n",
    "plt.xlabel('principal components of the data')\n",
    "plt.ylabel('fraction of variance explained')\n",
    "plt.title('PCA cumulative fraction of variance explained')\n",
    "\n",
    "cum_exp_variance"
   ]
  },
  {
   "cell_type": "markdown",
   "metadata": {},
   "source": [
    "## KNN"
   ]
  },
  {
   "cell_type": "code",
   "execution_count": 17,
   "metadata": {},
   "outputs": [],
   "source": [
    "# Reduce dimension to 2/5/15 with PCA\n",
    "r_state = 2021\n",
    "pca_2 = make_pipeline(StandardScaler(), PCA(n_components=2, random_state=r_state))\n",
    "pca_15 = make_pipeline(StandardScaler(), PCA(n_components=15, random_state=r_state))\n",
    "pca_40 = make_pipeline(StandardScaler(), PCA(n_components=40, random_state=r_state))"
   ]
  },
  {
   "cell_type": "code",
   "execution_count": 18,
   "metadata": {},
   "outputs": [],
   "source": [
    "# Make a list of the methods to be compared\n",
    "dim_reduction_methods = [('PCA2', pca_2),('PCA15', pca_15),('PCA40', pca_40)]"
   ]
  },
  {
   "cell_type": "code",
   "execution_count": 19,
   "metadata": {},
   "outputs": [],
   "source": [
    "from sklearn.metrics import mean_squared_error\n",
    "import time\n",
    "from sklearn.neighbors import KNeighborsRegressor\n",
    "from sklearn.metrics import mean_squared_error\n",
    "from sklearn.metrics import mean_absolute_error\n",
    "from sklearn.metrics import median_absolute_error"
   ]
  },
  {
   "cell_type": "markdown",
   "metadata": {},
   "source": [
    "### Tune PCA"
   ]
  },
  {
   "cell_type": "code",
   "execution_count": 20,
   "metadata": {},
   "outputs": [
    {
     "name": "stdout",
     "output_type": "stream",
     "text": [
      "PCA2, KNN (k=5)\n",
      "Test score = 0.19\n",
      "RMSE (on normal price): 149.21873700288302\n",
      "Mean Absolute Error: 79.3323267712331\n",
      "Median Absolute Error: 45.14935161962667\n",
      "KNN (PCA2) training time = 0.44417881965637207, prediction time =0.14484095573425293\n",
      "\n",
      "PCA15, KNN (k=5)\n",
      "Test score = 0.54\n",
      "RMSE (on normal price): 130.81557404431334\n",
      "Mean Absolute Error: 62.70393269655483\n",
      "Median Absolute Error: 30.417267982624615\n",
      "KNN (PCA15) training time = 0.47139406204223633, prediction time =17.578701972961426\n",
      "\n",
      "PCA40, KNN (k=5)\n",
      "Test score = 0.53\n",
      "RMSE (on normal price): 130.63816330966847\n",
      "Mean Absolute Error: 62.83633631617739\n",
      "Median Absolute Error: 30.59135462375212\n",
      "KNN (PCA40) training time = 0.5809359550476074, prediction time =27.01469588279724\n",
      "\n"
     ]
    }
   ],
   "source": [
    "n_neighbors=5\n",
    "knn = KNeighborsRegressor(n_neighbors=n_neighbors)\n",
    "\n",
    "for i, (name, model) in enumerate(dim_reduction_methods):\n",
    "    \n",
    "    #start timer\n",
    "    time0 = time.time()\n",
    "    # Fit the method's model\n",
    "    model.fit(X_us_train, y_us_train)\n",
    "\n",
    "    # Fit a nearest neighbor classifier on the embedded training set\n",
    "    knn.fit(model.transform(X_us_train), y_us_train)\n",
    "    #time for training\n",
    "    time1 = time.time()\n",
    "    \n",
    "    # Compute the nearest neighbor accuracy on the embedded test set\n",
    "    acc_knn = knn.score(model.transform(X_us_val), y_us_val)\n",
    "    y_knn = knn.predict(model.transform(X_us_val))\n",
    "    \n",
    "    #time for test\n",
    "    time2 = time.time()\n",
    "    \n",
    "    rmse = mean_squared_error(np.exp(y_us_val), np.exp(y_knn), squared=False)\n",
    "    mae = mean_absolute_error(np.exp(y_us_val), np.exp(y_knn))\n",
    "    medae = median_absolute_error(np.exp(y_us_val), np.exp(y_knn))\n",
    "    \n",
    "    \n",
    "    print(\"{}, KNN (k={})\\nTest score = {:.2f}\".format(name,n_neighbors,acc_knn))\n",
    "    print('RMSE (on normal price):',rmse)\n",
    "    print('Mean Absolute Error:', mae)\n",
    "    print('Median Absolute Error:', medae)\n",
    "    print('KNN ({}) training time = {}, prediction time ={}\\n'.format(name,time1-time0,time2-time1))"
   ]
  },
  {
   "cell_type": "markdown",
   "metadata": {},
   "source": [
    "### Tune N_neighbors"
   ]
  },
  {
   "cell_type": "code",
   "execution_count": 23,
   "metadata": {},
   "outputs": [
    {
     "name": "stdout",
     "output_type": "stream",
     "text": [
      "KNN(pca_15) (k=2)\n",
      "Test score = 0.44\n",
      "RMSE (on normal price): 139.7628557501551\n",
      "Mean Absolute Error: 69.55451067340087\n",
      "Median Absolute Error: 33.85726574839079\n",
      "KNN (PCA40) training time = 0.08926796913146973, prediction time =13.189510107040405\n",
      "\n",
      "KNN(pca_15) (k=3)\n",
      "Test score = 0.50\n",
      "RMSE (on normal price): 133.82604971951554\n",
      "Mean Absolute Error: 65.49015823224227\n",
      "Median Absolute Error: 31.546097207204134\n",
      "KNN (PCA40) training time = 0.11153769493103027, prediction time =15.247225284576416\n",
      "\n",
      "KNN(pca_15) (k=5)\n",
      "Test score = 0.54\n",
      "RMSE (on normal price): 130.81557404431334\n",
      "Mean Absolute Error: 62.70393269655483\n",
      "Median Absolute Error: 30.417267982624615\n",
      "KNN (PCA40) training time = 0.09190487861633301, prediction time =16.511346101760864\n",
      "\n",
      "KNN(pca_15) (k=7)\n",
      "Test score = 0.56\n",
      "RMSE (on normal price): 129.6277843479507\n",
      "Mean Absolute Error: 61.53467192528808\n",
      "Median Absolute Error: 29.94332369502944\n",
      "KNN (PCA40) training time = 0.09988188743591309, prediction time =18.318329095840454\n",
      "\n",
      "KNN(pca_15) (k=9)\n",
      "Test score = 0.56\n",
      "RMSE (on normal price): 129.30376437375972\n",
      "Mean Absolute Error: 60.86001682471379\n",
      "Median Absolute Error: 29.383224920054708\n",
      "KNN (PCA40) training time = 0.09930181503295898, prediction time =18.850468158721924\n",
      "\n"
     ]
    }
   ],
   "source": [
    "for i in (2,3,5,7,9):\n",
    "    knn = KNeighborsRegressor(n_neighbors=i)\n",
    "    #start timer\n",
    "    time0 = time.time()\n",
    "   \n",
    "    # Fit a nearest neighbor classifier on the embedded training set\n",
    "    knn.fit(pca_15.transform(X_us_train), y_us_train)\n",
    "    #time for training\n",
    "    time1 = time.time()\n",
    "    \n",
    "    # Compute the nearest neighbor accuracy on the embedded test set\n",
    "    acc_knn = knn.score(pca_15.transform(X_us_val), y_us_val)\n",
    "    y_knn = knn.predict(pca_15.transform(X_us_val))\n",
    "    \n",
    "    #time for test\n",
    "    time2 = time.time()\n",
    "    \n",
    "    rmse = mean_squared_error(np.exp(y_us_val), np.exp(y_knn), squared=False)\n",
    "    mae = mean_absolute_error(np.exp(y_us_val), np.exp(y_knn))\n",
    "    medae = median_absolute_error(np.exp(y_us_val), np.exp(y_knn))\n",
    "    \n",
    "    \n",
    "    print(\"KNN(PCA_15) (k={})\\nTest score = {:.2f}\".format(i,acc_knn))\n",
    "    print('RMSE (on normal price):',rmse)\n",
    "    print('Mean Absolute Error:', mae)\n",
    "    print('Median Absolute Error:', medae)\n",
    "    print('KNN (PCA_15) training time = {}, prediction time ={}\\n'.format(time1-time0,time2-time1))"
   ]
  },
  {
   "cell_type": "markdown",
   "metadata": {},
   "source": [
    "### Train Ultimate model"
   ]
  },
  {
   "cell_type": "code",
   "execution_count": 64,
   "metadata": {},
   "outputs": [],
   "source": [
    "from sklearn.metrics import r2_score"
   ]
  },
  {
   "cell_type": "code",
   "execution_count": 90,
   "metadata": {},
   "outputs": [
    {
     "name": "stdout",
     "output_type": "stream",
     "text": [
      "Result KNN for US training data\n",
      "KNN(PCA_15) (k=7)\n",
      " R^2 = 0.67\n",
      "RMSE (on normal price): 117.04366380923268\n",
      "Mean Absolute Error: 53.55660347361538\n",
      "Median Absolute Error: 25.135987268926627\n",
      "KNN (PCA_15) (k=7) training time = 0.15, prediction time =43.40\n",
      "\n"
     ]
    }
   ],
   "source": [
    "knn_ult = KNeighborsRegressor(n_neighbors=7)\n",
    "#start timer\n",
    "time0 = time.time()\n",
    "\n",
    "# Fit a nearest neighbor classifier on the embedded training set\n",
    "knn_ult.fit(pca_15.transform(X), y)\n",
    "#time for training\n",
    "time1 = time.time()\n",
    "\n",
    "# Compute the nearest neighbor accuracy on the embedded test set\n",
    "y_knn_ult = knn_ult.predict(pca_15.transform(X))\n",
    "r2 = r2_score(y, y_knn_ult)\n",
    "\n",
    "\n",
    "#time for test\n",
    "time2 = time.time()\n",
    "\n",
    "rmse_ult = mean_squared_error(np.exp(y), np.exp(y_knn_ult), squared=False)\n",
    "mae_ult = mean_absolute_error(np.exp(y), np.exp(y_knn_ult))\n",
    "medae_ult = median_absolute_error(np.exp(y), np.exp(y_knn_ult))\n",
    "\n",
    "print('Result KNN for US training data')\n",
    "print(\"KNN(PCA_15) (k=7)\\n R^2 = {:.2f}\".format(r2))\n",
    "print('RMSE (on normal price):',rmse_ult)\n",
    "print('Mean Absolute Error:', mae_ult)\n",
    "print('Median Absolute Error:', medae_ult)\n",
    "print('KNN (PCA_15) (k=7) training time = {:.2f}, prediction time ={:.2f}\\n'.format(time1-time0,time2-time1))"
   ]
  },
  {
   "cell_type": "code",
   "execution_count": 91,
   "metadata": {},
   "outputs": [
    {
     "name": "stdout",
     "output_type": "stream",
     "text": [
      "US test result\n",
      "KNN(PCA_15) (k=7)\n",
      " R^2 = 0.56\n",
      "RMSE (on normal price): 130.1390369987165\n",
      "Mean Absolute Error: 60.99179976894337\n",
      "Median Absolute Error: 29.159198766252985\n",
      "KNN (PCA_15) (k=7) training time = 0.16, prediction time =11.11\n",
      "\n"
     ]
    }
   ],
   "source": [
    "knn_ult = KNeighborsRegressor(n_neighbors=7)\n",
    "#start timer\n",
    "time0 = time.time()\n",
    "\n",
    "# Fit a nearest neighbor classifier on the embedded training set\n",
    "knn_ult.fit(pca_15.transform(X), y)\n",
    "#time for training\n",
    "time1 = time.time()\n",
    "\n",
    "# Compute the nearest neighbor accuracy on the embedded test set\n",
    "y_knn_ult = knn_ult.predict(pca_15.transform(X_us_test))\n",
    "r2 = r2_score(y_us_test, y_knn_ult)\n",
    "\n",
    "#time for test\n",
    "time2 = time.time()\n",
    "\n",
    "rmse_ult = mean_squared_error(np.exp(y_us_test), np.exp(y_knn_ult), squared=False)\n",
    "mae_ult = mean_absolute_error(np.exp(y_us_test), np.exp(y_knn_ult))\n",
    "medae_ult = median_absolute_error(np.exp(y_us_test), np.exp(y_knn_ult))\n",
    "\n",
    "print('US test result')\n",
    "print(\"KNN(PCA_15) (k=7)\\n R^2 = {:.2f}\".format(r2))\n",
    "print('RMSE (on normal price):',rmse_ult)\n",
    "print('Mean Absolute Error:', mae_ult)\n",
    "print('Median Absolute Error:', medae_ult)\n",
    "print('KNN (PCA_15) (k=7) training time = {:.2f}, prediction time ={:.2f}\\n'.format(time1-time0,time2-time1))"
   ]
  },
  {
   "cell_type": "code",
   "execution_count": 50,
   "metadata": {},
   "outputs": [],
   "source": [
    "# london_col = 100/95\n",
    "# y_london_test = np.log(np.exp(y_london_test) * london_col)"
   ]
  },
  {
   "cell_type": "code",
   "execution_count": 89,
   "metadata": {},
   "outputs": [
    {
     "name": "stdout",
     "output_type": "stream",
     "text": [
      "result for London\n",
      "KNN(PCA_15) (k=7)\n",
      " R^2 = 0.34\n",
      "RMSE (on normal price): 309.4809399147203\n",
      "Mean Absolute Error: 59.01328892644298\n",
      "Median Absolute Error: 27.48149018268311\n",
      "KNN (PCA_15) (k=7) London prediction time =59.91\n",
      "\n"
     ]
    }
   ],
   "source": [
    "knn_ult = KNeighborsRegressor(n_neighbors=5)\n",
    "\n",
    "#start timer\n",
    "time0 = time.time()\n",
    "\n",
    "# Fit a nearest neighbor classifier on the embedded training set\n",
    "knn_ult.fit(pca_15.transform(X), y)\n",
    "#time for training\n",
    "time1 = time.time()\n",
    "\n",
    "london_col = 100/95\n",
    "# Compute the nearest neighbor accuracy on the embedded test set\n",
    "y_knn_ult = knn_ult.predict(pca_15.transform(X_london_test))\n",
    "y_adjusted = np.log(np.exp(y_knn_ult / london_col))\n",
    "r2 = r2_score(y_london_test, y_adjusted)\n",
    "\n",
    "#time for test\n",
    "time2 = time.time()\n",
    "\n",
    "rmse_ult = mean_squared_error(np.exp(y_london_test), np.exp(y_adjusted), squared=False)\n",
    "mae_ult = mean_absolute_error(np.exp(y_london_test), np.exp(y_adjusted))\n",
    "medae_ult = median_absolute_error(np.exp(y_london_test), np.exp(y_adjusted))\n",
    "\n",
    "print('result for London')\n",
    "print(\"KNN(PCA_15) (k=7)\\n R^2 = {:.2f}\".format(r2))\n",
    "print('RMSE (on normal price):',rmse_ult)\n",
    "print('Mean Absolute Error:', mae_ult)\n",
    "print('Median Absolute Error:', medae_ult)\n",
    "print('KNN (PCA_15) (k=7) London prediction time ={:.2f}\\n'.format(time2-time1))"
   ]
  },
  {
   "cell_type": "code",
   "execution_count": 60,
   "metadata": {},
   "outputs": [],
   "source": [
    "# paris_col = 100/89.3\n",
    "# y_paris_test = np.log(np.exp(y_paris_test) * paris_col)"
   ]
  },
  {
   "cell_type": "code",
   "execution_count": 87,
   "metadata": {},
   "outputs": [
    {
     "name": "stdout",
     "output_type": "stream",
     "text": [
      "result for Paris\n",
      "KNN(PCA_15) (k=7)\n",
      "Test score = 0.07\n",
      "RMSE (on normal price): 214.02423744344605\n",
      "Mean Absolute Error: 54.319643518359754\n",
      "Median Absolute Error: 24.08006118531721\n",
      "KNN (PCA_15) (k=7) London prediction time =56.10\n",
      "\n"
     ]
    }
   ],
   "source": [
    "knn_ult = KNeighborsRegressor(n_neighbors=7)\n",
    "\n",
    "#start timer\n",
    "time0 = time.time()\n",
    "\n",
    "# Fit a nearest neighbor classifier on the embedded training set\n",
    "knn_ult.fit(pca_15.transform(X), y)\n",
    "#time for training\n",
    "time1 = time.time()\n",
    "\n",
    "paris_col = 100/89.3\n",
    "# Compute the nearest neighbor accuracy on the embedded test set\n",
    "y_knn_ult = knn_ult.predict(pca_15.transform(X_paris_test))\n",
    "y_adjusted = np.log(np.exp(y_knn_ult / paris_col))\n",
    "r2 = r2_score(y_paris_test, y_adjusted)\n",
    "\n",
    "#time for test\n",
    "time2 = time.time()\n",
    "\n",
    "rmse_ult = mean_squared_error(np.exp(y_paris_test), np.exp(y_adjusted), squared=False)\n",
    "mae_ult = mean_absolute_error(np.exp(y_paris_test), np.exp(y_adjusted))\n",
    "medae_ult = median_absolute_error(np.exp(y_paris_test), np.exp(y_adjusted))\n",
    "\n",
    "print('result for Paris')\n",
    "print(\"KNN(PCA_15) (k=7)\\nTest score = {:.2f}\".format(r2))\n",
    "print('RMSE (on normal price):',rmse_ult)\n",
    "print('Mean Absolute Error:', mae_ult)\n",
    "print('Median Absolute Error:', medae_ult)\n",
    "print('KNN (PCA_15) (k=7) Paris prediction time ={:.2f}\\n'.format(time2-time1))"
   ]
  },
  {
   "cell_type": "code",
   "execution_count": 62,
   "metadata": {},
   "outputs": [],
   "source": [
    "# madrid_col = 100/75.8\n",
    "# y_madrid_test = np.log(np.exp(y_madrid_test) * madrid_col)"
   ]
  },
  {
   "cell_type": "code",
   "execution_count": 99,
   "metadata": {},
   "outputs": [
    {
     "name": "stdout",
     "output_type": "stream",
     "text": [
      "result for Madrid\n",
      "KNN(PCA_15) (k=7)\n",
      "Test score = -0.03\n",
      "RMSE (on normal price): 463.11316782240453\n",
      "Mean Absolute Error: 91.56897158940684\n",
      "Median Absolute Error: 19.083233653068262\n",
      "KNN (PCA_15) (k=7) Madrid prediction time =16.70\n",
      "\n"
     ]
    }
   ],
   "source": [
    "knn_ult = KNeighborsRegressor(n_neighbors=7)\n",
    "\n",
    "#start timer\n",
    "time0 = time.time()\n",
    "\n",
    "madrid_col = 100/75.8\n",
    "# Fit a nearest neighbor classifier on the embedded training set\n",
    "knn_ult.fit(pca_15.transform(X), y)\n",
    "#time for training\n",
    "time1 = time.time()\n",
    "\n",
    "# Compute the nearest neighbor accuracy on the embedded test set\n",
    "y_knn_ult = knn_ult.predict(pca_15.transform(X_madrid_test))\n",
    "y_adjusted = np.log(np.exp(y_knn_ult / madrid_col))\n",
    "r2 = r2_score(np.exp(y_madrid_test), np.exp(y_adjusted))\n",
    "\n",
    "#time for test\n",
    "time2 = time.time()\n",
    "\n",
    "rmse_ult = mean_squared_error(np.exp(y_madrid_test), np.exp(y_adjusted), squared=False)\n",
    "mae_ult = mean_absolute_error(np.exp(y_madrid_test), np.exp(y_adjusted))\n",
    "medae_ult = median_absolute_error(np.exp(y_madrid_test), np.exp(y_adjusted))\n",
    "\n",
    "print('result for Madrid')\n",
    "print(\"KNN(PCA_15) (k=7)\\nTest score = {:.2f}\".format(r2))\n",
    "print('RMSE (on normal price):',rmse_ult)\n",
    "print('Mean Absolute Error:', mae_ult)\n",
    "print('Median Absolute Error:', medae_ult)\n",
    "print('KNN (PCA_15) (k=7) Madrid prediction time ={:.2f}\\n'.format(time2-time1))"
   ]
  },
  {
   "cell_type": "code",
   "execution_count": 82,
   "metadata": {},
   "outputs": [
    {
     "data": {
      "image/png": "[encoded data removed]",
      "text/plain": [
       "<Figure size 432x288 with 1 Axes>"
      ]
     },
     "metadata": {
      "needs_background": "light"
     },
     "output_type": "display_data"
    }
   ],
   "source": [
    "plt.hist(np.exp(y_madrid_test), bins=30, label='Madrid Actual', color='orange', alpha = 0.5)\n",
    "plt.hist(np.exp(y_knn_ult), bins=30, label='Madrid Predictions', color='green',alpha = 0.5)\n",
    "plt.hist(np.exp(y_adjusted), bins=30, label='Madrid Predictions Adjusted', color='blue',alpha = 0.5)\n",
    "# plt.hist(y, bins=30, label='Training Data USA', color='blue', alpha = 0.5)\n",
    "plt.title('Distribution of predictions versus actual')\n",
    "plt.ylabel('Number of observations')\n",
    "plt.xlabel('Log Price')\n",
    "plt.legend()\n",
    "plt.show()"
   ]
  },
  {
   "cell_type": "code",
   "execution_count": 93,
   "metadata": {},
   "outputs": [],
   "source": [
    "eur_col = (y_paris_test.shape[0]*paris_col + y_madrid_test.shape[0]*madrid_col + \n",
    " y_london_test.shape[0]*london_col)/(y_paris_test.shape[0] + y_madrid_test.shape[0] + y_london_test.shape[0])"
   ]
  },
  {
   "cell_type": "code",
   "execution_count": 100,
   "metadata": {},
   "outputs": [
    {
     "name": "stdout",
     "output_type": "stream",
     "text": [
      "Result for Europe\n",
      "KNN(PCA_15) (k=7)\n",
      "Test score = 0.24\n",
      "RMSE (on normal price): 300.74600768832147\n",
      "Mean Absolute Error: 61.000456468750286\n",
      "Median Absolute Error: 24.11051375848767\n",
      "KNN (PCA_15) (k=7) Europe prediction time =138.82\n",
      "\n"
     ]
    }
   ],
   "source": [
    "knn_ult = KNeighborsRegressor(n_neighbors=7)\n",
    "\n",
    "#start timer\n",
    "time0 = time.time()\n",
    "\n",
    "\n",
    "# Fit a nearest neighbor classifier on the embedded training set\n",
    "knn_ult.fit(pca_15.transform(X), y)\n",
    "#time for training\n",
    "time1 = time.time()\n",
    "\n",
    "# Compute the nearest neighbor accuracy on the embedded test set\n",
    "y_knn_ult = knn_ult.predict(pca_15.transform(X_eur))\n",
    "y_adjusted = np.log(np.exp(y_knn_ult / eur_col))\n",
    "r2 = r2_score(y_eur, y_adjusted)\n",
    "\n",
    "#time for test\n",
    "time2 = time.time()\n",
    "\n",
    "rmse_ult = mean_squared_error(np.exp(y_eur), np.exp(y_adjusted), squared=False)\n",
    "mae_ult = mean_absolute_error(np.exp(y_eur), np.exp(y_adjusted))\n",
    "medae_ult = median_absolute_error(np.exp(y_eur), np.exp(y_adjusted))\n",
    "\n",
    "print('Result for Europe')\n",
    "print(\"KNN(PCA_15) (k=7)\\nTest score = {:.2f}\".format(r2))\n",
    "print('RMSE (on normal price):',rmse_ult)\n",
    "print('Mean Absolute Error:', mae_ult)\n",
    "print('Median Absolute Error:', medae_ult)\n",
    "print('KNN (PCA_15) (k=7) Europe prediction time ={:.2f}\\n'.format(time2-time1))"
   ]
  },
  {
   "cell_type": "code",
   "execution_count": null,
   "metadata": {},
   "outputs": [],
   "source": []
  },
  {
   "cell_type": "code",
   "execution_count": null,
   "metadata": {},
   "outputs": [],
   "source": []
  },
  {
   "cell_type": "code",
   "execution_count": null,
   "metadata": {},
   "outputs": [],
   "source": []
  }
 ],
 "metadata": {
  "kernelspec": {
   "display_name": "Python 3",
   "language": "python",
   "name": "python3"
  },
  "language_info": {
   "codemirror_mode": {
    "name": "ipython",
    "version": 3
   },
   "file_extension": ".py",
   "mimetype": "text/x-python",
   "name": "python",
   "nbconvert_exporter": "python",
   "pygments_lexer": "ipython3",
   "version": "3.8.8"
  },
  "toc": {
   "base_numbering": 1,
   "nav_menu": {},
   "number_sections": true,
   "sideBar": true,
   "skip_h1_title": false,
   "title_cell": "Table of Contents",
   "title_sidebar": "Contents",
   "toc_cell": false,
   "toc_position": {},
   "toc_section_display": true,
   "toc_window_display": false
  },
  "varInspector": {
   "cols": {
    "lenName": 16,
    "lenType": 16,
    "lenVar": 40
   },
   "kernels_config": {
    "python": {
     "delete_cmd_postfix": "",
     "delete_cmd_prefix": "del ",
     "library": "var_list.py",
     "varRefreshCmd": "print(var_dic_list())"
    },
    "r": {
     "delete_cmd_postfix": ") ",
     "delete_cmd_prefix": "rm(",
     "library": "var_list.r",
     "varRefreshCmd": "cat(var_dic_list()) "
    }
   },
   "oldHeight": 122,
   "position": {
    "height": "40px",
    "left": "1003px",
    "right": "20px",
    "top": "120px",
    "width": "250px"
   },
   "types_to_exclude": [
    "module",
    "function",
    "builtin_function_or_method",
    "instance",
    "_Feature"
   ],
   "varInspector_section_display": "none",
   "window_display": true
  }
 },
 "nbformat": 4,
 "nbformat_minor": 4
}
