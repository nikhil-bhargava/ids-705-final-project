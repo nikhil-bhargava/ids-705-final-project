{
 "cells": [
  {
   "cell_type": "code",
   "execution_count": 191,
   "id": "fleet-arkansas",
   "metadata": {},
   "outputs": [],
   "source": [
    "import pandas as pd\n",
    "import numpy as np\n",
    "pd.set_option('max.rows',200)\n",
    "import time"
   ]
  },
  {
   "cell_type": "markdown",
   "id": "bulgarian-riding",
   "metadata": {},
   "source": [
    "## Train & Evaluate Model in US"
   ]
  },
  {
   "cell_type": "markdown",
   "id": "recorded-satin",
   "metadata": {},
   "source": [
    "### Load data"
   ]
  },
  {
   "cell_type": "code",
   "execution_count": 192,
   "id": "noble-direction",
   "metadata": {},
   "outputs": [],
   "source": [
    "train = pd.read_csv('../data/processed/us-train.csv')\n",
    "val = pd.read_csv('../data/processed/us-val.csv')\n",
    "us = pd.read_csv('../data/processed/us-test.csv')"
   ]
  },
  {
   "cell_type": "code",
   "execution_count": 193,
   "id": "solved-providence",
   "metadata": {},
   "outputs": [],
   "source": [
    "y_train = train.log_price\n",
    "y_val = val.log_price"
   ]
  },
  {
   "cell_type": "code",
   "execution_count": 194,
   "id": "similar-standing",
   "metadata": {},
   "outputs": [],
   "source": [
    "X_train = train.drop(columns=['log_price'])\n",
    "X_val = val.drop(columns=['log_price'])"
   ]
  },
  {
   "cell_type": "code",
   "execution_count": 195,
   "id": "recognized-schedule",
   "metadata": {},
   "outputs": [],
   "source": [
    "X_train_mean = X_train.copy().mean()\n",
    "X_train_stdev = X_train.copy().std()\n",
    "\n",
    "# standardize data\n",
    "X_train = (X_train - X_train_mean)/X_train_stdev\n",
    "X_val = (X_val - X_train_mean)/X_train_stdev"
   ]
  },
  {
   "cell_type": "code",
   "execution_count": 196,
   "id": "proud-warren",
   "metadata": {},
   "outputs": [],
   "source": [
    "X_train.fillna(0, inplace=True)\n",
    "X_train.replace([np.inf, -np.inf], 0, inplace=True)\n",
    "X_val.fillna(0, inplace=True)\n",
    "X_val.replace([np.inf, -np.inf], 0, inplace=True)"
   ]
  },
  {
   "cell_type": "markdown",
   "id": "blessed-group",
   "metadata": {},
   "source": [
    "### Train Random Forest"
   ]
  },
  {
   "cell_type": "markdown",
   "id": "architectural-undergraduate",
   "metadata": {},
   "source": [
    "### Default Parameters"
   ]
  },
  {
   "cell_type": "code",
   "execution_count": 159,
   "id": "reliable-sympathy",
   "metadata": {},
   "outputs": [],
   "source": [
    "from sklearn.ensemble import RandomForestRegressor\n",
    "from sklearn.metrics import mean_squared_error\n",
    "from sklearn.metrics import mean_absolute_error\n",
    "from sklearn.metrics import median_absolute_error"
   ]
  },
  {
   "cell_type": "code",
   "execution_count": 152,
   "id": "explicit-retail",
   "metadata": {},
   "outputs": [],
   "source": [
    "rf = RandomForestRegressor().fit(X_train, y_train)"
   ]
  },
  {
   "cell_type": "code",
   "execution_count": 153,
   "id": "center-apparatus",
   "metadata": {},
   "outputs": [],
   "source": [
    "y_pred_train = rf.predict(X_train)\n",
    "y_pred = rf.predict(X_val)\n",
    "\n",
    "acc_train = rf.score(X_train, y_train)\n",
    "acc = rf.score(X_val, y_val)\n",
    "\n",
    "rmse_train = mean_squared_error(np.exp(y_train), np.exp(y_pred_train), squared=False)\n",
    "rmse = mean_squared_error(np.exp(y_val), np.exp(y_pred), squared=False)\n",
    "\n",
    "mae_train = mean_absolute_error(np.exp(y_train), np.exp(y_pred_train))\n",
    "mae = mean_absolute_error(np.exp(y_val), np.exp(y_pred))\n",
    "\n",
    "medae_train = median_absolute_error(np.exp(y_train), np.exp(y_pred_train))\n",
    "medae = median_absolute_error(np.exp(y_val), np.exp(y_pred))"
   ]
  },
  {
   "cell_type": "code",
   "execution_count": 154,
   "id": "rubber-karen",
   "metadata": {},
   "outputs": [
    {
     "name": "stdout",
     "output_type": "stream",
     "text": [
      "R^2 (Train): 0.95\n",
      "R^2 (Val): 0.68\n",
      "\n",
      "RMSE (Train): 58.55\n",
      "RMSE (Val): 116.02\n",
      "\n",
      "Mean Abs Error (Train): 21.58\n",
      "Mean Abs Error (Val): 51.73\n",
      "\n",
      "Median Absolute Error (Train): 8.49\n",
      "Median Absolute Error (Val): 23.77\n"
     ]
    }
   ],
   "source": [
    "print('R^2 (Train):', round(acc_train,2)) \n",
    "print('R^2 (Val):', round(acc,2))\n",
    "print('')\n",
    "print('RMSE (Train):', round(rmse_train,2))\n",
    "print('RMSE (Val):', round(rmse,2))\n",
    "print('')\n",
    "print('Mean Abs Error (Train):', round(mae_train,2))\n",
    "print('Mean Abs Error (Val):', round(mae,2))\n",
    "print('')\n",
    "print('Median Absolute Error (Train):', round(medae_train,2))\n",
    "print('Median Absolute Error (Val):', round(medae,2))"
   ]
  },
  {
   "cell_type": "markdown",
   "id": "suffering-thermal",
   "metadata": {},
   "source": [
    "### Random Search Parameters"
   ]
  },
  {
   "cell_type": "code",
   "execution_count": 9,
   "id": "british-length",
   "metadata": {},
   "outputs": [],
   "source": [
    "from sklearn.model_selection import RandomizedSearchCV"
   ]
  },
  {
   "cell_type": "code",
   "execution_count": 10,
   "id": "certified-department",
   "metadata": {},
   "outputs": [],
   "source": [
    "# rf parameters input into random search\n",
    "n_estimators = [int(x) for x in np.linspace(200, 2000, 10)]\n",
    "max_features = ['auto', 'sqrt']\n",
    "max_depth = [int(x) for x in np.linspace(10, 110, 11)]\n",
    "max_depth.append(None)\n",
    "min_samples_split = [2, 5, 10]\n",
    "min_samples_leaf = [1, 2, 4]\n",
    "bootstrap = [True, False]\n",
    "\n",
    "# produce random grid\n",
    "random_grid = {'n_estimators': n_estimators,\n",
    "               'max_features': max_features,\n",
    "               'max_depth': max_depth,\n",
    "               'min_samples_split': min_samples_split,\n",
    "               'min_samples_leaf': min_samples_leaf,\n",
    "               'bootstrap': bootstrap}"
   ]
  },
  {
   "cell_type": "code",
   "execution_count": 11,
   "id": "european-sessions",
   "metadata": {},
   "outputs": [],
   "source": [
    "# random search best hyper parameters of model\n",
    "rf_r = RandomForestRegressor()\n",
    "rf_random = RandomizedSearchCV(estimator = rf_r, param_distributions = random_grid, n_iter = 20, cv = 5, \n",
    "                               verbose=2, random_state=0, n_jobs = -1)"
   ]
  },
  {
   "cell_type": "code",
   "execution_count": 12,
   "id": "fallen-comment",
   "metadata": {},
   "outputs": [
    {
     "name": "stdout",
     "output_type": "stream",
     "text": [
      "Fitting 5 folds for each of 20 candidates, totalling 100 fits\n"
     ]
    },
    {
     "name": "stderr",
     "output_type": "stream",
     "text": [
      "[Parallel(n_jobs=-1)]: Using backend LokyBackend with 4 concurrent workers.\n",
      "[Parallel(n_jobs=-1)]: Done  33 tasks      | elapsed: 122.3min\n",
      "[Parallel(n_jobs=-1)]: Done 100 out of 100 | elapsed: 323.1min finished\n"
     ]
    },
    {
     "data": {
      "text/plain": [
       "RandomizedSearchCV(cv=5, estimator=RandomForestRegressor(), n_iter=20,\n",
       "                   n_jobs=-1,\n",
       "                   param_distributions={'bootstrap': [True, False],\n",
       "                                        'max_depth': [10, 20, 30, 40, 50, 60,\n",
       "                                                      70, 80, 90, 100, 110,\n",
       "                                                      None],\n",
       "                                        'max_features': ['auto', 'sqrt'],\n",
       "                                        'min_samples_leaf': [1, 2, 4],\n",
       "                                        'min_samples_split': [2, 5, 10],\n",
       "                                        'n_estimators': [200, 400, 600, 800,\n",
       "                                                         1000, 1200, 1400, 1600,\n",
       "                                                         1800, 2000]},\n",
       "                   random_state=0, verbose=2)"
      ]
     },
     "execution_count": 12,
     "metadata": {},
     "output_type": "execute_result"
    }
   ],
   "source": [
    "# fit the random search model on 3 cross validations with 20 iters each\n",
    "rf_random.fit(X_train, y_train)"
   ]
  },
  {
   "cell_type": "code",
   "execution_count": 13,
   "id": "natural-norman",
   "metadata": {},
   "outputs": [
    {
     "data": {
      "text/plain": [
       "{'n_estimators': 800,\n",
       " 'min_samples_split': 2,\n",
       " 'min_samples_leaf': 2,\n",
       " 'max_features': 'auto',\n",
       " 'max_depth': 100,\n",
       " 'bootstrap': True}"
      ]
     },
     "execution_count": 13,
     "metadata": {},
     "output_type": "execute_result"
    }
   ],
   "source": [
    "# get best random search parameters\n",
    "rf_random.best_params_"
   ]
  },
  {
   "cell_type": "code",
   "execution_count": 33,
   "id": "variable-fraud",
   "metadata": {},
   "outputs": [],
   "source": [
    "rf_opt = RandomForestRegressor(n_estimators=800, min_samples_split=2, \n",
    "                                min_samples_leaf=2, max_features='auto',\n",
    "                               max_depth=100, bootstrap=True).fit(X_train, y_train)"
   ]
  },
  {
   "cell_type": "code",
   "execution_count": 34,
   "id": "answering-advancement",
   "metadata": {},
   "outputs": [],
   "source": [
    "y_pred_train = rf_opt.predict(X_train)\n",
    "y_pred = rf_opt.predict(X_val)\n",
    "\n",
    "acc_train = rf.score(X_train, y_train)\n",
    "acc = rf.score(X_val, y_val)\n",
    "\n",
    "rmse_train = mean_squared_error(np.exp(y_train), np.exp(y_pred_train), squared=False)\n",
    "rmse = mean_squared_error(np.exp(y_val), np.exp(y_pred), squared=False)\n",
    "\n",
    "mae_train = mean_absolute_error(np.exp(y_train), np.exp(y_pred_train))\n",
    "mae = mean_absolute_error(np.exp(y_val), np.exp(y_pred))\n",
    "\n",
    "medae_train = median_absolute_error(np.exp(y_train), np.exp(y_pred_train))\n",
    "medae = median_absolute_error(np.exp(y_val), np.exp(y_pred))"
   ]
  },
  {
   "cell_type": "code",
   "execution_count": 35,
   "id": "roman-decrease",
   "metadata": {},
   "outputs": [
    {
     "name": "stdout",
     "output_type": "stream",
     "text": [
      "R^2 (Train): 0.95\n",
      "R^2 (Val): 0.68\n",
      "\n",
      "RMSE (Train): 69.97\n",
      "RMSE (Val): 115.75\n",
      "\n",
      "Mean Abs Error (Train): 24.7\n",
      "Mean Abs Error (Val): 51.38\n",
      "\n",
      "Median Absolute Error (Train): 9.26\n",
      "Median Absolute Error (Val): 23.46\n"
     ]
    }
   ],
   "source": [
    "print('R^2 (Train):', round(acc_train,2)) \n",
    "print('R^2 (Val):', round(acc,2))\n",
    "print('')\n",
    "print('RMSE (Train):', round(rmse_train,2))\n",
    "print('RMSE (Val):', round(rmse,2))\n",
    "print('')\n",
    "print('Mean Abs Error (Train):', round(mae_train,2))\n",
    "print('Mean Abs Error (Val):', round(mae,2))\n",
    "print('')\n",
    "print('Median Absolute Error (Train):', round(medae_train,2))\n",
    "print('Median Absolute Error (Val):', round(medae,2))"
   ]
  },
  {
   "cell_type": "markdown",
   "id": "continent-sitting",
   "metadata": {},
   "source": [
    "## Plotting & Interpretting Training & Validation Errors"
   ]
  },
  {
   "cell_type": "code",
   "execution_count": 36,
   "id": "dental-mining",
   "metadata": {},
   "outputs": [],
   "source": [
    "import matplotlib.pyplot as plt"
   ]
  },
  {
   "cell_type": "code",
   "execution_count": 37,
   "id": "systematic-northeast",
   "metadata": {},
   "outputs": [],
   "source": [
    "diff_train = y_train - y_pred_train\n",
    "diff_val = y_val - y_pred"
   ]
  },
  {
   "cell_type": "code",
   "execution_count": 38,
   "id": "italian-night",
   "metadata": {},
   "outputs": [
    {
     "data": {
      "image/png": "[encoded data removed]",
      "text/plain": [
       "<Figure size 432x288 with 1 Axes>"
      ]
     },
     "metadata": {
      "needs_background": "light"
     },
     "output_type": "display_data"
    }
   ],
   "source": [
    "plt.hist(diff_train, bins=40, label='train')\n",
    "plt.hist(diff_val, bins=40, label='val')\n",
    "plt.title('Distribution of model errors')\n",
    "plt.ylabel('Number of observations')\n",
    "plt.xlabel('Log Price')\n",
    "plt.legend()\n",
    "plt.show()"
   ]
  },
  {
   "cell_type": "markdown",
   "id": "foreign-audience",
   "metadata": {},
   "source": [
    "## US & International Training Results"
   ]
  },
  {
   "cell_type": "code",
   "execution_count": 197,
   "id": "front-input",
   "metadata": {},
   "outputs": [],
   "source": [
    "# create full train set (val + existing train)\n",
    "X = pd.concat([X_train, X_val]).reset_index(drop=True)\n",
    "y = pd.concat([y_train, y_val]).reset_index(drop=True)"
   ]
  },
  {
   "cell_type": "code",
   "execution_count": 198,
   "id": "hearing-state",
   "metadata": {},
   "outputs": [],
   "source": [
    "# create test set\n",
    "y_test = us.log_price\n",
    "X_test = us.drop(columns=['log_price'])"
   ]
  },
  {
   "cell_type": "code",
   "execution_count": 200,
   "id": "included-groove",
   "metadata": {},
   "outputs": [],
   "source": [
    "# standardize data\n",
    "X_test = (X_test - X_train_mean)/X_train_stdev\n",
    "X_test.fillna(0, inplace=True)\n",
    "X_test.replace([np.inf, -np.inf], 0, inplace=True)"
   ]
  },
  {
   "cell_type": "code",
   "execution_count": 202,
   "id": "indonesian-detective",
   "metadata": {},
   "outputs": [],
   "source": [
    "start = time.time()\n",
    "rf_final = RandomForestRegressor(n_estimators=100, min_samples_split=2, \n",
    "                                min_samples_leaf=2, max_features='auto',\n",
    "                               max_depth=100, bootstrap=True).fit(X, y)\n",
    "end = time.time()"
   ]
  },
  {
   "cell_type": "code",
   "execution_count": 203,
   "id": "adaptive-optimization",
   "metadata": {},
   "outputs": [
    {
     "name": "stdout",
     "output_type": "stream",
     "text": [
      "Train time: 119.33\n"
     ]
    }
   ],
   "source": [
    "print('Train time:', round(end - start,2))"
   ]
  },
  {
   "cell_type": "code",
   "execution_count": 204,
   "id": "banned-staff",
   "metadata": {},
   "outputs": [],
   "source": [
    "y_pred_train = rf_final.predict(X)\n",
    "test_start = time.time()\n",
    "y_pred = rf_final.predict(X_test)\n",
    "test_end = time.time()\n",
    "\n",
    "acc_train = rf_final.score(X, y)\n",
    "acc = rf_final.score(X_test, y_test)\n",
    "\n",
    "rmse_train = mean_squared_error(np.exp(y), np.exp(y_pred_train), squared=False)\n",
    "rmse = mean_squared_error(np.exp(y_test), np.exp(y_pred), squared=False)\n",
    "\n",
    "mae_train = mean_absolute_error(np.exp(y), np.exp(y_pred_train))\n",
    "mae = mean_absolute_error(np.exp(y_test), np.exp(y_pred))\n",
    "\n",
    "medae_train = median_absolute_error(np.exp(y), np.exp(y_pred_train))\n",
    "medae = median_absolute_error(np.exp(y_test), np.exp(y_pred))"
   ]
  },
  {
   "cell_type": "code",
   "execution_count": 205,
   "id": "dying-possibility",
   "metadata": {},
   "outputs": [
    {
     "name": "stdout",
     "output_type": "stream",
     "text": [
      "Test time: 0.73\n"
     ]
    }
   ],
   "source": [
    "print('Test time:', round(test_end - test_start,2))"
   ]
  },
  {
   "cell_type": "code",
   "execution_count": 206,
   "id": "harmful-oregon",
   "metadata": {},
   "outputs": [
    {
     "name": "stdout",
     "output_type": "stream",
     "text": [
      "R^2 (Train): 0.93\n",
      "R^2 (Test): 0.67\n",
      "\n",
      "RMSE (Train): 69.52\n",
      "RMSE (Test): 117.3\n",
      "\n",
      "Mean Abs Error (Train): 24.7\n",
      "Mean Abs Error (Test): 51.89\n",
      "\n",
      "Median Absolute Error (Train): 9.27\n",
      "Median Absolute Error (Test): 23.53\n"
     ]
    }
   ],
   "source": [
    "print('R^2 (Train):', round(acc_train,2)) \n",
    "print('R^2 (Test):', round(acc,2))\n",
    "print('')\n",
    "print('RMSE (Train):', round(rmse_train,2))\n",
    "print('RMSE (Test):', round(rmse,2))\n",
    "print('')\n",
    "print('Mean Abs Error (Train):', round(mae_train,2))\n",
    "print('Mean Abs Error (Test):', round(mae,2))\n",
    "print('')\n",
    "print('Median Absolute Error (Train):', round(medae_train,2))\n",
    "print('Median Absolute Error (Test):', round(medae,2))"
   ]
  },
  {
   "cell_type": "code",
   "execution_count": 59,
   "id": "accredited-check",
   "metadata": {},
   "outputs": [],
   "source": [
    "# plt.hist(y_test, bins=40, label='actual')\n",
    "# plt.hist(y_pred, bins=40, label='predictions')\n",
    "# plt.title('Distribution of predictions versus actual')\n",
    "# plt.ylabel('Number of observations')\n",
    "# plt.xlabel('Log Price')\n",
    "# plt.legend()\n",
    "# plt.show()"
   ]
  },
  {
   "cell_type": "code",
   "execution_count": 45,
   "id": "through-moisture",
   "metadata": {},
   "outputs": [
    {
     "data": {
      "image/png": "[encoded data removed]",
      "text/plain": [
       "<Figure size 432x288 with 1 Axes>"
      ]
     },
     "metadata": {
      "needs_background": "light"
     },
     "output_type": "display_data"
    }
   ],
   "source": [
    "diff_train = y - y_pred_train\n",
    "diff_test = y_test - y_pred\n",
    "\n",
    "plt.hist(diff_train, bins=40, label='train')\n",
    "plt.hist(diff_val, bins=40, label='test')\n",
    "plt.title('Distribution of model errors')\n",
    "plt.ylabel('Number of observations')\n",
    "plt.xlabel('Log Price')\n",
    "plt.legend()\n",
    "plt.show()"
   ]
  },
  {
   "cell_type": "markdown",
   "id": "numerical-vault",
   "metadata": {},
   "source": [
    "## Import international data"
   ]
  },
  {
   "cell_type": "code",
   "execution_count": 361,
   "id": "thrown-jacket",
   "metadata": {},
   "outputs": [],
   "source": [
    "madrid = pd.read_csv('../data/processed/madrid-test.csv')\n",
    "london = pd.read_csv('../data/processed/london-test.csv')\n",
    "paris = pd.read_csv('../data/processed/paris-test.csv')"
   ]
  },
  {
   "cell_type": "code",
   "execution_count": 362,
   "id": "prescription-heather",
   "metadata": {},
   "outputs": [],
   "source": [
    "madrid_y = madrid.log_price\n",
    "madrid_X = madrid.drop(columns=['log_price'])\n",
    "\n",
    "london_y = london.log_price\n",
    "london_X = london.drop(columns=['log_price'])\n",
    "\n",
    "paris_y = paris.log_price\n",
    "paris_X = paris.drop(columns=['log_price'])"
   ]
  },
  {
   "cell_type": "code",
   "execution_count": 363,
   "id": "welsh-intellectual",
   "metadata": {},
   "outputs": [],
   "source": [
    "# standardize madrid data\n",
    "madrid_X = (madrid_X - X_train_mean)/X_train_stdev\n",
    "madrid_X.fillna(0, inplace=True)\n",
    "madrid_X.replace([np.inf, -np.inf], 0, inplace=True)\n",
    "\n",
    "# standardize london data\n",
    "london_X = (london_X - X_train_mean)/X_train_stdev\n",
    "london_X.fillna(0, inplace=True)\n",
    "london_X.replace([np.inf, -np.inf], 0, inplace=True)\n",
    "\n",
    "# standardize madrid data\n",
    "paris_X = (paris_X - X_train_mean)/X_train_stdev\n",
    "paris_X.fillna(0, inplace=True)\n",
    "paris_X.replace([np.inf, -np.inf], 0, inplace=True)"
   ]
  },
  {
   "cell_type": "markdown",
   "id": "fifth-lender",
   "metadata": {},
   "source": [
    "#### Madrid"
   ]
  },
  {
   "cell_type": "code",
   "execution_count": 325,
   "id": "imperial-empty",
   "metadata": {},
   "outputs": [],
   "source": [
    "from sklearn.metrics import r2_score"
   ]
  },
  {
   "cell_type": "code",
   "execution_count": 364,
   "id": "decreased-iraqi",
   "metadata": {},
   "outputs": [],
   "source": [
    "madrid_col = 100/75.8\n",
    "madrid_y = madrid_col*madrid_y"
   ]
  },
  {
   "cell_type": "code",
   "execution_count": 365,
   "id": "internal-bowling",
   "metadata": {},
   "outputs": [],
   "source": [
    "mad_start = time.time()\n",
    "y_pred = rf_final.predict(madrid_X)\n",
    "mad_end = time.time()\n",
    "\n",
    "acc = rf_final.score(madrid_X, madrid_y)\n",
    "\n",
    "rmse = mean_squared_error(np.exp(madrid_y), np.exp(y_pred), squared=False)\n",
    "\n",
    "mae = mean_absolute_error(np.exp(madrid_y), np.exp(y_pred))\n",
    "\n",
    "medae = median_absolute_error(np.exp(madrid_y), np.exp(y_pred))"
   ]
  },
  {
   "cell_type": "code",
   "execution_count": 366,
   "id": "experimental-taste",
   "metadata": {},
   "outputs": [
    {
     "name": "stdout",
     "output_type": "stream",
     "text": [
      "Test Time (madrid): 0.72\n",
      "\n",
      "R^2 (Madrid): 0.17\n",
      "\n",
      "RMSE (Madrid): 7775.35\n",
      "\n",
      "Mean Abs Error (Madrid): 870.56\n",
      "\n",
      "Median Absolute Error (Madrid): 70.27\n"
     ]
    }
   ],
   "source": [
    "print('Test Time (madrid):', round(mad_end-mad_start,2))\n",
    "print('')\n",
    "print('R^2 (Madrid):', round(acc,2))\n",
    "print('')\n",
    "print('RMSE (Madrid):', round(rmse,2))\n",
    "print('')\n",
    "print('Mean Abs Error (Madrid):', round(mae,2))\n",
    "print('')\n",
    "print('Median Absolute Error (Madrid):', round(medae,2))"
   ]
  },
  {
   "cell_type": "code",
   "execution_count": 367,
   "id": "commercial-server",
   "metadata": {},
   "outputs": [
    {
     "data": {
      "image/png": "[encoded data removed]",
      "text/plain": [
       "<Figure size 432x288 with 1 Axes>"
      ]
     },
     "metadata": {
      "needs_background": "light"
     },
     "output_type": "display_data"
    }
   ],
   "source": [
    "plt.hist(madrid_y, bins=30, label='Madrid Actual', color='orange', alpha = 0.5)\n",
    "plt.hist(y_pred, bins=30, label='Madrid Predictions', color='green',alpha = 0.5)\n",
    "plt.hist(y, bins=30, label='Training Data USA', color='blue', alpha = 0.5)\n",
    "plt.title('Distribution of predictions versus actual')\n",
    "plt.ylabel('Number of observations')\n",
    "plt.xlabel('Log Price')\n",
    "plt.legend()\n",
    "plt.show()"
   ]
  },
  {
   "cell_type": "markdown",
   "id": "passive-improvement",
   "metadata": {},
   "source": [
    "#### London"
   ]
  },
  {
   "cell_type": "code",
   "execution_count": 309,
   "id": "numeric-coral",
   "metadata": {},
   "outputs": [],
   "source": [
    "london_col = 100/95\n",
    "london_y = london_col*london_y"
   ]
  },
  {
   "cell_type": "code",
   "execution_count": 315,
   "id": "advance-receiver",
   "metadata": {},
   "outputs": [],
   "source": [
    "lon_start = time.time()\n",
    "y_pred = rf_final.predict(london_X)\n",
    "lon_end = time.time()\n",
    "\n",
    "acc = rf_final.score(london_X, london_y)\n",
    "\n",
    "rmse = mean_squared_error(np.exp(london_y), np.exp(y_pred), squared=False)\n",
    "\n",
    "mae = mean_absolute_error(np.exp(london_y), np.exp(y_pred))\n",
    "\n",
    "medae = median_absolute_error(np.exp(london_y), np.exp(y_pred))"
   ]
  },
  {
   "cell_type": "code",
   "execution_count": 316,
   "id": "bored-prophet",
   "metadata": {},
   "outputs": [
    {
     "name": "stdout",
     "output_type": "stream",
     "text": [
      "Test Time (London): 4.6\n",
      "\n",
      "R^2 (London): 0.45\n",
      "\n",
      "RMSE (London): 495.1\n",
      "\n",
      "Mean Abs Error (London): 81.63\n",
      "\n",
      "Median Absolute Error (London): 39.6\n"
     ]
    }
   ],
   "source": [
    "print('Test Time (London):', round(lon_end-lon_start,2))\n",
    "print('')\n",
    "print('R^2 (London):', round(acc,2))\n",
    "print('')\n",
    "print('RMSE (London):', round(rmse,2))\n",
    "print('')\n",
    "print('Mean Abs Error (London):', round(mae,2))\n",
    "print('')\n",
    "print('Median Absolute Error (London):', round(medae,2))"
   ]
  },
  {
   "cell_type": "code",
   "execution_count": 239,
   "id": "acknowledged-campus",
   "metadata": {},
   "outputs": [
    {
     "data": {
      "image/png": "[encoded data removed]",
      "text/plain": [
       "<Figure size 432x288 with 1 Axes>"
      ]
     },
     "metadata": {
      "needs_background": "light"
     },
     "output_type": "display_data"
    }
   ],
   "source": [
    "plt.hist(london_y, bins=30, label='London Actual', color='orange', alpha = 0.5)\n",
    "plt.hist(y_pred, bins=30, label='London Predictions', color='green',alpha = 0.5)\n",
    "plt.hist(y, bins=30, label='Training Data USA', color='blue', alpha = 0.5)\n",
    "plt.title('Distribution of predictions versus actual')\n",
    "plt.ylabel('Number of observations')\n",
    "plt.xlabel('Log Price')\n",
    "plt.legend()\n",
    "plt.show()"
   ]
  },
  {
   "cell_type": "markdown",
   "id": "dirty-variation",
   "metadata": {},
   "source": [
    "#### Paris"
   ]
  },
  {
   "cell_type": "code",
   "execution_count": 368,
   "id": "beginning-inquiry",
   "metadata": {},
   "outputs": [],
   "source": [
    "france_col = 100/89.3\n",
    "paris_y = france_col*paris_y"
   ]
  },
  {
   "cell_type": "code",
   "execution_count": 369,
   "id": "confident-saturn",
   "metadata": {},
   "outputs": [],
   "source": [
    "paris_start = time.time()\n",
    "y_pred = rf_final.predict(paris_X)\n",
    "paris_end = time.time()\n",
    "\n",
    "acc = rf_final.score(paris_X, paris_y)\n",
    "\n",
    "rmse = mean_squared_error(np.exp(paris_y), np.exp(y_pred), squared=False)\n",
    "\n",
    "mae = mean_absolute_error(np.exp(paris_y), np.exp(y_pred))\n",
    "\n",
    "medae = median_absolute_error(np.exp(paris_y), np.exp(y_pred))"
   ]
  },
  {
   "cell_type": "code",
   "execution_count": 370,
   "id": "continental-presentation",
   "metadata": {},
   "outputs": [
    {
     "name": "stdout",
     "output_type": "stream",
     "text": [
      "Test Time (Paris): 2.36\n",
      "\n",
      "R^2 (Paris): 0.18\n",
      "\n",
      "RMSE (Paris): 586.81\n",
      "\n",
      "Mean Abs Error (Paris): 114.07\n",
      "\n",
      "Median Absolute Error (Paris): 60.71\n"
     ]
    }
   ],
   "source": [
    "print('Test Time (Paris):', round(paris_end-paris_start,2))\n",
    "print('')\n",
    "print('R^2 (Paris):', round(acc,2))\n",
    "print('')\n",
    "print('RMSE (Paris):', round(rmse,2))\n",
    "print('')\n",
    "print('Mean Abs Error (Paris):', round(mae,2))\n",
    "print('')\n",
    "print('Median Absolute Error (Paris):', round(medae,2))"
   ]
  },
  {
   "cell_type": "code",
   "execution_count": 371,
   "id": "gross-mapping",
   "metadata": {},
   "outputs": [
    {
     "data": {
      "image/png": "[encoded data removed]",
      "text/plain": [
       "<Figure size 432x288 with 1 Axes>"
      ]
     },
     "metadata": {
      "needs_background": "light"
     },
     "output_type": "display_data"
    }
   ],
   "source": [
    "plt.hist(paris_y, bins=30, label='International Actual', color='orange', alpha = 0.5)\n",
    "plt.hist(y_pred, bins=30, label='International Predictions', color='green',alpha = 0.5)\n",
    "plt.hist(y, bins=30, label='Training Data USA', color='blue', alpha = 0.5)\n",
    "plt.title('Distribution of predictions versus actual')\n",
    "plt.ylabel('Number of observations')\n",
    "plt.xlabel('Log Price')\n",
    "plt.legend()\n",
    "plt.show()"
   ]
  },
  {
   "cell_type": "markdown",
   "id": "prompt-sapphire",
   "metadata": {},
   "source": [
    "#### International"
   ]
  },
  {
   "cell_type": "code",
   "execution_count": 245,
   "id": "average-simulation",
   "metadata": {},
   "outputs": [],
   "source": [
    "international_X = pd.concat([madrid_X, london_X, paris_X])\n",
    "international_y = pd.concat([madrid_y, london_y, paris_y])"
   ]
  },
  {
   "cell_type": "code",
   "execution_count": 246,
   "id": "relative-pension",
   "metadata": {},
   "outputs": [],
   "source": [
    "int_start = time.time()\n",
    "y_pred = rf_final.predict(international_X)\n",
    "int_end = time.time()\n",
    "\n",
    "acc = rf_final.score(international_X, international_y)\n",
    "\n",
    "rmse = mean_squared_error(np.exp(international_y), np.exp(y_pred), squared=False)\n",
    "\n",
    "mae = mean_absolute_error(np.exp(international_y), np.exp(y_pred))\n",
    "\n",
    "medae = median_absolute_error(np.exp(international_y), np.exp(y_pred))"
   ]
  },
  {
   "cell_type": "code",
   "execution_count": 247,
   "id": "bigger-danish",
   "metadata": {},
   "outputs": [
    {
     "name": "stdout",
     "output_type": "stream",
     "text": [
      "Test Time (Int): 6.01\n",
      "\n",
      "R^2 (Int): 0.38\n",
      "\n",
      "RMSE (Int): 2794.08\n",
      "\n",
      "Mean Abs Error (Int): 191.69\n",
      "\n",
      "Median Absolute Error (Int): 47.21\n"
     ]
    }
   ],
   "source": [
    "print('Test Time (Int):', round(int_end-int_start,2))\n",
    "print('')\n",
    "print('R^2 (Int):', round(acc,2))\n",
    "print('')\n",
    "print('RMSE (Int):', round(rmse,2))\n",
    "print('')\n",
    "print('Mean Abs Error (Int):', round(mae,2))\n",
    "print('')\n",
    "print('Median Absolute Error (Int):', round(medae,2))"
   ]
  },
  {
   "cell_type": "code",
   "execution_count": 248,
   "id": "immediate-boost",
   "metadata": {},
   "outputs": [
    {
     "data": {
      "image/png": "[encoded data removed]",
      "text/plain": [
       "<Figure size 432x288 with 1 Axes>"
      ]
     },
     "metadata": {
      "needs_background": "light"
     },
     "output_type": "display_data"
    }
   ],
   "source": [
    "plt.hist(international_y, bins=30, label='International Actual', color='orange', alpha = 0.5)\n",
    "plt.hist(y_pred, bins=30, label='International Predictions', color='green',alpha = 0.5)\n",
    "plt.hist(y, bins=30, label='Training Data USA', color='blue', alpha = 0.5)\n",
    "plt.title('Distribution of predictions versus actual')\n",
    "plt.ylabel('Number of observations')\n",
    "plt.xlabel('Log Price')\n",
    "plt.legend()\n",
    "plt.show()"
   ]
  },
  {
   "cell_type": "code",
   "execution_count": null,
   "id": "instant-youth",
   "metadata": {},
   "outputs": [],
   "source": []
  }
 ],
 "metadata": {
  "kernelspec": {
   "display_name": "Python 3",
   "language": "python",
   "name": "python3"
  },
  "language_info": {
   "codemirror_mode": {
    "name": "ipython",
    "version": 3
   },
   "file_extension": ".py",
   "mimetype": "text/x-python",
   "name": "python",
   "nbconvert_exporter": "python",
   "pygments_lexer": "ipython3",
   "version": "3.7.7"
  }
 },
 "nbformat": 4,
 "nbformat_minor": 5
}
