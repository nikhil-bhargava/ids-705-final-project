{
 "cells": [
  {
   "cell_type": "code",
   "execution_count": 27,
   "metadata": {},
   "outputs": [],
   "source": [
    "import pandas as pd\n",
    "import numpy as np\n",
    "\n",
    "from sklearn.neural_network import MLPRegressor\n",
    "from sklearn.model_selection import GridSearchCV, RandomizedSearchCV\n",
    "from sklearn.metrics import mean_squared_error, mean_absolute_error, median_absolute_error, r2_score"
   ]
  },
  {
   "cell_type": "markdown",
   "metadata": {},
   "source": [
    "#### load data"
   ]
  },
  {
   "cell_type": "code",
   "execution_count": 3,
   "metadata": {},
   "outputs": [],
   "source": [
    "df_train = pd.read_csv(\"../data/processed/us-train.csv\")\n",
    "df_val = pd.read_csv(\"../data/processed/us-val.csv\")\n",
    "df_test = pd.read_csv(\"../data/processed/us-test.csv\")"
   ]
  },
  {
   "cell_type": "code",
   "execution_count": 4,
   "metadata": {},
   "outputs": [],
   "source": [
    "# df_train = df_train.fillna(method='ffill')\n",
    "# df_val = df_val.fillna(method='ffill')\n",
    "# df_test = df_test.fillna(method='ffill')"
   ]
  },
  {
   "cell_type": "code",
   "execution_count": 5,
   "metadata": {},
   "outputs": [
    {
     "name": "stdout",
     "output_type": "stream",
     "text": [
      "(44466, 105)\n",
      "(14822, 105)\n",
      "(14823, 105)\n"
     ]
    }
   ],
   "source": [
    "print(df_train.shape)\n",
    "print(df_val.shape)\n",
    "print(df_test.shape)"
   ]
  },
  {
   "cell_type": "markdown",
   "metadata": {},
   "source": [
    "#### train-test split"
   ]
  },
  {
   "cell_type": "code",
   "execution_count": 6,
   "metadata": {},
   "outputs": [],
   "source": [
    "y_train = df_train.log_price\n",
    "X_train = df_train.drop('log_price', axis=1)\n",
    "\n",
    "y_val = df_val.log_price\n",
    "X_val = df_val.drop('log_price', axis=1)\n",
    "\n",
    "y_test = df_test.log_price\n",
    "X_test = df_test.drop('log_price', axis=1)\n",
    "\n",
    "y_train_final = pd.concat([y_train, y_val], axis=0)\n",
    "X_train_final = pd.concat([X_train, X_val], axis=0)\n",
    "\n",
    "y_val_exp = np.exp(y_val)\n",
    "y_test_exp = np.exp(y_test)"
   ]
  },
  {
   "cell_type": "code",
   "execution_count": 7,
   "metadata": {},
   "outputs": [
    {
     "data": {
      "text/plain": [
       "(59288, 104)"
      ]
     },
     "execution_count": 7,
     "metadata": {},
     "output_type": "execute_result"
    }
   ],
   "source": [
    "X_train_final.shape"
   ]
  },
  {
   "cell_type": "markdown",
   "metadata": {},
   "source": [
    "### Neural Network\n",
    "\n",
    "**response: original price**\n",
    "\n",
    "#### default model:"
   ]
  },
  {
   "cell_type": "code",
   "execution_count": 8,
   "metadata": {},
   "outputs": [],
   "source": [
    "# defualt hyperparameters\n",
    "default_mlp = MLPRegressor().fit(X_train, y_train)"
   ]
  },
  {
   "cell_type": "code",
   "execution_count": 9,
   "metadata": {},
   "outputs": [
    {
     "name": "stdout",
     "output_type": "stream",
     "text": [
      "42.16969163194098\n",
      "72.45569510909544\n"
     ]
    }
   ],
   "source": [
    "print(median_absolute_error(y_val_exp, np.exp(default_mlp.predict(X_val))))\n",
    "print(mean_absolute_error(y_val_exp, np.exp(default_mlp.predict(X_val))))"
   ]
  },
  {
   "cell_type": "markdown",
   "metadata": {},
   "source": [
    "#### Random Search"
   ]
  },
  {
   "cell_type": "code",
   "execution_count": 10,
   "metadata": {},
   "outputs": [],
   "source": [
    "mlp = MLPRegressor(max_iter=200, early_stopping=True, n_iter_no_change=5)\n",
    "# parameter\n",
    "layers = [(200,), (220,), (300,), (200, 200), (120, 120)]\n",
    "\n",
    "param_dist_mlp = dict(hidden_layer_sizes=layers, \n",
    "                      learning_rate=['constant','adaptive'],\n",
    "                      learning_rate_init = [0.001, 0.0001, 0.01],\n",
    "                      alpha=[0.0001, 0.002 ,0.05])\n",
    "\n",
    "# randomized search\n",
    "rand_mlp = RandomizedSearchCV(mlp, param_dist_mlp, random_state=0, \n",
    "                              n_iter=10, cv=3, verbose=0, n_jobs=-1)"
   ]
  },
  {
   "cell_type": "code",
   "execution_count": 11,
   "metadata": {},
   "outputs": [],
   "source": [
    "best_model_mlp = rand_mlp.fit(X_train, y_train)"
   ]
  },
  {
   "cell_type": "code",
   "execution_count": 12,
   "metadata": {},
   "outputs": [
    {
     "name": "stdout",
     "output_type": "stream",
     "text": [
      "Best hidden_layer_sizes: (300,)\n",
      "Best learning_rate: constant\n",
      "Best alpha: 0.002\n",
      "Best learning_rate_init: 0.0001\n"
     ]
    }
   ],
   "source": [
    "print('Best hidden_layer_sizes:', best_model_mlp.best_estimator_.get_params()['hidden_layer_sizes'])\n",
    "print('Best learning_rate:', best_model_mlp.best_estimator_.get_params()['learning_rate'])\n",
    "print('Best alpha:', best_model_mlp.best_estimator_.get_params()['alpha'])\n",
    "print('Best learning_rate_init:', best_model_mlp.best_estimator_.get_params()['learning_rate_init'])"
   ]
  },
  {
   "cell_type": "code",
   "execution_count": 13,
   "metadata": {},
   "outputs": [],
   "source": [
    "best_mlp_exp = MLPRegressor(hidden_layer_sizes=(200, 200), \n",
    "                         learning_rate='adaptive', learning_rate_init=0.01, alpha=0.002, \n",
    "                         max_iter=200, early_stopping=True, \n",
    "                         n_iter_no_change=5).fit(X_train, y_train)"
   ]
  },
  {
   "cell_type": "code",
   "execution_count": 14,
   "metadata": {},
   "outputs": [
    {
     "name": "stdout",
     "output_type": "stream",
     "text": [
      "26.958491956908063\n",
      "59.75541539754243\n"
     ]
    }
   ],
   "source": [
    "print(median_absolute_error(y_val_exp, np.exp(best_mlp_exp.predict(X_val))))\n",
    "print(mean_absolute_error(y_val_exp, np.exp(best_mlp_exp.predict(X_val))))"
   ]
  },
  {
   "cell_type": "markdown",
   "metadata": {},
   "source": [
    "### Training neural net using the best model"
   ]
  },
  {
   "cell_type": "code",
   "execution_count": 15,
   "metadata": {},
   "outputs": [],
   "source": [
    "final_mlp = MLPRegressor(hidden_layer_sizes=(200, 200), \n",
    "                         learning_rate='adaptive', learning_rate_init=0.0001, alpha=0.02, \n",
    "                         max_iter=200, early_stopping=True, \n",
    "                         n_iter_no_change=5).fit(X_train_final, y_train_final)"
   ]
  },
  {
   "cell_type": "markdown",
   "metadata": {},
   "source": [
    "**Training error**"
   ]
  },
  {
   "cell_type": "code",
   "execution_count": 32,
   "metadata": {},
   "outputs": [],
   "source": [
    "y_train_final_exp = np.exp(y_train_final)\n",
    "\n",
    "medianAE_train_us = median_absolute_error(y_train_final_exp, np.exp(final_mlp.predict(X_train_final)))\n",
    "meanAE_train_us = mean_absolute_error(y_train_final_exp, np.exp(final_mlp.predict(X_train_final)))\n",
    "RMSE_train_us = mean_squared_error(y_train_final_exp, np.exp(final_mlp.predict(X_train_final)), squared=False)\n",
    "R2_train_us = r2_score(y_train_final_exp, np.exp(final_mlp.predict(X_train_final)))"
   ]
  },
  {
   "cell_type": "code",
   "execution_count": 33,
   "metadata": {},
   "outputs": [
    {
     "name": "stdout",
     "output_type": "stream",
     "text": [
      "Median Absolute Error (train): 30.234438930834358\n",
      "Mean Absolute Error (Train): 61.02095566022959\n",
      "RMSE (Train): 130.39419346009564\n",
      "R2 (Train): 0.4023927931578193\n"
     ]
    }
   ],
   "source": [
    "print('Median Absolute Error (train):', medianAE_train_us)\n",
    "print('Mean Absolute Error (Train):', meanAE_train_us)\n",
    "print('RMSE (Train):', RMSE_train_us)\n",
    "print('R2 (Train):', R2_train_us)"
   ]
  },
  {
   "cell_type": "markdown",
   "metadata": {},
   "source": [
    "**US testing error**"
   ]
  },
  {
   "cell_type": "code",
   "execution_count": 34,
   "metadata": {},
   "outputs": [],
   "source": [
    "medianAE_test_us = median_absolute_error(y_test_exp, np.exp(final_mlp.predict(X_test)))\n",
    "meanAE_test_us = mean_absolute_error(y_test_exp, np.exp(final_mlp.predict(X_test)))\n",
    "RMSE_test_us = mean_squared_error(y_test_exp, np.exp(final_mlp.predict(X_test)), squared=False)\n",
    "R2_test_us = r2_score(y_test_exp, np.exp(final_mlp.predict(X_test)))"
   ]
  },
  {
   "cell_type": "code",
   "execution_count": 35,
   "metadata": {},
   "outputs": [
    {
     "name": "stdout",
     "output_type": "stream",
     "text": [
      "Median Absolute Error (Test): 30.669548154009675\n",
      "Mean Absolute Error (Test): 62.1781519862981\n",
      "RMSE (Test): 134.7233984529619\n",
      "R2 (Test): 0.3583993176562267\n"
     ]
    }
   ],
   "source": [
    "print('Median Absolute Error (Test):', medianAE_test_us)\n",
    "print('Mean Absolute Error (Test):', meanAE_test_us)\n",
    "print('RMSE (Test):', RMSE_test_us)\n",
    "print('R2 (Test):', R2_test_us)"
   ]
  },
  {
   "cell_type": "markdown",
   "metadata": {},
   "source": [
    "## Test on International data"
   ]
  },
  {
   "cell_type": "markdown",
   "metadata": {},
   "source": [
    "#### Load data"
   ]
  },
  {
   "cell_type": "code",
   "execution_count": 68,
   "metadata": {},
   "outputs": [],
   "source": [
    "madrid = pd.read_csv('../data/processed/madrid-test.csv')\n",
    "london = pd.read_csv('../data/processed/london-test.csv')\n",
    "paris = pd.read_csv('../data/processed/paris-test.csv')"
   ]
  },
  {
   "cell_type": "code",
   "execution_count": 69,
   "metadata": {},
   "outputs": [
    {
     "name": "stdout",
     "output_type": "stream",
     "text": [
      "(20149, 105)\n",
      "(76510, 105)\n",
      "(64628, 105)\n"
     ]
    }
   ],
   "source": [
    "print(madrid.shape)\n",
    "print(london.shape)\n",
    "print(paris.shape)"
   ]
  },
  {
   "cell_type": "code",
   "execution_count": 70,
   "metadata": {},
   "outputs": [],
   "source": [
    "y_madrid = madrid.log_price\n",
    "X_madrid = madrid.drop('log_price', axis=1)\n",
    "\n",
    "y_london = london.log_price\n",
    "X_london = london.drop('log_price', axis=1)\n",
    "\n",
    "y_paris = paris.log_price\n",
    "X_paris = paris.drop('log_price', axis=1)"
   ]
  },
  {
   "cell_type": "markdown",
   "metadata": {},
   "source": [
    "#### Madrid"
   ]
  },
  {
   "cell_type": "code",
   "execution_count": 71,
   "metadata": {},
   "outputs": [],
   "source": [
    "y_madrid_pred = final_mlp.predict(X_madrid)"
   ]
  },
  {
   "cell_type": "code",
   "execution_count": 72,
   "metadata": {},
   "outputs": [],
   "source": [
    "# cost-index transform\n",
    "madrid_col = 100/75.8\n",
    "y_madrid_pred_adj = np.log(np.exp(y_madrid_pred) / madrid_col)\n",
    "y_madrid_exp = np.exp(y_madrid)"
   ]
  },
  {
   "cell_type": "code",
   "execution_count": 73,
   "metadata": {},
   "outputs": [],
   "source": [
    "medianAE_test_madrid = median_absolute_error(y_madrid_exp, np.exp(y_madrid_pred_adj))\n",
    "meanAE_test_madrid = mean_absolute_error(y_madrid_exp, np.exp(y_madrid_pred_adj))\n",
    "RMSE_test_madrid = mean_squared_error(y_madrid_exp, np.exp(y_madrid_pred_adj), squared=False)\n",
    "R2_test_madrid = r2_score(y_madrid_exp, np.exp(y_madrid_pred_adj))"
   ]
  },
  {
   "cell_type": "code",
   "execution_count": 74,
   "metadata": {},
   "outputs": [
    {
     "name": "stdout",
     "output_type": "stream",
     "text": [
      "Median Absolute Error (Madrid): 53.869180570776294\n",
      "Mean Absolute Error (Madrid): 116.1035986895079\n",
      "RMSE (Madrid): 465.3253105565991\n",
      "R2 (Madrid): -0.038544649238528184\n"
     ]
    }
   ],
   "source": [
    "print('Median Absolute Error (Madrid):', medianAE_test_madrid)\n",
    "print('Mean Absolute Error (Madrid):', meanAE_test_madrid)\n",
    "print('RMSE (Madrid):', RMSE_test_madrid)\n",
    "print('R2 (Madrid):', R2_test_madrid)"
   ]
  },
  {
   "cell_type": "markdown",
   "metadata": {},
   "source": [
    "#### London"
   ]
  },
  {
   "cell_type": "code",
   "execution_count": 75,
   "metadata": {},
   "outputs": [],
   "source": [
    "y_london_pred = final_mlp.predict(X_london)\n",
    "\n",
    "# cost-index transform\n",
    "london_col = 100/95\n",
    "y_london_pred_adj = np.log(np.exp(y_london_pred) / london_col)\n",
    "\n",
    "y_london_exp = np.exp(y_london)"
   ]
  },
  {
   "cell_type": "code",
   "execution_count": 76,
   "metadata": {},
   "outputs": [],
   "source": [
    "medianAE_test_london = median_absolute_error(y_london_exp, np.exp(y_london_pred_adj))\n",
    "meanAE_test_london = mean_absolute_error(y_london_exp, np.exp(y_london_pred_adj))\n",
    "RMSE_test_london = mean_squared_error(y_london_exp, np.exp(y_london_pred_adj), squared=False)\n",
    "R2_test_london = r2_score(y_london_exp, np.exp(y_london_pred_adj))"
   ]
  },
  {
   "cell_type": "code",
   "execution_count": 77,
   "metadata": {},
   "outputs": [
    {
     "name": "stdout",
     "output_type": "stream",
     "text": [
      "Median Absolute Error (london): 44.65812144170613\n",
      "Mean Absolute Error (london): 296.07003568203504\n",
      "RMSE (london): 60475.68350784525\n",
      "R2 (london): -37123.29218845762\n"
     ]
    }
   ],
   "source": [
    "print('Median Absolute Error (london):', medianAE_test_london)\n",
    "print('Mean Absolute Error (london):', meanAE_test_london)\n",
    "print('RMSE (london):', RMSE_test_london)\n",
    "print('R2 (london):', R2_test_london)"
   ]
  },
  {
   "cell_type": "markdown",
   "metadata": {},
   "source": [
    "#### Paris"
   ]
  },
  {
   "cell_type": "code",
   "execution_count": 78,
   "metadata": {},
   "outputs": [],
   "source": [
    "y_paris_pred = final_mlp.predict(X_paris)\n",
    "\n",
    "# cost-index transform\n",
    "paris_col = 100/89.3\n",
    "y_paris_pred_adj = np.log(np.exp(y_paris_pred) / paris_col)\n",
    "\n",
    "y_paris_exp = np.exp(y_paris)"
   ]
  },
  {
   "cell_type": "code",
   "execution_count": 79,
   "metadata": {},
   "outputs": [],
   "source": [
    "medianAE_test_paris = median_absolute_error(y_paris_exp, np.exp(y_paris_pred_adj))\n",
    "meanAE_test_paris = mean_absolute_error(y_paris_exp, np.exp(y_paris_pred_adj))\n",
    "RMSE_test_paris = mean_squared_error(y_paris_exp, np.exp(y_paris_pred_adj), squared=False)\n",
    "R2_test_paris = r2_score(y_paris_exp, np.exp(y_paris_pred_adj))"
   ]
  },
  {
   "cell_type": "code",
   "execution_count": 80,
   "metadata": {},
   "outputs": [
    {
     "name": "stdout",
     "output_type": "stream",
     "text": [
      "Median Absolute Error (Paris): 58.458503038943974\n",
      "Mean Absolute Error (Paris): 482.1758467822378\n",
      "RMSE (Paris): 65298.29468895368\n",
      "R2 (Paris): -92665.74778219625\n"
     ]
    }
   ],
   "source": [
    "print('Median Absolute Error (Paris):', medianAE_test_paris)\n",
    "print('Mean Absolute Error (Paris):', meanAE_test_paris)\n",
    "print('RMSE (Paris):', RMSE_test_paris)\n",
    "print('R2 (Paris):', R2_test_paris)"
   ]
  },
  {
   "cell_type": "markdown",
   "metadata": {},
   "source": [
    "#### Combined international"
   ]
  },
  {
   "cell_type": "code",
   "execution_count": 81,
   "metadata": {},
   "outputs": [
    {
     "name": "stdout",
     "output_type": "stream",
     "text": [
      "(161287, 104)\n",
      "(161287,)\n"
     ]
    }
   ],
   "source": [
    "X_international = pd.concat([X_madrid, X_london, X_paris])\n",
    "y_international = pd.concat([y_madrid, y_london, y_paris])\n",
    "print(X_international.shape)\n",
    "print(y_international.shape)"
   ]
  },
  {
   "cell_type": "code",
   "execution_count": 82,
   "metadata": {},
   "outputs": [],
   "source": [
    "y_inter_pred = final_mlp.predict(X_international)\n",
    "\n",
    "# cost-index transform\n",
    "# weighted avg\n",
    "eu_col = 100/90.32\n",
    "y_inter_pred_adj = np.log(np.exp(y_inter_pred) / eu_col)\n",
    "\n",
    "y_eu_exp = np.exp(y_international)"
   ]
  },
  {
   "cell_type": "code",
   "execution_count": 83,
   "metadata": {},
   "outputs": [],
   "source": [
    "medianAE_test_eu = median_absolute_error(y_eu_exp, np.exp(y_inter_pred_adj))\n",
    "meanAE_test_eu = mean_absolute_error(y_eu_exp, np.exp(y_inter_pred_adj))\n",
    "RMSE_test_eu = mean_squared_error(y_eu_exp, np.exp(y_inter_pred_adj), squared=False)\n",
    "R2_test_eu = r2_score(y_eu_exp, np.exp(y_inter_pred_adj))"
   ]
  },
  {
   "cell_type": "code",
   "execution_count": 84,
   "metadata": {},
   "outputs": [
    {
     "name": "stdout",
     "output_type": "stream",
     "text": [
      "Median Absolute Error (Paris): 51.38537679335537\n",
      "Mean Absolute Error (Paris): 345.5028172301994\n",
      "RMSE (Paris): 57584.90854968894\n",
      "R2 (Paris): -36344.35753380213\n"
     ]
    }
   ],
   "source": [
    "print('Median Absolute Error (Paris):', medianAE_test_eu)\n",
    "print('Mean Absolute Error (Paris):', meanAE_test_eu)\n",
    "print('RMSE (Paris):', RMSE_test_eu)\n",
    "print('R2 (Paris):', R2_test_eu)"
   ]
  }
 ],
 "metadata": {
  "kernelspec": {
   "display_name": "Python 3",
   "language": "python",
   "name": "python3"
  },
  "language_info": {
   "codemirror_mode": {
    "name": "ipython",
    "version": 3
   },
   "file_extension": ".py",
   "mimetype": "text/x-python",
   "name": "python",
   "nbconvert_exporter": "python",
   "pygments_lexer": "ipython3",
   "version": "3.7.6"
  }
 },
 "nbformat": 4,
 "nbformat_minor": 4
}
