{
 "cells": [
  {
   "cell_type": "code",
   "execution_count": 25,
   "id": "heavy-booking",
   "metadata": {},
   "outputs": [],
   "source": [
    "import pandas as pd\n",
    "import numpy as np\n",
    "pd.set_option('max.rows',200)\n",
    "import time"
   ]
  },
  {
   "cell_type": "markdown",
   "id": "pacific-crossing",
   "metadata": {},
   "source": [
    "## Train & Evaluate Model in US"
   ]
  },
  {
   "cell_type": "markdown",
   "id": "circular-catalog",
   "metadata": {},
   "source": [
    "### Load data"
   ]
  },
  {
   "cell_type": "code",
   "execution_count": 26,
   "id": "revolutionary-vertex",
   "metadata": {},
   "outputs": [],
   "source": [
    "train = pd.read_csv('../data/processed/us-train.csv')\n",
    "val = pd.read_csv('../data/processed/us-val.csv')\n",
    "us = pd.read_csv('../data/processed/us-test.csv')"
   ]
  },
  {
   "cell_type": "code",
   "execution_count": 27,
   "id": "adapted-middle",
   "metadata": {},
   "outputs": [],
   "source": [
    "y_train = train.log_price\n",
    "y_val = val.log_price"
   ]
  },
  {
   "cell_type": "code",
   "execution_count": 28,
   "id": "complimentary-documentation",
   "metadata": {},
   "outputs": [],
   "source": [
    "X_train = train.drop(columns=['log_price'])\n",
    "X_val = val.drop(columns=['log_price'])"
   ]
  },
  {
   "cell_type": "code",
   "execution_count": null,
   "id": "dominican-devon",
   "metadata": {},
   "outputs": [],
   "source": [
    "# X_train_mean = X_train.copy().mean()\n",
    "# X_train_stdev = X_train.copy().std()\n",
    "\n",
    "# # standardize data\n",
    "# X_train = (X_train - X_train_mean)/X_train_stdev\n",
    "# X_val = (X_val - X_train_mean)/X_train_stdev"
   ]
  },
  {
   "cell_type": "code",
   "execution_count": null,
   "id": "correct-metallic",
   "metadata": {},
   "outputs": [],
   "source": [
    "# X_train.fillna(0, inplace=True)\n",
    "# X_train.replace([np.inf, -np.inf], 0, inplace=True)\n",
    "# X_val.fillna(0, inplace=True)\n",
    "# X_val.replace([np.inf, -np.inf], 0, inplace=True)"
   ]
  },
  {
   "cell_type": "markdown",
   "id": "blond-people",
   "metadata": {},
   "source": [
    "### Train Random Forest"
   ]
  },
  {
   "cell_type": "markdown",
   "id": "processed-mumbai",
   "metadata": {},
   "source": [
    "### Default Parameters"
   ]
  },
  {
   "cell_type": "code",
   "execution_count": 29,
   "id": "analyzed-coffee",
   "metadata": {},
   "outputs": [],
   "source": [
    "from sklearn.ensemble import RandomForestRegressor\n",
    "from sklearn.metrics import mean_squared_error\n",
    "from sklearn.metrics import mean_absolute_error\n",
    "from sklearn.metrics import median_absolute_error"
   ]
  },
  {
   "cell_type": "code",
   "execution_count": 30,
   "id": "sacred-breakfast",
   "metadata": {},
   "outputs": [],
   "source": [
    "rf = RandomForestRegressor().fit(X_train, y_train)"
   ]
  },
  {
   "cell_type": "code",
   "execution_count": 31,
   "id": "forbidden-notion",
   "metadata": {},
   "outputs": [],
   "source": [
    "y_pred_train = rf.predict(X_train)\n",
    "y_pred = rf.predict(X_val)\n",
    "\n",
    "acc_train = rf.score(X_train, y_train)\n",
    "acc = rf.score(X_val, y_val)\n",
    "\n",
    "rmse_train = mean_squared_error(np.exp(y_train), np.exp(y_pred_train), squared=False)\n",
    "rmse = mean_squared_error(np.exp(y_val), np.exp(y_pred), squared=False)\n",
    "\n",
    "mae_train = mean_absolute_error(np.exp(y_train), np.exp(y_pred_train))\n",
    "mae = mean_absolute_error(np.exp(y_val), np.exp(y_pred))\n",
    "\n",
    "medae_train = median_absolute_error(np.exp(y_train), np.exp(y_pred_train))\n",
    "medae = median_absolute_error(np.exp(y_val), np.exp(y_pred))"
   ]
  },
  {
   "cell_type": "code",
   "execution_count": 32,
   "id": "least-charity",
   "metadata": {},
   "outputs": [
    {
     "name": "stdout",
     "output_type": "stream",
     "text": [
      "R^2 (Train): 0.95\n",
      "R^2 (Val): 0.68\n",
      "\n",
      "RMSE (Train): 58.18\n",
      "RMSE (Val): 116.0\n",
      "\n",
      "Mean Abs Error (Train): 21.55\n",
      "Mean Abs Error (Val): 51.7\n",
      "\n",
      "Median Absolute Error (Train): 8.54\n",
      "Median Absolute Error (Val): 23.82\n"
     ]
    }
   ],
   "source": [
    "print('R^2 (Train):', round(acc_train,2)) \n",
    "print('R^2 (Val):', round(acc,2))\n",
    "print('')\n",
    "print('RMSE (Train):', round(rmse_train,2))\n",
    "print('RMSE (Val):', round(rmse,2))\n",
    "print('')\n",
    "print('Mean Abs Error (Train):', round(mae_train,2))\n",
    "print('Mean Abs Error (Val):', round(mae,2))\n",
    "print('')\n",
    "print('Median Absolute Error (Train):', round(medae_train,2))\n",
    "print('Median Absolute Error (Val):', round(medae,2))"
   ]
  },
  {
   "cell_type": "markdown",
   "id": "palestinian-amount",
   "metadata": {},
   "source": [
    "### Random Search Parameters"
   ]
  },
  {
   "cell_type": "code",
   "execution_count": 9,
   "id": "mathematical-taxation",
   "metadata": {},
   "outputs": [],
   "source": [
    "from sklearn.model_selection import RandomizedSearchCV"
   ]
  },
  {
   "cell_type": "code",
   "execution_count": 10,
   "id": "private-shield",
   "metadata": {},
   "outputs": [],
   "source": [
    "# rf parameters input into random search\n",
    "n_estimators = [int(x) for x in np.linspace(200, 2000, 10)]\n",
    "max_features = ['auto', 'sqrt']\n",
    "max_depth = [int(x) for x in np.linspace(10, 110, 11)]\n",
    "max_depth.append(None)\n",
    "min_samples_split = [2, 5, 10]\n",
    "min_samples_leaf = [1, 2, 4]\n",
    "bootstrap = [True, False]\n",
    "\n",
    "# produce random grid\n",
    "random_grid = {'n_estimators': n_estimators,\n",
    "               'max_features': max_features,\n",
    "               'max_depth': max_depth,\n",
    "               'min_samples_split': min_samples_split,\n",
    "               'min_samples_leaf': min_samples_leaf,\n",
    "               'bootstrap': bootstrap}"
   ]
  },
  {
   "cell_type": "code",
   "execution_count": 11,
   "id": "enclosed-vietnam",
   "metadata": {},
   "outputs": [],
   "source": [
    "# random search best hyper parameters of model\n",
    "rf_r = RandomForestRegressor()\n",
    "rf_random = RandomizedSearchCV(estimator = rf_r, param_distributions = random_grid, n_iter = 20, cv = 5, \n",
    "                               verbose=2, random_state=0, n_jobs = -1)"
   ]
  },
  {
   "cell_type": "code",
   "execution_count": 12,
   "id": "standing-moral",
   "metadata": {},
   "outputs": [
    {
     "name": "stdout",
     "output_type": "stream",
     "text": [
      "Fitting 5 folds for each of 20 candidates, totalling 100 fits\n"
     ]
    },
    {
     "name": "stderr",
     "output_type": "stream",
     "text": [
      "[Parallel(n_jobs=-1)]: Using backend LokyBackend with 4 concurrent workers.\n",
      "[Parallel(n_jobs=-1)]: Done  33 tasks      | elapsed: 122.3min\n",
      "[Parallel(n_jobs=-1)]: Done 100 out of 100 | elapsed: 323.1min finished\n"
     ]
    },
    {
     "data": {
      "text/plain": [
       "RandomizedSearchCV(cv=5, estimator=RandomForestRegressor(), n_iter=20,\n",
       "                   n_jobs=-1,\n",
       "                   param_distributions={'bootstrap': [True, False],\n",
       "                                        'max_depth': [10, 20, 30, 40, 50, 60,\n",
       "                                                      70, 80, 90, 100, 110,\n",
       "                                                      None],\n",
       "                                        'max_features': ['auto', 'sqrt'],\n",
       "                                        'min_samples_leaf': [1, 2, 4],\n",
       "                                        'min_samples_split': [2, 5, 10],\n",
       "                                        'n_estimators': [200, 400, 600, 800,\n",
       "                                                         1000, 1200, 1400, 1600,\n",
       "                                                         1800, 2000]},\n",
       "                   random_state=0, verbose=2)"
      ]
     },
     "execution_count": 12,
     "metadata": {},
     "output_type": "execute_result"
    }
   ],
   "source": [
    "# fit the random search model on 3 cross validations with 20 iters each\n",
    "rf_random.fit(X_train, y_train)"
   ]
  },
  {
   "cell_type": "code",
   "execution_count": 13,
   "id": "smaller-treat",
   "metadata": {},
   "outputs": [
    {
     "data": {
      "text/plain": [
       "{'n_estimators': 800,\n",
       " 'min_samples_split': 2,\n",
       " 'min_samples_leaf': 2,\n",
       " 'max_features': 'auto',\n",
       " 'max_depth': 100,\n",
       " 'bootstrap': True}"
      ]
     },
     "execution_count": 13,
     "metadata": {},
     "output_type": "execute_result"
    }
   ],
   "source": [
    "# get best random search parameters\n",
    "rf_random.best_params_"
   ]
  },
  {
   "cell_type": "code",
   "execution_count": 33,
   "id": "emerging-pasta",
   "metadata": {},
   "outputs": [],
   "source": [
    "rf_opt = RandomForestRegressor(n_estimators=800, min_samples_split=2, \n",
    "                                min_samples_leaf=2, max_features='auto',\n",
    "                               max_depth=100, bootstrap=True).fit(X_train, y_train)"
   ]
  },
  {
   "cell_type": "code",
   "execution_count": 34,
   "id": "worthy-canyon",
   "metadata": {},
   "outputs": [],
   "source": [
    "y_pred_train = rf_opt.predict(X_train)\n",
    "y_pred = rf_opt.predict(X_val)\n",
    "\n",
    "acc_train = rf.score(X_train, y_train)\n",
    "acc = rf.score(X_val, y_val)\n",
    "\n",
    "rmse_train = mean_squared_error(np.exp(y_train), np.exp(y_pred_train), squared=False)\n",
    "rmse = mean_squared_error(np.exp(y_val), np.exp(y_pred), squared=False)\n",
    "\n",
    "mae_train = mean_absolute_error(np.exp(y_train), np.exp(y_pred_train))\n",
    "mae = mean_absolute_error(np.exp(y_val), np.exp(y_pred))\n",
    "\n",
    "medae_train = median_absolute_error(np.exp(y_train), np.exp(y_pred_train))\n",
    "medae = median_absolute_error(np.exp(y_val), np.exp(y_pred))"
   ]
  },
  {
   "cell_type": "code",
   "execution_count": 35,
   "id": "floral-survival",
   "metadata": {},
   "outputs": [
    {
     "name": "stdout",
     "output_type": "stream",
     "text": [
      "R^2 (Train): 0.95\n",
      "R^2 (Val): 0.68\n",
      "\n",
      "RMSE (Train): 69.97\n",
      "RMSE (Val): 115.75\n",
      "\n",
      "Mean Abs Error (Train): 24.7\n",
      "Mean Abs Error (Val): 51.38\n",
      "\n",
      "Median Absolute Error (Train): 9.26\n",
      "Median Absolute Error (Val): 23.46\n"
     ]
    }
   ],
   "source": [
    "print('R^2 (Train):', round(acc_train,2)) \n",
    "print('R^2 (Val):', round(acc,2))\n",
    "print('')\n",
    "print('RMSE (Train):', round(rmse_train,2))\n",
    "print('RMSE (Val):', round(rmse,2))\n",
    "print('')\n",
    "print('Mean Abs Error (Train):', round(mae_train,2))\n",
    "print('Mean Abs Error (Val):', round(mae,2))\n",
    "print('')\n",
    "print('Median Absolute Error (Train):', round(medae_train,2))\n",
    "print('Median Absolute Error (Val):', round(medae,2))"
   ]
  },
  {
   "cell_type": "markdown",
   "id": "amazing-immune",
   "metadata": {},
   "source": [
    "## Plotting & Interpretting Training & Validation Errors"
   ]
  },
  {
   "cell_type": "code",
   "execution_count": 36,
   "id": "front-florida",
   "metadata": {},
   "outputs": [],
   "source": [
    "import matplotlib.pyplot as plt"
   ]
  },
  {
   "cell_type": "code",
   "execution_count": 37,
   "id": "painful-honolulu",
   "metadata": {},
   "outputs": [],
   "source": [
    "diff_train = y_train - y_pred_train\n",
    "diff_val = y_val - y_pred"
   ]
  },
  {
   "cell_type": "code",
   "execution_count": 38,
   "id": "increased-assault",
   "metadata": {},
   "outputs": [
    {
     "data": {
      "image/png": "[encoded data removed]",
      "text/plain": [
       "<Figure size 432x288 with 1 Axes>"
      ]
     },
     "metadata": {
      "needs_background": "light"
     },
     "output_type": "display_data"
    }
   ],
   "source": [
    "plt.hist(diff_train, bins=40, label='train')\n",
    "plt.hist(diff_val, bins=40, label='val')\n",
    "plt.title('Distribution of model errors')\n",
    "plt.ylabel('Number of observations')\n",
    "plt.xlabel('Log Price')\n",
    "plt.legend()\n",
    "plt.show()"
   ]
  },
  {
   "cell_type": "markdown",
   "id": "vietnamese-archive",
   "metadata": {},
   "source": [
    "## US & International Training Results"
   ]
  },
  {
   "cell_type": "code",
   "execution_count": 39,
   "id": "reflected-customs",
   "metadata": {},
   "outputs": [],
   "source": [
    "# create full train set (val + existing train)\n",
    "X = pd.concat([X_train, X_val]).reset_index(drop=True)\n",
    "y = pd.concat([y_train, y_val]).reset_index(drop=True)"
   ]
  },
  {
   "cell_type": "code",
   "execution_count": 40,
   "id": "solar-browse",
   "metadata": {},
   "outputs": [],
   "source": [
    "# create test set\n",
    "y_test = us.log_price\n",
    "X_test = us.drop(columns=['log_price'])"
   ]
  },
  {
   "cell_type": "code",
   "execution_count": null,
   "id": "headed-librarian",
   "metadata": {},
   "outputs": [],
   "source": [
    "# standardize data\n",
    "# X_test = (X_test - X_train_mean)/X_train_stdev\n",
    "# X_test.fillna(0, inplace=True)\n",
    "# X_test.replace([np.inf, -np.inf], 0, inplace=True)"
   ]
  },
  {
   "cell_type": "code",
   "execution_count": 41,
   "id": "above-hindu",
   "metadata": {},
   "outputs": [],
   "source": [
    "start = time.time()\n",
    "rf_final = RandomForestRegressor(n_estimators=800, min_samples_split=2, \n",
    "                                min_samples_leaf=2, max_features='auto',\n",
    "                               max_depth=100, bootstrap=True).fit(X, y)\n",
    "end = time.time()"
   ]
  },
  {
   "cell_type": "code",
   "execution_count": 57,
   "id": "enclosed-scientist",
   "metadata": {},
   "outputs": [
    {
     "name": "stdout",
     "output_type": "stream",
     "text": [
      "Train time: 725.17\n"
     ]
    }
   ],
   "source": [
    "print('Train time:', round(end - start,2))"
   ]
  },
  {
   "cell_type": "code",
   "execution_count": 84,
   "id": "encouraging-grill",
   "metadata": {},
   "outputs": [],
   "source": [
    "y_pred_train = rf_final.predict(X)\n",
    "test_start = time.time()\n",
    "y_pred = rf_final.predict(X_test)\n",
    "test_end = time.time()\n",
    "\n",
    "acc_train = rf_final.score(X, y)\n",
    "acc = rf_final.score(X_test, y_test)\n",
    "\n",
    "rmse_train = mean_squared_error(np.exp(y), np.exp(y_pred_train), squared=False)\n",
    "rmse = mean_squared_error(np.exp(y_test), np.exp(y_pred), squared=False)\n",
    "\n",
    "mae_train = mean_absolute_error(np.exp(y), np.exp(y_pred_train))\n",
    "mae = mean_absolute_error(np.exp(y_test), np.exp(y_pred))\n",
    "\n",
    "medae_train = median_absolute_error(np.exp(y), np.exp(y_pred_train))\n",
    "medae = median_absolute_error(np.exp(y_test), np.exp(y_pred))"
   ]
  },
  {
   "cell_type": "code",
   "execution_count": 85,
   "id": "practical-economy",
   "metadata": {},
   "outputs": [
    {
     "name": "stdout",
     "output_type": "stream",
     "text": [
      "Test time: 4.81\n"
     ]
    }
   ],
   "source": [
    "print('Test time:', round(test_end - test_start,2))"
   ]
  },
  {
   "cell_type": "code",
   "execution_count": 86,
   "id": "noble-intake",
   "metadata": {},
   "outputs": [
    {
     "name": "stdout",
     "output_type": "stream",
     "text": [
      "R^2 (Train): 0.93\n",
      "R^2 (Test): 0.68\n",
      "\n",
      "RMSE (Train): 69.66\n",
      "RMSE (Test): 117.3\n",
      "\n",
      "Mean Abs Error (Train): 24.44\n",
      "Mean Abs Error (Test): 51.6\n",
      "\n",
      "Median Absolute Error (Train): 9.13\n",
      "Median Absolute Error (Test): 23.48\n"
     ]
    }
   ],
   "source": [
    "print('R^2 (Train):', round(acc_train,2)) \n",
    "print('R^2 (Test):', round(acc,2))\n",
    "print('')\n",
    "print('RMSE (Train):', round(rmse_train,2))\n",
    "print('RMSE (Test):', round(rmse,2))\n",
    "print('')\n",
    "print('Mean Abs Error (Train):', round(mae_train,2))\n",
    "print('Mean Abs Error (Test):', round(mae,2))\n",
    "print('')\n",
    "print('Median Absolute Error (Train):', round(medae_train,2))\n",
    "print('Median Absolute Error (Test):', round(medae,2))"
   ]
  },
  {
   "cell_type": "code",
   "execution_count": 59,
   "id": "serious-tomorrow",
   "metadata": {},
   "outputs": [],
   "source": [
    "# plt.hist(y_test, bins=40, label='actual')\n",
    "# plt.hist(y_pred, bins=40, label='predictions')\n",
    "# plt.title('Distribution of predictions versus actual')\n",
    "# plt.ylabel('Number of observations')\n",
    "# plt.xlabel('Log Price')\n",
    "# plt.legend()\n",
    "# plt.show()"
   ]
  },
  {
   "cell_type": "code",
   "execution_count": 45,
   "id": "embedded-senate",
   "metadata": {},
   "outputs": [
    {
     "data": {
      "image/png": "[encoded data removed]",
      "text/plain": [
       "<Figure size 432x288 with 1 Axes>"
      ]
     },
     "metadata": {
      "needs_background": "light"
     },
     "output_type": "display_data"
    }
   ],
   "source": [
    "diff_train = y - y_pred_train\n",
    "diff_test = y_test - y_pred\n",
    "\n",
    "plt.hist(diff_train, bins=40, label='train')\n",
    "plt.hist(diff_val, bins=40, label='test')\n",
    "plt.title('Distribution of model errors')\n",
    "plt.ylabel('Number of observations')\n",
    "plt.xlabel('Log Price')\n",
    "plt.legend()\n",
    "plt.show()"
   ]
  },
  {
   "cell_type": "markdown",
   "id": "abandoned-printer",
   "metadata": {},
   "source": [
    "## Import international data"
   ]
  },
  {
   "cell_type": "code",
   "execution_count": 46,
   "id": "endless-setup",
   "metadata": {},
   "outputs": [],
   "source": [
    "madrid = pd.read_csv('../data/processed/madrid-test.csv')\n",
    "london = pd.read_csv('../data/processed/london-test.csv')\n",
    "paris = pd.read_csv('../data/processed/paris-test.csv')"
   ]
  },
  {
   "cell_type": "code",
   "execution_count": 110,
   "id": "knowing-vault",
   "metadata": {},
   "outputs": [
    {
     "data": {
      "text/html": [
       "<div>\n",
       "<style scoped>\n",
       "    .dataframe tbody tr th:only-of-type {\n",
       "        vertical-align: middle;\n",
       "    }\n",
       "\n",
       "    .dataframe tbody tr th {\n",
       "        vertical-align: top;\n",
       "    }\n",
       "\n",
       "    .dataframe thead th {\n",
       "        text-align: right;\n",
       "    }\n",
       "</style>\n",
       "<table border=\"1\" class=\"dataframe\">\n",
       "  <thead>\n",
       "    <tr style=\"text-align: right;\">\n",
       "      <th></th>\n",
       "      <th>accommodates</th>\n",
       "      <th>bathrooms</th>\n",
       "      <th>host_has_profile_pic</th>\n",
       "      <th>host_identity_verified</th>\n",
       "      <th>host_response_rate</th>\n",
       "      <th>instant_bookable</th>\n",
       "      <th>number_of_reviews</th>\n",
       "      <th>review_scores_rating</th>\n",
       "      <th>thumbnail_url</th>\n",
       "      <th>bedrooms</th>\n",
       "      <th>...</th>\n",
       "      <th>x0_Tipi</th>\n",
       "      <th>x0_Townhouse</th>\n",
       "      <th>x0_Train</th>\n",
       "      <th>x0_Treehouse</th>\n",
       "      <th>x0_Vacation home</th>\n",
       "      <th>x0_Villa</th>\n",
       "      <th>x0_Yurt</th>\n",
       "      <th>x1_Entire home/apt</th>\n",
       "      <th>x1_Private room</th>\n",
       "      <th>x1_Shared room</th>\n",
       "    </tr>\n",
       "  </thead>\n",
       "  <tbody>\n",
       "    <tr>\n",
       "      <th>0</th>\n",
       "      <td>2</td>\n",
       "      <td>1.0</td>\n",
       "      <td>1</td>\n",
       "      <td>1</td>\n",
       "      <td>100.000000</td>\n",
       "      <td>0</td>\n",
       "      <td>78</td>\n",
       "      <td>98.000000</td>\n",
       "      <td>1</td>\n",
       "      <td>1.0</td>\n",
       "      <td>...</td>\n",
       "      <td>0</td>\n",
       "      <td>0.0</td>\n",
       "      <td>0</td>\n",
       "      <td>0</td>\n",
       "      <td>0</td>\n",
       "      <td>0.0</td>\n",
       "      <td>0.0</td>\n",
       "      <td>0.0</td>\n",
       "      <td>1.0</td>\n",
       "      <td>0.0</td>\n",
       "    </tr>\n",
       "    <tr>\n",
       "      <th>1</th>\n",
       "      <td>1</td>\n",
       "      <td>1.0</td>\n",
       "      <td>1</td>\n",
       "      <td>1</td>\n",
       "      <td>83.129967</td>\n",
       "      <td>0</td>\n",
       "      <td>33</td>\n",
       "      <td>92.000000</td>\n",
       "      <td>1</td>\n",
       "      <td>1.0</td>\n",
       "      <td>...</td>\n",
       "      <td>0</td>\n",
       "      <td>0.0</td>\n",
       "      <td>0</td>\n",
       "      <td>0</td>\n",
       "      <td>0</td>\n",
       "      <td>0.0</td>\n",
       "      <td>0.0</td>\n",
       "      <td>0.0</td>\n",
       "      <td>1.0</td>\n",
       "      <td>0.0</td>\n",
       "    </tr>\n",
       "    <tr>\n",
       "      <th>2</th>\n",
       "      <td>6</td>\n",
       "      <td>2.0</td>\n",
       "      <td>1</td>\n",
       "      <td>1</td>\n",
       "      <td>89.000000</td>\n",
       "      <td>0</td>\n",
       "      <td>0</td>\n",
       "      <td>92.569712</td>\n",
       "      <td>1</td>\n",
       "      <td>3.0</td>\n",
       "      <td>...</td>\n",
       "      <td>0</td>\n",
       "      <td>0.0</td>\n",
       "      <td>0</td>\n",
       "      <td>0</td>\n",
       "      <td>0</td>\n",
       "      <td>0.0</td>\n",
       "      <td>0.0</td>\n",
       "      <td>1.0</td>\n",
       "      <td>0.0</td>\n",
       "      <td>0.0</td>\n",
       "    </tr>\n",
       "    <tr>\n",
       "      <th>3</th>\n",
       "      <td>3</td>\n",
       "      <td>1.0</td>\n",
       "      <td>1</td>\n",
       "      <td>1</td>\n",
       "      <td>100.000000</td>\n",
       "      <td>1</td>\n",
       "      <td>10</td>\n",
       "      <td>98.000000</td>\n",
       "      <td>1</td>\n",
       "      <td>1.0</td>\n",
       "      <td>...</td>\n",
       "      <td>0</td>\n",
       "      <td>0.0</td>\n",
       "      <td>0</td>\n",
       "      <td>0</td>\n",
       "      <td>0</td>\n",
       "      <td>0.0</td>\n",
       "      <td>0.0</td>\n",
       "      <td>1.0</td>\n",
       "      <td>0.0</td>\n",
       "      <td>0.0</td>\n",
       "    </tr>\n",
       "    <tr>\n",
       "      <th>4</th>\n",
       "      <td>4</td>\n",
       "      <td>1.5</td>\n",
       "      <td>1</td>\n",
       "      <td>0</td>\n",
       "      <td>83.129967</td>\n",
       "      <td>0</td>\n",
       "      <td>68</td>\n",
       "      <td>98.000000</td>\n",
       "      <td>1</td>\n",
       "      <td>2.0</td>\n",
       "      <td>...</td>\n",
       "      <td>0</td>\n",
       "      <td>0.0</td>\n",
       "      <td>0</td>\n",
       "      <td>0</td>\n",
       "      <td>0</td>\n",
       "      <td>0.0</td>\n",
       "      <td>0.0</td>\n",
       "      <td>1.0</td>\n",
       "      <td>0.0</td>\n",
       "      <td>0.0</td>\n",
       "    </tr>\n",
       "    <tr>\n",
       "      <th>...</th>\n",
       "      <td>...</td>\n",
       "      <td>...</td>\n",
       "      <td>...</td>\n",
       "      <td>...</td>\n",
       "      <td>...</td>\n",
       "      <td>...</td>\n",
       "      <td>...</td>\n",
       "      <td>...</td>\n",
       "      <td>...</td>\n",
       "      <td>...</td>\n",
       "      <td>...</td>\n",
       "      <td>...</td>\n",
       "      <td>...</td>\n",
       "      <td>...</td>\n",
       "      <td>...</td>\n",
       "      <td>...</td>\n",
       "      <td>...</td>\n",
       "      <td>...</td>\n",
       "      <td>...</td>\n",
       "      <td>...</td>\n",
       "      <td>...</td>\n",
       "    </tr>\n",
       "    <tr>\n",
       "      <th>20144</th>\n",
       "      <td>2</td>\n",
       "      <td>1.0</td>\n",
       "      <td>1</td>\n",
       "      <td>0</td>\n",
       "      <td>100.000000</td>\n",
       "      <td>1</td>\n",
       "      <td>0</td>\n",
       "      <td>92.569712</td>\n",
       "      <td>1</td>\n",
       "      <td>1.0</td>\n",
       "      <td>...</td>\n",
       "      <td>0</td>\n",
       "      <td>0.0</td>\n",
       "      <td>0</td>\n",
       "      <td>0</td>\n",
       "      <td>0</td>\n",
       "      <td>0.0</td>\n",
       "      <td>0.0</td>\n",
       "      <td>1.0</td>\n",
       "      <td>0.0</td>\n",
       "      <td>0.0</td>\n",
       "    </tr>\n",
       "    <tr>\n",
       "      <th>20145</th>\n",
       "      <td>6</td>\n",
       "      <td>1.0</td>\n",
       "      <td>1</td>\n",
       "      <td>1</td>\n",
       "      <td>100.000000</td>\n",
       "      <td>1</td>\n",
       "      <td>0</td>\n",
       "      <td>92.569712</td>\n",
       "      <td>1</td>\n",
       "      <td>3.0</td>\n",
       "      <td>...</td>\n",
       "      <td>0</td>\n",
       "      <td>0.0</td>\n",
       "      <td>0</td>\n",
       "      <td>0</td>\n",
       "      <td>0</td>\n",
       "      <td>0.0</td>\n",
       "      <td>0.0</td>\n",
       "      <td>1.0</td>\n",
       "      <td>0.0</td>\n",
       "      <td>0.0</td>\n",
       "    </tr>\n",
       "    <tr>\n",
       "      <th>20146</th>\n",
       "      <td>5</td>\n",
       "      <td>2.0</td>\n",
       "      <td>1</td>\n",
       "      <td>1</td>\n",
       "      <td>100.000000</td>\n",
       "      <td>0</td>\n",
       "      <td>0</td>\n",
       "      <td>92.569712</td>\n",
       "      <td>1</td>\n",
       "      <td>3.0</td>\n",
       "      <td>...</td>\n",
       "      <td>0</td>\n",
       "      <td>0.0</td>\n",
       "      <td>0</td>\n",
       "      <td>0</td>\n",
       "      <td>0</td>\n",
       "      <td>0.0</td>\n",
       "      <td>0.0</td>\n",
       "      <td>1.0</td>\n",
       "      <td>0.0</td>\n",
       "      <td>0.0</td>\n",
       "    </tr>\n",
       "    <tr>\n",
       "      <th>20147</th>\n",
       "      <td>3</td>\n",
       "      <td>1.0</td>\n",
       "      <td>1</td>\n",
       "      <td>0</td>\n",
       "      <td>83.129967</td>\n",
       "      <td>1</td>\n",
       "      <td>0</td>\n",
       "      <td>92.569712</td>\n",
       "      <td>1</td>\n",
       "      <td>1.0</td>\n",
       "      <td>...</td>\n",
       "      <td>0</td>\n",
       "      <td>0.0</td>\n",
       "      <td>0</td>\n",
       "      <td>0</td>\n",
       "      <td>0</td>\n",
       "      <td>0.0</td>\n",
       "      <td>0.0</td>\n",
       "      <td>1.0</td>\n",
       "      <td>0.0</td>\n",
       "      <td>0.0</td>\n",
       "    </tr>\n",
       "    <tr>\n",
       "      <th>20148</th>\n",
       "      <td>1</td>\n",
       "      <td>1.0</td>\n",
       "      <td>1</td>\n",
       "      <td>0</td>\n",
       "      <td>83.129967</td>\n",
       "      <td>1</td>\n",
       "      <td>0</td>\n",
       "      <td>92.569712</td>\n",
       "      <td>1</td>\n",
       "      <td>1.0</td>\n",
       "      <td>...</td>\n",
       "      <td>0</td>\n",
       "      <td>0.0</td>\n",
       "      <td>0</td>\n",
       "      <td>0</td>\n",
       "      <td>0</td>\n",
       "      <td>0.0</td>\n",
       "      <td>0.0</td>\n",
       "      <td>0.0</td>\n",
       "      <td>1.0</td>\n",
       "      <td>0.0</td>\n",
       "    </tr>\n",
       "  </tbody>\n",
       "</table>\n",
       "<p>20149 rows × 104 columns</p>\n",
       "</div>"
      ],
      "text/plain": [
       "       accommodates  bathrooms  host_has_profile_pic  host_identity_verified  \\\n",
       "0                 2        1.0                     1                       1   \n",
       "1                 1        1.0                     1                       1   \n",
       "2                 6        2.0                     1                       1   \n",
       "3                 3        1.0                     1                       1   \n",
       "4                 4        1.5                     1                       0   \n",
       "...             ...        ...                   ...                     ...   \n",
       "20144             2        1.0                     1                       0   \n",
       "20145             6        1.0                     1                       1   \n",
       "20146             5        2.0                     1                       1   \n",
       "20147             3        1.0                     1                       0   \n",
       "20148             1        1.0                     1                       0   \n",
       "\n",
       "       host_response_rate  instant_bookable  number_of_reviews  \\\n",
       "0              100.000000                 0                 78   \n",
       "1               83.129967                 0                 33   \n",
       "2               89.000000                 0                  0   \n",
       "3              100.000000                 1                 10   \n",
       "4               83.129967                 0                 68   \n",
       "...                   ...               ...                ...   \n",
       "20144          100.000000                 1                  0   \n",
       "20145          100.000000                 1                  0   \n",
       "20146          100.000000                 0                  0   \n",
       "20147           83.129967                 1                  0   \n",
       "20148           83.129967                 1                  0   \n",
       "\n",
       "       review_scores_rating  thumbnail_url  bedrooms  ...  x0_Tipi  \\\n",
       "0                 98.000000              1       1.0  ...        0   \n",
       "1                 92.000000              1       1.0  ...        0   \n",
       "2                 92.569712              1       3.0  ...        0   \n",
       "3                 98.000000              1       1.0  ...        0   \n",
       "4                 98.000000              1       2.0  ...        0   \n",
       "...                     ...            ...       ...  ...      ...   \n",
       "20144             92.569712              1       1.0  ...        0   \n",
       "20145             92.569712              1       3.0  ...        0   \n",
       "20146             92.569712              1       3.0  ...        0   \n",
       "20147             92.569712              1       1.0  ...        0   \n",
       "20148             92.569712              1       1.0  ...        0   \n",
       "\n",
       "       x0_Townhouse  x0_Train  x0_Treehouse  x0_Vacation home  x0_Villa  \\\n",
       "0               0.0         0             0                 0       0.0   \n",
       "1               0.0         0             0                 0       0.0   \n",
       "2               0.0         0             0                 0       0.0   \n",
       "3               0.0         0             0                 0       0.0   \n",
       "4               0.0         0             0                 0       0.0   \n",
       "...             ...       ...           ...               ...       ...   \n",
       "20144           0.0         0             0                 0       0.0   \n",
       "20145           0.0         0             0                 0       0.0   \n",
       "20146           0.0         0             0                 0       0.0   \n",
       "20147           0.0         0             0                 0       0.0   \n",
       "20148           0.0         0             0                 0       0.0   \n",
       "\n",
       "       x0_Yurt  x1_Entire home/apt  x1_Private room  x1_Shared room  \n",
       "0          0.0                 0.0              1.0             0.0  \n",
       "1          0.0                 0.0              1.0             0.0  \n",
       "2          0.0                 1.0              0.0             0.0  \n",
       "3          0.0                 1.0              0.0             0.0  \n",
       "4          0.0                 1.0              0.0             0.0  \n",
       "...        ...                 ...              ...             ...  \n",
       "20144      0.0                 1.0              0.0             0.0  \n",
       "20145      0.0                 1.0              0.0             0.0  \n",
       "20146      0.0                 1.0              0.0             0.0  \n",
       "20147      0.0                 1.0              0.0             0.0  \n",
       "20148      0.0                 0.0              1.0             0.0  \n",
       "\n",
       "[20149 rows x 104 columns]"
      ]
     },
     "execution_count": 110,
     "metadata": {},
     "output_type": "execute_result"
    }
   ],
   "source": [
    "madrid[X.columns]"
   ]
  },
  {
   "cell_type": "code",
   "execution_count": 47,
   "id": "danish-swift",
   "metadata": {},
   "outputs": [],
   "source": [
    "madrid_y = madrid.log_price\n",
    "madrid_X = madrid.drop(columns=['log_price'])\n",
    "\n",
    "london_y = london.log_price\n",
    "london_X = london.drop(columns=['log_price'])\n",
    "\n",
    "paris_y = paris.log_price\n",
    "paris_X = paris.drop(columns=['log_price'])"
   ]
  },
  {
   "cell_type": "code",
   "execution_count": null,
   "id": "dress-preservation",
   "metadata": {},
   "outputs": [],
   "source": [
    "# # standardize madrid data\n",
    "# madrid_X = (madrid_X - X_train_mean)/X_train_stdev\n",
    "# madrid_X.fillna(0, inplace=True)\n",
    "# madrid_X.replace([np.inf, -np.inf], 0, inplace=True)\n",
    "\n",
    "# # standardize london data\n",
    "# london_X = (london_X - X_train_mean)/X_train_stdev\n",
    "# london_X.fillna(0, inplace=True)\n",
    "# london_X.replace([np.inf, -np.inf], 0, inplace=True)\n",
    "\n",
    "# # standardize madrid data\n",
    "# paris_X = (paris_X - X_train_mean)/X_train_stdev\n",
    "# paris_X.fillna(0, inplace=True)\n",
    "# paris_X.replace([np.inf, -np.inf], 0, inplace=True)"
   ]
  },
  {
   "cell_type": "markdown",
   "id": "specialized-confirmation",
   "metadata": {},
   "source": [
    "#### Madrid"
   ]
  },
  {
   "cell_type": "code",
   "execution_count": 81,
   "id": "dense-providence",
   "metadata": {},
   "outputs": [],
   "source": [
    "mad_start = time.time()\n",
    "y_pred = rf_final.predict(madrid_X)\n",
    "mad_end = time.time()\n",
    "\n",
    "acc = rf_final.score(madrid_X, madrid_y)\n",
    "\n",
    "rmse = mean_squared_error(np.exp(madrid_y), np.exp(y_pred), squared=False)\n",
    "\n",
    "mae = mean_absolute_error(np.exp(madrid_y), np.exp(y_pred))\n",
    "\n",
    "medae = median_absolute_error(np.exp(madrid_y), np.exp(y_pred))"
   ]
  },
  {
   "cell_type": "code",
   "execution_count": 82,
   "id": "successful-yugoslavia",
   "metadata": {},
   "outputs": [
    {
     "name": "stdout",
     "output_type": "stream",
     "text": [
      "Test Time (madrid): 3.02\n",
      "\n",
      "R^2 (Madrid): -0.17\n",
      "\n",
      "RMSE (Madrid): 454.46\n",
      "\n",
      "Mean Abs Error (Madrid): 107.09\n",
      "\n",
      "Median Absolute Error (Madrid): 54.61\n"
     ]
    }
   ],
   "source": [
    "print('Test Time (madrid):', round(mad_end-mad_start,2))\n",
    "print('')\n",
    "print('R^2 (Madrid):', round(acc,2))\n",
    "print('')\n",
    "print('RMSE (Madrid):', round(rmse,2))\n",
    "print('')\n",
    "print('Mean Abs Error (Madrid):', round(mae,2))\n",
    "print('')\n",
    "print('Median Absolute Error (Madrid):', round(medae,2))"
   ]
  },
  {
   "cell_type": "markdown",
   "id": "suburban-radio",
   "metadata": {},
   "source": [
    "#### London"
   ]
  },
  {
   "cell_type": "code",
   "execution_count": 96,
   "id": "affiliated-samoa",
   "metadata": {},
   "outputs": [],
   "source": [
    "lon_start = time.time()\n",
    "y_pred = rf_final.predict(london_X)\n",
    "lon_end = time.time()\n",
    "\n",
    "acc = rf_final.score(london_X, london_y)\n",
    "\n",
    "rmse = mean_squared_error(np.exp(london_y), np.exp(y_pred), squared=False)\n",
    "\n",
    "mae = mean_absolute_error(np.exp(london_y), np.exp(y_pred))\n",
    "\n",
    "medae = median_absolute_error(np.exp(london_y), np.exp(y_pred))"
   ]
  },
  {
   "cell_type": "code",
   "execution_count": 97,
   "id": "proved-danish",
   "metadata": {},
   "outputs": [
    {
     "name": "stdout",
     "output_type": "stream",
     "text": [
      "Test Time (London): 10.65\n",
      "\n",
      "R^2 (London): 0.24\n",
      "\n",
      "RMSE (London): 311.12\n",
      "\n",
      "Mean Abs Error (London): 62.4\n",
      "\n",
      "Median Absolute Error (London): 28.54\n"
     ]
    }
   ],
   "source": [
    "print('Test Time (London):', round(lon_end-lon_start,2))\n",
    "print('')\n",
    "print('R^2 (London):', round(acc,2))\n",
    "print('')\n",
    "print('RMSE (London):', round(rmse,2))\n",
    "print('')\n",
    "print('Mean Abs Error (London):', round(mae,2))\n",
    "print('')\n",
    "print('Median Absolute Error (London):', round(medae,2))"
   ]
  },
  {
   "cell_type": "markdown",
   "id": "different-garlic",
   "metadata": {},
   "source": [
    "#### Paris"
   ]
  },
  {
   "cell_type": "code",
   "execution_count": 98,
   "id": "copyrighted-intensity",
   "metadata": {},
   "outputs": [],
   "source": [
    "paris_start = time.time()\n",
    "y_pred = rf_final.predict(paris_X)\n",
    "paris_end = time.time()\n",
    "\n",
    "acc = rf_final.score(paris_X, paris_y)\n",
    "\n",
    "rmse = mean_squared_error(np.exp(paris_y), np.exp(y_pred), squared=False)\n",
    "\n",
    "mae = mean_absolute_error(np.exp(paris_y), np.exp(y_pred))\n",
    "\n",
    "medae = median_absolute_error(np.exp(paris_y), np.exp(y_pred))"
   ]
  },
  {
   "cell_type": "code",
   "execution_count": 99,
   "id": "above-savage",
   "metadata": {},
   "outputs": [
    {
     "name": "stdout",
     "output_type": "stream",
     "text": [
      "Test Time (Paris): 6.97\n",
      "\n",
      "R^2 (Paris): -0.07\n",
      "\n",
      "RMSE (Paris): 211.46\n",
      "\n",
      "Mean Abs Error (Paris): 62.86\n",
      "\n",
      "Median Absolute Error (Paris): 41.31\n"
     ]
    }
   ],
   "source": [
    "print('Test Time (Paris):', round(paris_end-paris_start,2))\n",
    "print('')\n",
    "print('R^2 (Paris):', round(acc,2))\n",
    "print('')\n",
    "print('RMSE (Paris):', round(rmse,2))\n",
    "print('')\n",
    "print('Mean Abs Error (Paris):', round(mae,2))\n",
    "print('')\n",
    "print('Median Absolute Error (Paris):', round(medae,2))"
   ]
  },
  {
   "cell_type": "markdown",
   "id": "motivated-inquiry",
   "metadata": {},
   "source": [
    "#### International"
   ]
  },
  {
   "cell_type": "code",
   "execution_count": 60,
   "id": "congressional-homework",
   "metadata": {},
   "outputs": [],
   "source": [
    "international_X = pd.concat([madrid_X, london_X, paris_X])\n",
    "international_y = pd.concat([madrid_y, london_y, paris_y])"
   ]
  },
  {
   "cell_type": "code",
   "execution_count": 100,
   "id": "advisory-airline",
   "metadata": {},
   "outputs": [],
   "source": [
    "int_start = time.time()\n",
    "y_pred = rf_final.predict(international_X)\n",
    "int_end = time.time()\n",
    "\n",
    "acc = rf_final.score(international_X, international_y)\n",
    "\n",
    "rmse = mean_squared_error(np.exp(international_y), np.exp(y_pred), squared=False)\n",
    "\n",
    "mae = mean_absolute_error(np.exp(international_y), np.exp(y_pred))\n",
    "\n",
    "medae = median_absolute_error(np.exp(international_y), np.exp(y_pred))"
   ]
  },
  {
   "cell_type": "code",
   "execution_count": 101,
   "id": "perceived-leave",
   "metadata": {},
   "outputs": [
    {
     "name": "stdout",
     "output_type": "stream",
     "text": [
      "Test Time (Int): 20.28\n",
      "\n",
      "R^2 (Int): 0.1\n",
      "\n",
      "RMSE (Int): 299.4\n",
      "\n",
      "Mean Abs Error (Int): 67.75\n",
      "\n",
      "Median Absolute Error (Int): 35.74\n"
     ]
    }
   ],
   "source": [
    "print('Test Time (Int):', round(int_end-int_start,2))\n",
    "print('')\n",
    "print('R^2 (Int):', round(acc,2))\n",
    "print('')\n",
    "print('RMSE (Int):', round(rmse,2))\n",
    "print('')\n",
    "print('Mean Abs Error (Int):', round(mae,2))\n",
    "print('')\n",
    "print('Median Absolute Error (Int):', round(medae,2))"
   ]
  },
  {
   "cell_type": "code",
   "execution_count": 108,
   "id": "sought-maximum",
   "metadata": {},
   "outputs": [
    {
     "data": {
      "image/png": "[encoded data removed]",
      "text/plain": [
       "<Figure size 432x288 with 1 Axes>"
      ]
     },
     "metadata": {
      "needs_background": "light"
     },
     "output_type": "display_data"
    }
   ],
   "source": [
    "plt.hist(y, bins=30, label='Training Data USA', alpha = 0.7)\n",
    "plt.hist(international_y, bins=30, label='International Actual', alpha = 0.7)\n",
    "plt.hist(y_pred, bins=30, label='International Predictions', alpha = 0.7)\n",
    "plt.title('Distribution of predictions versus actual')\n",
    "plt.ylabel('Number of observations')\n",
    "plt.xlabel('Log Price')\n",
    "plt.legend()\n",
    "plt.show()"
   ]
  }
 ],
 "metadata": {
  "kernelspec": {
   "display_name": "Python 3",
   "language": "python",
   "name": "python3"
  },
  "language_info": {
   "codemirror_mode": {
    "name": "ipython",
    "version": 3
   },
   "file_extension": ".py",
   "mimetype": "text/x-python",
   "name": "python",
   "nbconvert_exporter": "python",
   "pygments_lexer": "ipython3",
   "version": "3.7.7"
  }
 },
 "nbformat": 4,
 "nbformat_minor": 5
}
